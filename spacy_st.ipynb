{
 "cells": [
  {
   "cell_type": "code",
   "execution_count": 1,
   "metadata": {},
   "outputs": [],
   "source": [
    "import spacy as spacy\n",
    "import json \n",
    "from main import pdfDocToStringEn, fixRandomSubstitutions\n",
    "from spacy.matcher import Matcher \n",
    "from spacy.tokens import Span#, DocBin "
   ]
  },
  {
   "cell_type": "code",
   "execution_count": 2,
   "metadata": {},
   "outputs": [],
   "source": [
    "nlp = spacy.blank('en')\n",
    "\n",
    "fName = r\"F:\\Python\\OCR_diploma\\docs_base\\StauffInvoices\\92922860.txt\"\n",
    "fName = r\"F:\\Python\\OCR_diploma\\docs_base\\StauffInvoices\\92946889.pdf\"\n",
    "strSeparator = '\\n#########################################################\\n'\n",
    "fTextName = fName.replace('.pdf', '.txt')"
   ]
  },
  {
   "cell_type": "code",
   "execution_count": null,
   "metadata": {},
   "outputs": [],
   "source": [
    "text = pdfDocToStringEn(fName)\n",
    "with open(fTextName, encoding=\"utf8\", mode='w') as f:\n",
    "    f.write(text)"
   ]
  },
  {
   "cell_type": "code",
   "execution_count": 3,
   "metadata": {},
   "outputs": [],
   "source": [
    "with open(fTextName, encoding=\"utf8\") as f:\n",
    "    text = f.read()"
   ]
  },
  {
   "cell_type": "code",
   "execution_count": 52,
   "metadata": {},
   "outputs": [
    {
     "name": "stdout",
     "output_type": "stream",
     "text": [
      "Article code Price EUR Unit Amount EUR \n",
      " Description\n"
     ]
    }
   ],
   "source": [
    "#unused\n",
    "ttxt = \"Qty/Unit Article code Price EUR Unit Amount EUR \\n Description\" #.replace('\\n', '')\n",
    "docDesc = nlp(fixRandomSubstitutions(ttxt))\n",
    "#for w in docDesc:  print(w)\n",
    "pattern4_1 = [\n",
    "    {'LOWER':'article'},\n",
    "    {'LOWER':'code'}, \n",
    "    {'LOWER':'price'}, \n",
    "    {'LOWER':'eur'},\n",
    "    {'LOWER':'unit'},\n",
    "    {'LOWER':'amount'},\n",
    "    {'LOWER':'eur'},\n",
    "    {'IS_ALPHA': False, 'OP' : '?'},\n",
    "    {'LOWER':'description'}\n",
    "    ]\n",
    "matcher = Matcher(nlp.vocab)\n",
    "matcher.add('STARTPAGE', [pattern4_1])\n",
    "matches = matcher(docDesc)\n",
    "spans = [Span(docDesc, start, end, label=match_id) for match_id, start, end in matches]\n",
    "for span in spans:\n",
    "    print(span.text)"
   ]
  },
  {
   "cell_type": "code",
   "execution_count": 4,
   "metadata": {},
   "outputs": [],
   "source": [
    "def shortening(text, verbose = True):\n",
    "    nlp = spacy.blank(\"en\")\n",
    "\n",
    "    doc = nlp(text)\n",
    "\n",
    "    matcher = Matcher(nlp.vocab)\n",
    "\n",
    "    pattern3 = [\n",
    "        {'LOWER':'CONTRIBUTING'.lower()},\n",
    "        {'LOWER':'TO'.lower()}, \n",
    "        {'LOWER':'YOUR'.lower()}, \n",
    "        {'LOWER':'SUCCESS'.lower()}\n",
    "        ]\n",
    "    matcher.add('ENDPAGE', [pattern3])\n",
    "\n",
    "    pattern4 = [\n",
    "        {'LOWER':'article'},\n",
    "        {'LOWER':'code'}, \n",
    "        {'LOWER':'price'}, \n",
    "        {'LOWER':'eur'},\n",
    "        {'LOWER':'unit'},\n",
    "        {'LOWER':'amount'},\n",
    "        {'LOWER':'eur'},\n",
    "        {'TEXT':'\\n', 'OP' : '?'},\n",
    "        {'LOWER':'description'}\n",
    "    ]\n",
    "        #Article code Price EUR Unit Amount EUR Description\n",
    "    pattern4_1 = [\n",
    "        {'LOWER':'article'},\n",
    "        {'LOWER':'code'}, \n",
    "        {'LOWER':'price'}, \n",
    "        {'LOWER':'eur'},\n",
    "        {'LOWER':'unit'},\n",
    "        {'LOWER':'amount'},\n",
    "        {'LOWER':'eur'},\n",
    "        {'IS_ALPHA': False, 'OP' : '?'},\n",
    "        {'LOWER':'description'}\n",
    "    ]\n",
    "\n",
    "    pattern4_2 = [{'LOWER':'russische'}, {'LOWER':'foed'}]\n",
    "    matcher.add('STARTPAGE', [pattern4, pattern4_1, pattern4_2])\n",
    "    matcher.add('STARTPAGE', [pattern4_1])\n",
    "\n",
    "    pattern5  = [\n",
    "        {'LOWER':'doc.no'},\n",
    "        {'LOWER':'.'},\n",
    "        {'LOWER':'/'},\n",
    "        {'LOWER':'date'},\n",
    "        {'LOWER':'page'}\n",
    "    ]\n",
    "    \n",
    "    pattern6  = [\n",
    "        {'LOWER':'doc.по'},\n",
    "        {'LOWER':'.'},\n",
    "        {'LOWER':'/'},\n",
    "        {'LOWER':'date'},\n",
    "        {'LOWER':'page'}\n",
    "    ] \n",
    "    matcher.add('ABOUTNOPAGE', [pattern5, pattern6])\n",
    "\n",
    "    doc = nlp(text)\n",
    "\n",
    "    matches = matcher(doc)\n",
    "    spans = [Span(doc, start, end, label=match_id) for match_id, start, end in matches]\n",
    "\n",
    "    paging = []\n",
    "\n",
    "    pageinfo = {'ABOUTNOPAGE':0, 'STARTPAGE':0, 'ENDPAGE':0}\n",
    "    shortenText = ''\n",
    "    firstPage = True\n",
    "    txt = '''import spacy\n",
    "    from spacy.tokens import Span\n",
    "\n",
    "    nlp = spacy.blank(\"en\")\\n'''\n",
    "    docs  = []\n",
    "    npage = 0\n",
    "    for sp in spans:\n",
    "        if sp.label_  == 'ABOUTNOPAGE':\n",
    "            pageinfo[sp.label_] = sp.end\n",
    "        elif sp.label_  == 'STARTPAGE':\n",
    "            pageinfo[sp.label_] = sp.end\n",
    "            #print(sp.text)\n",
    "        elif sp.label_  == 'ENDPAGE':\n",
    "            pageinfo[sp.label_] = sp.start\n",
    "            paging.append(pageinfo)\n",
    "            \n",
    "            if firstPage ==True:\n",
    "                shortenText = doc[:pageinfo['ENDPAGE']].text\n",
    "                firstPage = False\n",
    "                docs.append(doc[:pageinfo['ENDPAGE']].text)\n",
    "                txt = txt + strSeparator + doc[:pageinfo['ENDPAGE']].text \n",
    "            else:\n",
    "                shortenText = shortenText +  doc[pageinfo['STARTPAGE']:pageinfo['ENDPAGE']].text\n",
    "                docs.append(doc[pageinfo['STARTPAGE']:pageinfo['ENDPAGE']].text)\n",
    "                if verbose: print(pageinfo, pageinfo['ENDPAGE'] - pageinfo['STARTPAGE'])\n",
    "                txt = txt + strSeparator + doc[pageinfo['STARTPAGE']:pageinfo['ENDPAGE']].text \n",
    "\n",
    "                #print(doc[pageinfo['STARTPAGE']:pageinfo['ENDPAGE']].text)\n",
    "                #break\n",
    "            pageinfo = {'ABOUTNOPAGE':0, 'STARTPAGE':0, 'ENDPAGE':0}\n",
    "            npage += 1\n",
    "\n",
    "        #print(pageinfo)\n",
    "    #print(txt)\n",
    "    if verbose: print(len(paging))\n",
    "    return txt"
   ]
  },
  {
   "cell_type": "code",
   "execution_count": 5,
   "metadata": {},
   "outputs": [],
   "source": [
    "txt = shortening(fixRandomSubstitutions(text), verbose=False)\n",
    "txt = txt.replace('\\n\\n',' ').replace('  ', ' ')\n",
    "#print(txt.replace('\\n\\n',' ').replace('  ', ' '))\n",
    "with open(fTextName.replace('.txt', 's.txt'), encoding=\"utf8\", mode='w') as f:\n",
    "    f.write(txt)"
   ]
  },
  {
   "cell_type": "code",
   "execution_count": 20,
   "metadata": {},
   "outputs": [
    {
     "name": "stdout",
     "output_type": "stream",
     "text": [
      "17542\n",
      "0\n"
     ]
    }
   ],
   "source": [
    "#unused\n",
    "with open(fTextName.replace('.txt', 's.txt'), encoding=\"utf8\") as f:     \n",
    "    rtest = f.read()\n",
    "nlp = spacy.blank(\"en\")\n",
    "rtest = rtest.replace(strSeparator, '').replace('\\n\\n', ' ').replace('  ', ' ')\n",
    "with open(fTextName.replace('.txt', 'ls.txt'), encoding=\"utf8\", mode='w') as f:     \n",
    "    #rtest = f.read()\n",
    "    f.write(rtest)\n",
    "exit\n",
    "doc1 = nlp(rtest.replace(strSeparator, ''))\n",
    "\n",
    "print(len(doc1))\n",
    "col = 10\n",
    "cc = col\n",
    "lst = []\n",
    "row = []\n",
    "nrow = 0\n",
    "txt = ''\n",
    "for d in doc1:\n",
    "    lst.append(d)\n",
    "    txt += d.text + '\\n'\n",
    "    continue\n",
    "    cc -=1\n",
    "    row.append(d)\n",
    "    if cc == 0:\n",
    "        lst.append(row)\n",
    "        row = []\n",
    "        cc = col\n",
    "        nrow +=1\n",
    "        #break\n",
    "    \n",
    "if not len(row) == 0:\n",
    "    lst.append(row)\n",
    "print(nrow)\n",
    "        \n",
    "len(lst[0])\n",
    "with open(fTextName.replace('.txt', 'ls.txt'), encoding=\"utf8\", mode='w') as f:     \n",
    "    #rtest = f.read()\n",
    "    f.write(txt)\n",
    "\n"
   ]
  },
  {
   "cell_type": "code",
   "execution_count": 5,
   "metadata": {},
   "outputs": [],
   "source": [
    "def fixRandomSubstitutions(text):\n",
    "    text = text.replace('А', 'A').replace('В', 'B').replace('С', 'C').replace('Е', 'E').replace('Н', 'H')\n",
    "    text = text.replace('К', 'K').replace('М', 'M').replace('О', 'O').replace('Р', 'P').replace('Т', 'T').replace('Х', 'X')\n",
    "    text = text.replace('а', 'a').replace('с', 'c').replace('е', 'e').replace('о', 'o').replace('р', 'p')\n",
    "    text = text.replace('п', 'n').replace('х', 'x')\n",
    "    return text\n"
   ]
  },
  {
   "cell_type": "code",
   "execution_count": 6,
   "metadata": {},
   "outputs": [
    {
     "data": {
      "text/plain": [
       "'ACKOHA'"
      ]
     },
     "execution_count": 6,
     "metadata": {},
     "output_type": "execute_result"
    }
   ],
   "source": [
    "fixRandomSubstitutions('АСКОНА')"
   ]
  },
  {
   "cell_type": "code",
   "execution_count": null,
   "metadata": {},
   "outputs": [],
   "source": [
    "lst"
   ]
  },
  {
   "cell_type": "code",
   "execution_count": null,
   "metadata": {},
   "outputs": [],
   "source": [
    "rtest = '''\n",
    "Order number: 2378632\n",
    "Purchase order number: N SR-1-06 1772 2400 25 PC 1120002537 38,09 100 PC 9,52\n",
    "SP-2D-M-W2\n",
    "SP 2 DM W2 packed per each item Product description: weld plate Export - Customs tariff no.: 73269098\n",
    "Country of origin: Germany Material Surcharge 11,40 % 1,09\n",
    "10,61\n",
    "Order number: 2380831\n",
    "Purchase order number: N SR-1-06 1808\n",
    "2500 150 PC 1020023990 42,38 1 PC 6.357 ,00 SN-045-E-20-B/4 SN-045E20B/4 packed per each item Product description: filter element\n",
    "Export - Customs tariff no.: 84219990\n",
    "Country of origin: Germany Material Surcharge 8,90 % 565,77\n",
    "6.922,77\n",
    "EAC - Eurasian Conformity\n",
    "'''\n",
    "\n",
    "#with open(fName.replace('.txt', 's.txt'), encoding=\"utf8\") as f:     \n",
    "#   rtest = f.read()\n",
    "\n",
    "nlp = spacy.blank(\"en\")\n",
    "matcher = Matcher(nlp.vocab)\n",
    "patternTariff = [{'LOWER': 'customs'}, \n",
    "    {'LOWER':'tariff'}, \n",
    "    {'IS_ALPHA': True},\n",
    "    {'IS_PUNCT': True, 'OP': '*'}, \n",
    "    #{'LOWER': '.'},\n",
    "    #{'LOWER': ':'}, \n",
    "    {'IS_DIGIT': True}]\n",
    "matcher.add('PTRTARIFF', [patternTariff])\n",
    "\n",
    "patternPC = [{'LIKE_NUM': True}, {'LIKE_NUM': True},\n",
    "    {'LOWER' : {'in' : ['pc', 'рс']}},\n",
    "    {'LIKE_NUM':True}    ] \n",
    "\n",
    "matcher.add('PTROFPC', [patternPC])\n",
    "\n",
    "doc1 = nlp(rtest)\n",
    "ldoc = []\n",
    "n  = 10\n",
    "for d in doc1:\n",
    "    if n == 10:\n",
    "\n",
    "print(\"11:\", [token.text for token in doc1[5:24]])\n",
    "matches = matcher(doc1)\n",
    "spans = [Span(doc1, start, end, label=match_id) for match_id, start, end in matches]\n",
    "maxcol = 0\n",
    "curcol = 0\n",
    "for sp in doc1:\n",
    "    #print(sp.text)\n",
    "    curcol +=1\n",
    "    if '\\n' in sp.text:\n",
    "        maxcol = max(maxcol, curcol) \n",
    "        curcol = 0\n",
    "    \n",
    "\n",
    "print(maxcol)"
   ]
  },
  {
   "cell_type": "code",
   "execution_count": null,
   "metadata": {},
   "outputs": [],
   "source": [
    "# add material surcharge\n",
    "\n",
    "#with open(fName.replace('.txt', 's.txt'), encoding=\"utf8\") as f: rtest = f.read()\n",
    "rtest = rtest.replace(strSeparator, '')\n",
    "\n",
    "nlp = spacy.blank(\"en\")\n",
    "matcher = Matcher(nlp.vocab)\n",
    "\n",
    "patternNOrder = [{'LOWER': 'order'}, {'LOWER':'number'}, {'LOWER':':'}, {'LIKE_NUM': True}]\n",
    "matcher.add('PTRNORDER', [patternNOrder])\n",
    "\n",
    "patternPurchase = [{'LOWER': 'purchase'}, {'LOWER':'order'}, {'LOWER':'number'}, {'LOWER': ':'}]\n",
    "matcher.add('PTRPURCHASE', [patternPurchase])\n",
    "\n",
    "patternTariff = [{'LOWER': 'customs'}, {'LOWER':'tariff'}, {'IS_ALPHA': True}, {'IS_PUNCT': True, 'OP': '*'}, \n",
    "    {'IS_DIGIT': True}]\n",
    "matcher.add('PTRTARIFF', [patternTariff])\n",
    "\n",
    "patternCountry = [{'LOWER': 'country'}, {'LOWER':'of'}, {'LOWER': 'origin'}, {'LOWER': ':'}, {'IS_ALPHA': True}]\n",
    "matcher.add('PTRCOUNTRY', [patternCountry])\n",
    "\n",
    "patternPC = [{'LIKE_NUM': True}, {'LIKE_NUM': True}, {'LOWER' : {'in' : ['pc', 'рс']}}, {'LIKE_NUM':True}] \n",
    "matcher.add('PTROFPC', [patternPC])\n",
    "\n",
    "patternSurcharge = [{'LOWER': 'material'}, {'LOWER': 'surcharge'}, {'LIKE_NUM' : True}] #, {'TEXT': '%'}, {'LIKE_NUM' : True}] \n",
    "matcher.add('PTRSURCH', [patternSurcharge])\n",
    "\n",
    "doc1 = nlp(rtest)\n",
    "\n",
    "matches = matcher(doc1)\n",
    "spans = [Span(doc1, start, end, label=match_id) for match_id, start, end in matches]\n",
    "print(len(doc1), len(spans))\n",
    "startSpan = 0\n",
    "endSpan = 0\n",
    "posTariff = 0\n",
    "txt2 = 'import json \\nimport spacy \\nfrom spacy.matcher import Matcher \\nfrom spacy.tokens import Span, DocBin \\ndocs = [] \\n'\n",
    "nPos = 0\n",
    "firstPos = True\n",
    "pos1PC = 0\n",
    "pos2PC = 0\n",
    "res = dict()\n",
    "\n",
    "for sp in spans:\n",
    "    if sp.label_ == 'PTRNORDER':\n",
    "        res['NORDER'] = sp.start + 3\n",
    "    #print(sp.start, sp.label_)\n",
    "print(res)\n",
    "exit\n",
    "for sp in spans:\n",
    "    if sp.label_  == 'PTRPURCHASE':\n",
    "        startSpan = sp.start\n",
    "        #print('here is a purchase', sp.start, doc1[sp.start: sp.end]) \n",
    "    elif sp.label_  == 'PTRTARIFF':\n",
    "        posTariff = sp.end-1\n",
    "        #print('here is a tariff', sp.end, doc1[sp.end-1: sp.end]) \n",
    "    elif sp.label_  == 'PTROFPC':\n",
    "        if firstPos:\n",
    "            print('here is an article', sp.end, doc1[sp.start: sp.end]) \n",
    "            posArtc =  sp.start + 3\n",
    "            print('Article', doc1[posArtc])\n",
    "            firstPos = False\n",
    "        else:\n",
    "            pos2PC = sp.start\n",
    "            print('here is a summa', sp.end, doc1[sp.start: sp.end]) \n",
    "    elif sp.label_  == 'PTRCOUNTRY':\n",
    "        #print('here is a country', sp.end, doc1[sp.start: sp.end]) \n",
    "        stPosCountry =  sp.start + 3\n",
    "    elif sp.label_  == 'PTRSURCH':\n",
    "        #print('here is a surcharge', sp.end, doc1[sp.start: sp.end]) \n",
    "        #                 pos  amo article   pr     uni  summe tariff   country\n",
    "        #doc1 SR-1-06 711 1300 50 6010003476 237,81 100 118,91 73079910 Germany\n",
    "        enPosCountry =  sp.start - 1\n",
    "        posCharge =  sp.start + 1\n",
    "        posChargeS =  sp.start + 3\n",
    "        posSum =  sp.start + 5\n",
    "        endSpan = sp.end\n",
    "        pos2PC = pos2PC - startSpan  \n",
    "\n",
    "        print(nPos, startSpan, posArtc, stPosCountry, enPosCountry, posCharge, posChargeS, posSum, endSpan)\n",
    "\n",
    "        print(doc1[startSpan: endSpan]) #, doc1[startSpan + pos2PC +1 ],doc1[startSpan + pos2PC+2],doc1[startSpan + pos2PC+3],            doc1[startSpan + pos2PC+4])  \n",
    "        #break\n",
    "        #print(doc1[startSpan+pos2PC + 4].text )\n",
    " \n",
    "        sDoc = \"doc\" + str(nPos)\n",
    "        txt2 = txt2 + '\\n\\n' + sDoc + \" = nlp('''\" + doc1[startSpan:endSpan].text + \"''')\\n\" #        txt2 = ''\n",
    "        txt2 = txt2 +  ('#' + sDoc  + ' c:' + doc1[startSpan + 5 : startSpan + 8].text + ' c1:' + doc1[startSpan + 8].text \n",
    "            + ' pos:' + doc1[startSpan + 10].text + ' a:' + doc1[startSpan + 11].text + ' art:' + doc1[posArtc].text \n",
    "            + ' pr:' + doc1[pos2PC].text + ' u:' + doc1[posArtc + 2].text + ' s:'  + doc1[posArtc + 4].text \n",
    "            + ' trf:' +  doc1[posTariff].text + ' cnt:' + doc1[stPosCountry: enPosCountry].text + ' chr:' + doc1[posCharge].text\n",
    "            + ' chrS:' + doc1[posChargeS].text + ' TTL:' + doc1[posSum].text).replace('\\n', '') + '\\n'\n",
    "        #txt2 = txt2.replace('\\n', '') + '\\n'\n",
    "\n",
    "        txt2 = (txt2 + '''print(''' + '\"' + sDoc + '\",' + sDoc + \"[5: 8], \" + sDoc + \"[8: 9], \" + sDoc + \"[10: 11], \" \n",
    "            + sDoc +\"[11: 12], \" + sDoc + \"[13: 14], \" + sDoc + \"[\"+str(pos2PC) + ':' + str(pos2PC + 1) + \"], \"\n",
    "            + sDoc + \"[\" +str(pos2PC+1) + ':' + str(pos2PC + 2) + \"] ,\" + sDoc + \"[\"+str(pos2PC + 3) + ':' + str(pos2PC + 4) + \"], \" \n",
    "            + sDoc + \"[\"+ str(posTariff )+ ': ' + str(posTariff + 1) + \"], \" + sDoc + \"[\" + str(stPosCountry)+ ': ' + str(enPosCountry) + \"]), \"\n",
    "            + sDoc + \"[\"+ str(posCharge )+ ': ' + str(posCharge + 1) + \"], \" + sDoc + \"[\"+ str(posChargeS )+ ': ' + str(posChargeS + 1) + \"], \" \n",
    "            + sDoc + \"[\"+ str(posSum )+ ': ' + str(posSum + 1) + \"]  \\n\")\n",
    "        txt2 = txt2 +  sDoc + \".ents = [Span(\" + sDoc + ', 5, 8, label=\"CONTRACT\"), \\n'\n",
    "        txt2 = txt2 +  '    Span(' + sDoc + ', 8, 9, label=\"CONTRACT1\"), \\n'\n",
    "        txt2 = txt2 +  '    Span(' + sDoc + ', 10, 11, label=\"POS\"), \\n'\n",
    "        txt2 = txt2 +  '    Span(' + sDoc + ', 11, 12, label=\"AMOUNT\"), \\n'\n",
    "        txt2 = txt2 +  '    Span(' + sDoc + ', '+ str(posArtc) + ', ' + str(posArtc +1) +', label=\"ARTICLE\"), \\n'\n",
    "        txt2 = txt2 +  '    Span(' + sDoc + ', ' + str(pos2PC) + ', ' + str(pos2PC + 1) + ', label=\"PRICE\"), \\n'\n",
    "        txt2 = txt2 +  '    Span(' + sDoc + ', ' + str(pos2PC + 1) + ', ' + str(pos2PC + 2) + ', label=\"UNIT\"), \\n'\n",
    "        txt2 = txt2 +  '    Span(' + sDoc + ', ' + str(pos2PC + 3) + ', ' + str(pos2PC + 4) + ', label=\"SUM\"), \\n'\n",
    "        txt2 = txt2 +  '    Span(' + sDoc + ', ' + str(posTariff)+ ', ' + str(posTariff + 1) + ', label=\"TARIFF\"), \\n'\n",
    "        txt2 = txt2 +  '    Span(' + sDoc + ', ' + str(stPosCountry)+ ', ' + str(enPosCountry) + ', label=\"COUNTRY\"), \\n'\n",
    "        txt2 = txt2 +  '    Span(' + sDoc + ', ' + str(posCharge)+ ', ' + str(posCharge + 1) + ', label=\"CHARGE\"), \\n'\n",
    "        txt2 = txt2 +  '    Span(' + sDoc + ', ' + str(posChargeS)+ ', ' + str(posChargeS + 1) + ', label=\"CHARGES\"), \\n'\n",
    "        txt2 = txt2 +  '    Span(' + sDoc + ', ' + str(posSum)+ ', ' + str(posSum + 1) + ', label=\"TOTAL\") \\n'\n",
    "        txt2 = txt2 + 'docs.append(' + sDoc + ')\\n'\n",
    "        nPos += 1\n",
    "        break\n",
    "print(txt2)\n",
    "exit\n",
    "\n",
    "txt2 = txt2 + 'doc_bin = DocBin(docs = docs)\\n'\n",
    "txt2 = txt2 + \"doc_bin.to_disk('./train.spacy')\"\n",
    "with open(fName.replace('.txt', '.py'), encoding=\"utf8\", mode='w') as f:\n",
    "    f.write(txt2)"
   ]
  },
  {
   "cell_type": "code",
   "execution_count": 40,
   "metadata": {},
   "outputs": [
    {
     "name": "stdout",
     "output_type": "stream",
     "text": [
      "{'99': 99, '1': 1}\n"
     ]
    }
   ],
   "source": [
    "dd = {'99':99}\n",
    "dd['1'] = 1\n",
    "dd.pop('2', 2)\n",
    "print(dd)"
   ]
  },
  {
   "cell_type": "markdown",
   "metadata": {},
   "source": [
    "# add material surcharge - advanced parcing"
   ]
  },
  {
   "cell_type": "code",
   "execution_count": 6,
   "metadata": {},
   "outputs": [],
   "source": [
    "def partCodePrepare(doc1, res, pos):\n",
    "    sDoc = 'doc' +str(pos)\n",
    "    codeCom = '#'\n",
    "    #code = sDoc+'.ents = [\\n'\n",
    "    firstPos = 100000\n",
    "    lastPos = 0\n",
    "    codeMain = ''\n",
    "    for key in res.keys():\n",
    "        #lastPos = max(res.get(key)[1], lastPos)\n",
    "        #firstPos = min(firstPos, res.get(key)[0])\n",
    "        codeCom += key + ' ' + res.get(key)[2].text + '; '\n",
    "        if codeMain !='':\n",
    "            codeMain += (',\\n   Span(' + sDoc + ', ' + str(res.get(key)[0]) \n",
    "                + ', ' + str(res.get(key)[1]) + ', label =\"' + key + '\")')\n",
    "        else:\n",
    "            codeMain += ('   Span(' + sDoc + ', ' + str(res.get(key)[0]) \n",
    "                + ', ' + str(res.get(key)[1]) + ', label =\"' + key + '\")')\n",
    "    code = ('print(\"' + sDoc + ', ' + str(len(doc1)) + ', '+ codeCom + '\")\\n' + sDoc \n",
    "        + \" = nlp('''\" + doc1.text + \"''')\\n\")\n",
    "    code += sDoc+'.ents = [\\n' + codeMain + ']\\ndocs.append(' + sDoc + ')\\n'\n",
    "    #print(codeCom, firstPos, lastPos)\n",
    "    return code"
   ]
  },
  {
   "cell_type": "code",
   "execution_count": 67,
   "metadata": {},
   "outputs": [],
   "source": [
    "def parceSomeText(rtest, pos):\n",
    "    doc1 = nlp(rtest)\n",
    "    #print(type(doc1), len(doc1), doc1[-1])\n",
    "    matcher = Matcher(nlp.vocab)\n",
    "\n",
    "    patternNOrder = [{'LOWER': 'order'}, {'LOWER':'number'}, {'LOWER':':'}, {'LIKE_NUM': True}]\n",
    "    matcher.add('NORDER', [patternNOrder])\n",
    "    matches = matcher(doc1)\n",
    "\n",
    "    patternPurchase = [{'LOWER': 'purchase'}, {'LOWER':'order'}, {'LOWER':'number'}, {'LOWER': ':'}]\n",
    "    matcher.add('PURCHASEORDER', [patternPurchase])\n",
    "\n",
    "    patternTariff = [{'LOWER': 'customs'}, {'LOWER':'tariff'}, {'IS_ALPHA': True}, {'IS_PUNCT': True, 'OP': '*'}, {'IS_DIGIT': True}]\n",
    "    matcher.add('TARIFF', [patternTariff])\n",
    "\n",
    "    patternCountry = [{'LOWER': 'country'}, {'LOWER':'of'}, {'LOWER': 'origin'}, {'LOWER': ':'}, {'IS_ALPHA': True}]\n",
    "    matcher.add('COUNTRY', [patternCountry])\n",
    "\n",
    "    patternPC = [{'LIKE_NUM': True}, {'IS_PUNCT': True, 'OP': '*'}, {'LIKE_NUM': True}\n",
    "        , {'LOWER' : {'in' : ['pc', 'рс']}}, {'LIKE_NUM':True}\n",
    "        , {'IS_PUNCT':True, 'OP':'?'}] \n",
    "    matcher.add('POSPC', [patternPC])\n",
    "\n",
    "    patternSurcharge = [{'LOWER': 'material'}, {'LOWER': 'surcharge'}, {'LIKE_NUM' : True}] #, {'TEXT': '%'}, {'LIKE_NUM' : True}] \n",
    "    matcher.add('SURCHARGE', [patternSurcharge])\n",
    "    matches = matcher(doc1)\n",
    "    spans = [Span(doc1, start, end, label=match_id) for match_id, start, end in matches]\n",
    "\n",
    "    matcher2 = Matcher(nlp.vocab)\n",
    "    patternNums = [{'LIKE_NUM':True}]\n",
    "    matcher2.add('NUMBERS', [patternNums])\n",
    "\n",
    "    res = None\n",
    "\n",
    "    code = ''\n",
    "    #pos = 0\n",
    "    for sp in spans:\n",
    "        #print(sp.start, sp.end, sp.text)\n",
    "        if sp.label_ == 'NORDER':\n",
    "            if res != None: \n",
    "                code += partCodePrepare(res, pos)\n",
    "                #pos += 1\n",
    "            res = {'NORDER' : (sp.start + 3, sp.start + 4, doc1[sp.start + 3: sp.start + 4])}\n",
    "            firstPC = True\n",
    "        if sp.label_ == 'PURCHASEORDER':\n",
    "            if res==None: res = {}\n",
    "            res['CONTRACT'] = (sp.start + 5, sp.start + 8, doc1[sp.start + 5: sp.start + 8])\n",
    "            res['CONTRACT1'] = (sp.start + 8, sp.start + 9, doc1[sp.start + 8: sp.start + 9])\n",
    "        if sp.label_ == 'POSPC' and firstPC:\n",
    "            res['POS'] = (sp.start , sp.start + 1, doc1[sp.start: sp.start + 1])\n",
    "            res['AMOUNT'] = (sp.start + 1, sp.start + 2, doc1[sp.start + 1: sp.start + 2])\n",
    "            res['ARTICLE'] = (sp.start + 3, sp.start + 4, doc1[sp.start + 3: sp.start + 4])\n",
    "            firstPC = False\n",
    "        if sp.label_ == 'POSPC' and not firstPC:\n",
    "            pDoc = sp.text\n",
    "            doc3 = nlp(pDoc)\n",
    "            matches2 = matcher2(doc3)\n",
    "            spanN = [Span(doc3, start, end, label=match_id) for match_id, start, end in matches2]\n",
    "            spP, spU, spS = spanN[0].start, spanN[1].start, spanN[2].start\n",
    "            res['PRICE'] = (sp.start + spP , sp.start + spP + 1, doc1[sp.start + spP: sp.start + spP + 1])\n",
    "            res['UNIT'] = (sp.start + spU, sp.start + spU + 1, doc1[sp.start + spU: sp.start + spU + 1])\n",
    "            res['SUMMA'] = (sp.start + spS, sp.start + spS + 1, doc1[sp.start + spS: sp.start + spS + 1])\n",
    "            #break\n",
    "        if sp.label_ == 'TARIFF':\n",
    "            res['TARIFF'] = (sp.end -1 , sp.end, doc1[sp.end - 1: sp.end])  \n",
    "        if sp.label_ == 'COUNTRY':\n",
    "            #print(doc1[sp.end].text.lower())\n",
    "            if doc1[sp.end].text.lower() == 'material':\n",
    "                res['COUNTRY'] = (sp.end -1 , sp.end, doc1[sp.end - 1: sp.end])    \n",
    "            else:    \n",
    "                res['COUNTRY'] = (sp.end -1 , sp.end + 1, doc1[sp.end - 1: sp.end + 1]) \n",
    "        if sp.label_ == 'SURCHARGE':\n",
    "            #print(sp.start, len(doc1), doc1[sp.start:])\n",
    "            pDoc = doc1[sp.start:].text\n",
    "            doc3 = nlp(pDoc)\n",
    "            matches2 = matcher2(doc3)\n",
    "            spanN = [Span(doc3, start, end, label=match_id) for match_id, start, end in matches2]\n",
    "            #print(pDoc, spanN)\n",
    "            spP, spS, spT = spanN[0].start, spanN[1].start, spanN[2].start\n",
    "            #print(spP, spS, spT)\n",
    "            res['PR_SURCH'] = (sp.start + spP, sp.start + spP + 1, doc1[sp.start + spP: sp.start + spP + 1])\n",
    "            res['SURCHARGE'] = (sp.start + spS, sp.start + spS + 1, doc1[sp.start + spS: sp.start + spS +1])\n",
    "            res['TOTAL'] = (sp.start + spT, sp.start + spT + 1, doc1[sp.start + spT: sp.start + spT + 1])\n",
    "            if res != None: \n",
    "                code += partCodePrepare(doc1, res, pos)\n",
    "                #pos += 1\n",
    "                res = None\n",
    "    return code\n"
   ]
  },
  {
   "cell_type": "code",
   "execution_count": 61,
   "metadata": {},
   "outputs": [],
   "source": [
    "rtest = '''\n",
    "Order number: 2405206\n",
    "Purchase order number: N SR-1-06 87\n",
    "8000 20 PC 6100152347 12,73, 100 PC 2,55 SM-1-8/1 D-M-W3/2 packed per each item Customer ID-No.: 000000001 120001932\n",
    "Product description: nuts Export - Customs tariff no.: 73181692\n",
    "Country of origin: Germany Material Surcharge 11,40 % 0,29\n",
    "2,84\n",
    "\n",
    "'''"
   ]
  },
  {
   "cell_type": "code",
   "execution_count": 36,
   "metadata": {},
   "outputs": [
    {
     "data": {
      "text/plain": [
       "'Order number: 2332617 Purchase order number: N SR-1-06 1231 2000 2 PC 6010003898 (* ) 102,90 100 PC 2,06 FI-REDSD-1 0/08L-V-W3-DKO FI-REDSD-1 0/08L-B-W3-DKO packed per each item Product description: fitting Export - Customs tariff no.: 73079910 Country of origin: Germany Material Surcharge 6,90 % 0,14    2,20'"
      ]
     },
     "execution_count": 36,
     "metadata": {},
     "output_type": "execute_result"
    }
   ],
   "source": [
    "doc1"
   ]
  },
  {
   "cell_type": "code",
   "execution_count": 64,
   "metadata": {},
   "outputs": [
    {
     "name": "stdout",
     "output_type": "stream",
     "text": [
      "print(\"doc1, 72, #NORDER 2405206; CONTRACT SR-1-06; CONTRACT1 87; POS 8000; AMOUNT 20; ARTICLE 6100152347; PRICE 12,73; UNIT 100; SUMMA 2,55; TARIFF 73181692; COUNTRY Germany; PR_SURCH 11,40; SURCHARGE 0,29; TOTAL 2,84; \")\n",
      "doc1 = nlp('''\n",
      "Order number: 2405206\n",
      "Purchase order number: N SR-1-06 87\n",
      "8000 20 PC 6100152347 12,73, 100 PC 2,55 SM-1-8/1 D-M-W3/2 packed per each item Customer ID-No.: 000000001 120001932\n",
      "Product description: nuts Export - Customs tariff no.: 73181692\n",
      "Country of origin: Germany Material Surcharge 11,40 % 0,29\n",
      "2,84\n",
      "\n",
      "''')\n",
      "doc1.ents = [\n",
      "   Span(doc1, 4, 5, label =\"NORDER\"),\n",
      "   Span(doc1, 11, 14, label =\"CONTRACT\"),\n",
      "   Span(doc1, 14, 15, label =\"CONTRACT1\"),\n",
      "   Span(doc1, 16, 17, label =\"POS\"),\n",
      "   Span(doc1, 17, 18, label =\"AMOUNT\"),\n",
      "   Span(doc1, 19, 20, label =\"ARTICLE\"),\n",
      "   Span(doc1, 20, 21, label =\"PRICE\"),\n",
      "   Span(doc1, 22, 23, label =\"UNIT\"),\n",
      "   Span(doc1, 24, 25, label =\"SUMMA\"),\n",
      "   Span(doc1, 57, 58, label =\"TARIFF\"),\n",
      "   Span(doc1, 63, 64, label =\"COUNTRY\"),\n",
      "   Span(doc1, 66, 67, label =\"PR_SURCH\"),\n",
      "   Span(doc1, 68, 69, label =\"SURCHARGE\"),\n",
      "   Span(doc1, 70, 71, label =\"TOTAL\")]\n",
      "docs.append(doc1)\n",
      "\n"
     ]
    }
   ],
   "source": [
    "print(parceSomeText(rtest, 1))"
   ]
  },
  {
   "cell_type": "code",
   "execution_count": 68,
   "metadata": {},
   "outputs": [
    {
     "name": "stdout",
     "output_type": "stream",
     "text": [
      "Selected  256 examples\n"
     ]
    }
   ],
   "source": [
    "with open(fTextName.replace('.txt', 's.txt'), encoding=\"utf8\") as f: \n",
    "    rtest = f.read()\n",
    "rtest = rtest.replace(strSeparator.replace('\\n',''), '').replace('\\n', ' ')\n",
    "\n",
    "nlp = spacy.blank(\"en\")\n",
    "fullDoc = nlp(rtest)\n",
    "matcher = Matcher(nlp.vocab)\n",
    "\n",
    "patternNOrder = [{'LOWER': 'order'}, {'LOWER':'number'}, {'LOWER':':'}, {'LIKE_NUM': True}]\n",
    "matcher.add('NORDER', [patternNOrder])\n",
    "matches = matcher(fullDoc)\n",
    "prepSpans = [Span(fullDoc, start, end, label=match_id) for match_id, start, end in matches]\n",
    "\n",
    "#txt2 = 'import json \\nimport spacy \\nfrom spacy.matcher import Matcher \\nfrom spacy.tokens import Span, DocBin \\ndocs = [] \\n'\n",
    "stPos = 0\n",
    "code = ''\n",
    "pos = 0\n",
    "for prepItem in prepSpans:\n",
    "    #print(prepItem.start)\n",
    "    if stPos == 0:\n",
    "        stPos = prepItem.start\n",
    "    else:\n",
    "        doc1 = fullDoc[stPos : prepItem.start].text\n",
    "        code1 = parceSomeText(doc1, pos)\n",
    "       \n",
    "        pos += 1\n",
    "\n",
    "        #print(code1)\n",
    "        code +=code1\n",
    "        stPos = prepItem.start \n",
    "                            \n",
    "\n",
    "txt2 = '''import json \n",
    "import spacy \n",
    "from spacy.matcher import Matcher \n",
    "from spacy.tokens import Span, DocBin \n",
    "docs = []\\n''' + code + 'doc_bin = DocBin(docs = docs)\\n'\n",
    "txt2 = txt2 + \"doc_bin.to_disk('./train1.spacy')\"\n",
    "with open(fTextName.replace('.txt', '.py'), encoding=\"utf8\", mode='w') as f:\n",
    "    f.write(txt2)\n",
    "\n",
    "print('Selected ', pos, 'examples')"
   ]
  },
  {
   "cell_type": "code",
   "execution_count": null,
   "metadata": {},
   "outputs": [],
   "source": [
    "%run -i \"F:\\Python\\OCR_diploma\\docs_base\\StauffInvoices\\92946889.py\""
   ]
  },
  {
   "cell_type": "code",
   "execution_count": 27,
   "metadata": {},
   "outputs": [
    {
     "name": "stdout",
     "output_type": "stream",
     "text": [
      "Order number: 2378632 Purchase order number: N SR-1-06 1772 2400 25 PC 1120002537 38,09 100 PC 9,52 SP-2D-M-W2 SP 2 DM W2 packed per each item Product description: weld plate Export - Customs tariff no.: 73269098 Country of origin: Germany Material Surcharge 11,40 % 1,09 10,61 Order number\n"
     ]
    }
   ],
   "source": [
    "print(doc1)"
   ]
  },
  {
   "cell_type": "code",
   "execution_count": 95,
   "metadata": {},
   "outputs": [
    {
     "data": {
      "text/plain": [
       "'F:\\\\Python\\\\OCR_diploma\\\\docs_base\\\\StauffInvoices\\\\92946889.txt'"
      ]
     },
     "execution_count": 95,
     "metadata": {},
     "output_type": "execute_result"
    }
   ],
   "source": [
    "fTextName"
   ]
  },
  {
   "cell_type": "code",
   "execution_count": null,
   "metadata": {},
   "outputs": [],
   "source": [
    "def partCodePrepare(res, pos):\n",
    "    pos = 1\n",
    "    sDoc = 'doc' +str(pos)\n",
    "    codeCom = '#'\n",
    "    #code = sDoc+'.ents = [\\n'\n",
    "    firstPos = 100000\n",
    "    lastPos = 0\n",
    "    codeMain = ''\n",
    "    for key in res.keys():\n",
    "        lastPos = max(res.get(key)[1], lastPos)\n",
    "        firstPos = min(firstPos, res.get(key)[0])\n",
    "        codeCom += key + ' ' + res.get(key)[2].text + '; '\n",
    "        if codeMain !='':\n",
    "            codeMain += ',\\n   span(' + sDoc + ', ' + str(res.get(key)[0]) + ', ' + str(res.get(key)[1]) + ', label =\"' + key + '\")'\n",
    "        else:\n",
    "            codeMain += '   span(' + sDoc + ', ' + str(res.get(key)[0]) + ', ' + str(res.get(key)[1]) + ', label =\"' + key + '\")'\n",
    "    code = 'print(\"' + sDoc + ', '+ codeCom + '\")\\n' + sDoc + \" = nlp('''\" + doc1[firstPos: lastPos + 1].text + \"''')\\n\"\n",
    "    code += sDoc+'.ents = [\\n' + codeMain + ']\\ndocs.append(' + sDoc + ')\\n'\n",
    "    #print(codeCom, firstPos, lastPos)\n",
    "    return code\n",
    "\n",
    "print(partCodePrepare(res, 0))"
   ]
  },
  {
   "cell_type": "code",
   "execution_count": 53,
   "metadata": {},
   "outputs": [],
   "source": [
    "with open(fName.replace('.txt', 's.txt'), encoding=\"utf8\") as f:\n",
    "    rtest = f.read()\n",
    "rtest = rtest.replace(strSeparator, '')\n",
    "\n",
    "nlp = spacy.blank(\"en\")\n",
    "matcher = Matcher(nlp.vocab)\n",
    "\n",
    "patternPurchase = [{'LOWER': 'purchase'}, {'LOWER':'order'}, {'LOWER':'number'}, {'LOWER': ':'}]\n",
    "matcher.add('PTRPURCHASE', [patternPurchase])\n",
    "\n",
    "patternTariff = [{'LOWER': 'customs'}, {'LOWER':'tariff'}, {'IS_ALPHA': True}, {'IS_PUNCT': True, 'OP': '*'}, \n",
    "    {'IS_DIGIT': True}]\n",
    "matcher.add('PTRTARIFF', [patternTariff])\n",
    "\n",
    "patternCountry = [{'LOWER': 'country'}, {'LOWER':'of'}, {'LOWER': 'origin'}, {'LOWER': ':'}, {'IS_ALPHA': True}]\n",
    "matcher.add('PTRCOUNTRY', [patternCountry])\n",
    "\n",
    "patternPC = [{'LIKE_NUM': True}, {'LIKE_NUM': True}, {'LOWER' : {'in' : ['pc', 'рс']}}, {'LIKE_NUM':True}] \n",
    "\n",
    "matcher.add('PTROFPC', [patternPC])\n",
    "\n",
    "patternSurcharge = [{'LOWER': 'material'}, {'LOWER': 'surcharge'}, {'LIKE_NUM' : True}, {'TEXT':'%'}, {'LIKE_NUM' : True},\n",
    "    {'LIKE_NUM':True}    ] \n",
    "\n",
    "matcher.add('PTRSURCH', [patternSurcharge])\n",
    "\n",
    "doc1 = nlp(rtest)\n",
    "\n",
    "matches = matcher(doc1)\n",
    "spans = [Span(doc1, start, end, label=match_id) for match_id, start, end in matches]\n",
    "\n",
    "startSpan = 0\n",
    "endSpan = 0\n",
    "posTariff = 0\n",
    "txt2 = 'import json \\nimport spacy \\nfrom spacy.matcher import Matcher \\nfrom spacy.tokens import Span, DocBin \\ndocs = [] \\n'\n",
    "nPos = 0\n",
    "pos1PC = 0\n",
    "pos2PC = 0\n",
    "for sp in spans:\n",
    "    if sp.label_  == 'PTRPURCHASE':\n",
    "        startSpan = sp.start\n",
    "        #print('here is a purchase', sp.start, doc1[sp.start: sp.end]) \n",
    "    elif sp.label_  == 'PTRTARIFF':\n",
    "        posTariff = sp.end-1\n",
    "        #print('here is a tariff', sp.end, doc1[sp.end-1: sp.end]) \n",
    "    elif sp.label_  == 'PTROFPC':\n",
    "        pos2PC = sp.start\n",
    "        #print('here is a summa', sp.end, doc1[sp.start: sp.end]) \n",
    "\n",
    "    elif sp.label_  == 'PTRCOUNTRY':\n",
    "        endSpan = sp.end\n",
    "        pos2PC = pos2PC - startSpan  \n",
    "        #print(doc1[startSpan + pos2PC], doc1[startSpan + pos2PC +1 ],doc1[startSpan + pos2PC+2],doc1[startSpan + pos2PC+3],            doc1[startSpan + pos2PC+4])  \n",
    "        #break\n",
    "        #print(doc1[startSpan+pos2PC + 4].text )\n",
    "        sDoc = \"doc\" + str(nPos)\n",
    "        txt2 = txt2 + '\\n\\n' + sDoc + \" = nlp('''\" + doc1[startSpan:endSpan].text + \"''')\\n\" \n",
    "        #txt2 = ''\n",
    "        txt2 = txt2 + ('#' + sDoc + str(doc1[startSpan + 5 : startSpan + 8].text + ' '\n",
    "            + doc1[startSpan + 8].text + ' ' + doc1[startSpan + 10].text + ' ' + doc1[startSpan + 11].text + ' '\n",
    "            + doc1[startSpan+13].text + ' ' + doc1[startSpan+pos2PC].text + ' ' + doc1[startSpan+pos2PC + 1].text  + ' '\n",
    "            + doc1[startSpan+pos2PC + 4].text + ' ' +  doc1[posTariff].text + ' ' + doc1[endSpan - 1].text).replace('\\n', '') + '\\n')\n",
    "        #print(txt2)\n",
    "        #break\n",
    "        #txt2 = txt2 + sDoc + \".ents = [Span(\" + sDoc + ', 3, 4, label=\"GPE\")] \\n'\n",
    "        txt2 = txt2 + '''print(''' + '\"' + sDoc + '\",' + sDoc + \"[5: 8], \" + sDoc + \"[8: 9], \" + sDoc + \"[10: 11], \" + sDoc +\"[11: 12], \" \n",
    "        txt2 = txt2 +  sDoc + \"[13: 14], \" + sDoc + \"[\"+str(pos2PC) + ':' + str(pos2PC + 1) + \"], \"\n",
    "        txt2 = txt2 +  sDoc + \"[\" +str(pos2PC+1) + ':' + str(pos2PC + 2) + \"] ,\" + sDoc + \"[\"+str(pos2PC + 3) + ':' + str(pos2PC + 4) + \"], \" + sDoc + \"[\"+ str(posTariff - startSpan)+ ': ' + str(posTariff - startSpan + 1) + \"], \" + sDoc + \"[\" + str(endSpan - startSpan - 1)+ ': ' + str(endSpan - startSpan) + \"]) \\n\"\n",
    "        txt2 = txt2 +  sDoc + \".ents = [Span(\" + sDoc + ', 5, 8, label=\"CONTRACT\"), \\n'\n",
    "        txt2 = txt2 +  '    Span(' + sDoc + ', 8, 9, label=\"CONTRACT1\"), \\n'\n",
    "        txt2 = txt2 +  '    Span(' + sDoc + ', 10, 11, label=\"POS\"), \\n'\n",
    "        txt2 = txt2 +  '    Span(' + sDoc + ', 11, 12, label=\"AMOUNT\"), \\n'\n",
    "        txt2 = txt2 +  '    Span(' + sDoc + ', 13, 14, label=\"ARTICLE\"), \\n'\n",
    "        txt2 = txt2 +  '    Span(' + sDoc + ', ' + str(pos2PC) + ', ' + str(pos2PC + 1) + ', label=\"PRICE\"), \\n'\n",
    "        txt2 = txt2 +  '    Span(' + sDoc + ', ' + str(pos2PC + 1) + ', ' + str(pos2PC + 2) + ', label=\"UNIT\"), \\n'\n",
    "        txt2 = txt2 +  '    Span(' + sDoc + ', ' + str(pos2PC + 3) + ', ' + str(pos2PC + 4) + ', label=\"SUM\"), \\n'\n",
    "        txt2 = txt2 +  '    Span(' + sDoc + ', ' + str(posTariff - startSpan)+ ', ' + str(posTariff - startSpan + 1) + ', label=\"TARIFF\"), \\n'\n",
    "        txt2 = txt2 +  '    Span(' + sDoc + ', ' + str(endSpan - startSpan - 1)+ ', ' + str(endSpan - startSpan) + ', label=\"COUNTRY\")] \\n'\n",
    "\n",
    "        txt2 = txt2 + 'docs.append(' + sDoc + ')\\n'\n",
    "        nPos += 1\n",
    "        #break\n",
    "#print(txt2)\n",
    "#exit\n",
    "\n",
    "txt2 = txt2 + 'doc_bin = DocBin(docs = docs)\\n'\n",
    "txt2 = txt2 + \"doc_bin.to_disk('./train.spacy')\"\n",
    "with open(fName.replace('.txt', '.py'), encoding=\"utf8\", mode='w') as f:\n",
    "    f.write(txt2)"
   ]
  },
  {
   "cell_type": "code",
   "execution_count": 66,
   "metadata": {},
   "outputs": [
    {
     "ename": "SyntaxError",
     "evalue": "invalid syntax (92922860.py, line 41)",
     "output_type": "error",
     "traceback": [
      "\u001b[1;36m  File \u001b[1;32m\"F:\\Python\\OCR_diploma\\docs_base\\StauffInvoices\\92922860.py\"\u001b[1;36m, line \u001b[1;32m41\u001b[0m\n\u001b[1;33m    docs.append(doc0)\u001b[0m\n\u001b[1;37m    ^\u001b[0m\n\u001b[1;31mSyntaxError\u001b[0m\u001b[1;31m:\u001b[0m invalid syntax\n"
     ]
    }
   ],
   "source": [
    "%run -i \"F:\\Python\\OCR_diploma\\docs_base\\StauffInvoices\\92922860.py\"\n",
    "#%run -i \"92922860.py\""
   ]
  },
  {
   "cell_type": "code",
   "execution_count": 69,
   "metadata": {},
   "outputs": [
    {
     "name": "stdout",
     "output_type": "stream",
     "text": [
      "doc0 SR-1-06 942 1600 481 6100076765 3,85 1 1.851,85     \n"
     ]
    },
    {
     "ename": "IndexError",
     "evalue": "[E035] Error creating span with start 568 and end 569 for Doc of length 82.",
     "output_type": "error",
     "traceback": [
      "\u001b[1;31m---------------------------------------------------------------------------\u001b[0m",
      "\u001b[1;31mIndexError\u001b[0m                                Traceback (most recent call last)",
      "\u001b[1;32mF:\\Python\\OCR_diploma\\docs_base\\StauffInvoices\\92922860.py\u001b[0m in \u001b[0;36m<module>\u001b[1;34m\u001b[0m\n\u001b[0;32m     31\u001b[0m     \u001b[0mSpan\u001b[0m\u001b[1;33m(\u001b[0m\u001b[0mdoc0\u001b[0m\u001b[1;33m,\u001b[0m \u001b[1;36m10\u001b[0m\u001b[1;33m,\u001b[0m \u001b[1;36m11\u001b[0m\u001b[1;33m,\u001b[0m \u001b[0mlabel\u001b[0m\u001b[1;33m=\u001b[0m\u001b[1;34m\"POS\"\u001b[0m\u001b[1;33m)\u001b[0m\u001b[1;33m,\u001b[0m\u001b[1;33m\u001b[0m\u001b[1;33m\u001b[0m\u001b[0m\n\u001b[0;32m     32\u001b[0m     \u001b[0mSpan\u001b[0m\u001b[1;33m(\u001b[0m\u001b[0mdoc0\u001b[0m\u001b[1;33m,\u001b[0m \u001b[1;36m11\u001b[0m\u001b[1;33m,\u001b[0m \u001b[1;36m12\u001b[0m\u001b[1;33m,\u001b[0m \u001b[0mlabel\u001b[0m\u001b[1;33m=\u001b[0m\u001b[1;34m\"AMOUNT\"\u001b[0m\u001b[1;33m)\u001b[0m\u001b[1;33m,\u001b[0m\u001b[1;33m\u001b[0m\u001b[1;33m\u001b[0m\u001b[0m\n\u001b[1;32m---> 33\u001b[1;33m     \u001b[0mSpan\u001b[0m\u001b[1;33m(\u001b[0m\u001b[0mdoc0\u001b[0m\u001b[1;33m,\u001b[0m \u001b[1;36m568\u001b[0m\u001b[1;33m,\u001b[0m \u001b[1;36m569\u001b[0m\u001b[1;33m,\u001b[0m \u001b[0mlabel\u001b[0m\u001b[1;33m=\u001b[0m\u001b[1;34m\"ARTICLE\"\u001b[0m\u001b[1;33m)\u001b[0m\u001b[1;33m,\u001b[0m\u001b[1;33m\u001b[0m\u001b[1;33m\u001b[0m\u001b[0m\n\u001b[0m\u001b[0;32m     34\u001b[0m     \u001b[0mSpan\u001b[0m\u001b[1;33m(\u001b[0m\u001b[0mdoc0\u001b[0m\u001b[1;33m,\u001b[0m \u001b[1;36m17\u001b[0m\u001b[1;33m,\u001b[0m \u001b[1;36m18\u001b[0m\u001b[1;33m,\u001b[0m \u001b[0mlabel\u001b[0m\u001b[1;33m=\u001b[0m\u001b[1;34m\"PRICE\"\u001b[0m\u001b[1;33m)\u001b[0m\u001b[1;33m,\u001b[0m\u001b[1;33m\u001b[0m\u001b[1;33m\u001b[0m\u001b[0m\n\u001b[0;32m     35\u001b[0m     \u001b[0mSpan\u001b[0m\u001b[1;33m(\u001b[0m\u001b[0mdoc0\u001b[0m\u001b[1;33m,\u001b[0m \u001b[1;36m18\u001b[0m\u001b[1;33m,\u001b[0m \u001b[1;36m19\u001b[0m\u001b[1;33m,\u001b[0m \u001b[0mlabel\u001b[0m\u001b[1;33m=\u001b[0m\u001b[1;34m\"UNIT\"\u001b[0m\u001b[1;33m)\u001b[0m\u001b[1;33m,\u001b[0m\u001b[1;33m\u001b[0m\u001b[1;33m\u001b[0m\u001b[0m\n",
      "\u001b[1;32mC:\\ProgramData\\Anaconda3\\lib\\site-packages\\spacy\\tokens\\span.pyx\u001b[0m in \u001b[0;36mspacy.tokens.span.Span.__cinit__\u001b[1;34m()\u001b[0m\n",
      "\u001b[1;31mIndexError\u001b[0m: [E035] Error creating span with start 568 and end 569 for Doc of length 82."
     ]
    }
   ],
   "source": [
    "import json \n",
    "import spacy \n",
    "from spacy.matcher import Matcher \n",
    "from spacy.tokens import Span, DocBin \n",
    "docs = [] \n",
    "\n",
    "\n",
    "doc0 = nlp('''Purchase order number: N SR-1-06 942\n",
    "1600 481 PC 6100076765 (*) 3,85 1 РС 1.851,85\n",
    "\n",
    "ОКС-НР-12-Е-М201К-В-М/З\n",
    "HP10-1-X0041N\n",
    "\n",
    "packed per each item\n",
    "\n",
    "Customer ID-No.: 6100076765\n",
    "Product description: coupling\n",
    "\n",
    "Export - Customs tariff no.: 84812010\n",
    "Country of origin: Germany\n",
    "\n",
    "\n",
    "\n",
    "Description\n",
    "Material Surcharge 6,90 % 127,78''')\n",
    "#doc0 c:SR-1-06 c1:942 pos:1600 a:481 art:PC pr:6100076765 u:( s:) trf:84812010 cnt: chr:Surcharge chrS:% TTL:\n",
    "print(\"doc0\", doc0[5: 8], doc0[8: 9], doc0[10: 11], doc0[11: 12], doc0[13: 14], doc0[17:18], doc0[18:19] ,doc0[20:21], doc0[623: 624], doc0[1184: 632], doc0[634: 635], doc0[636: 637], doc0[638: 639]  )\n",
    "\n",
    "doc0.ents = [Span(doc0, 5, 8, label=\"CONTRACT\"), \n",
    "    Span(doc0, 8, 9, label=\"CONTRACT1\"), \n",
    "    Span(doc0, 10, 11, label=\"POS\"), \n",
    "    Span(doc0, 11, 12, label=\"AMOUNT\"), \n",
    "    Span(doc0, 568, 569, label=\"ARTICLE\"), \n",
    "    Span(doc0, 17, 18, label=\"PRICE\"), \n",
    "    Span(doc0, 18, 19, label=\"UNIT\"), \n",
    "    Span(doc0, 20, 21, label=\"SUM\"), \n",
    "    Span(doc0, 623, 624, label=\"TARIFF\"), \n",
    "    Span(doc0, 1184, 632, label=\"COUNTRY\"), \n",
    "    Span(doc0, 634, 635, label=\"CHARGE\"), \n",
    "    Span(doc0, 636, 637, label=\"CHARGES\"), \n",
    "    Span(doc0, 638, 639, label=\"TOTAL\") ]\n",
    "docs.append(doc0)\n",
    "\n"
   ]
  },
  {
   "cell_type": "code",
   "execution_count": null,
   "metadata": {},
   "outputs": [],
   "source": [
    "python -m spacy train ./config.cfg --output ./output26 --paths.train train.spacy --paths.dev dev.spacy"
   ]
  },
  {
   "cell_type": "code",
   "execution_count": null,
   "metadata": {},
   "outputs": [],
   "source": [
    "python -m spacy train ./config.cfg --output ./output --paths.train train.spacy --paths.dev dev.spacy"
   ]
  },
  {
   "cell_type": "code",
   "execution_count": 37,
   "metadata": {},
   "outputs": [
    {
     "name": "stdout",
     "output_type": "stream",
     "text": [
      "[7, 6, 3, 4, 2, 1, 5]\n"
     ]
    }
   ],
   "source": [
    "import random\n",
    "\n",
    "d = [1,2,3,4,5,6,7]\n",
    "\n",
    "random.shuffle(d)\n",
    "print(d)"
   ]
  },
  {
   "cell_type": "code",
   "execution_count": 64,
   "metadata": {},
   "outputs": [
    {
     "name": "stdout",
     "output_type": "stream",
     "text": [
      "doc0 SR-1-06 604 1200 4 6100074594 13,79 1 РС 84812010 Germany\n",
      "doc1 SR-1-06 711 1300 50 6010003476 237,81 100 PC 73079910 Germany\n"
     ]
    }
   ],
   "source": [
    "import json \n",
    "import spacy \n",
    "from spacy.matcher import Matcher \n",
    "from spacy.tokens import Span, DocBin \n",
    "docs = [] \n",
    "\n",
    "\n",
    "doc0 = nlp('''Purchase order number: N SR-1-06 604\n",
    "1200 4 РС 6100074594 (*) 13,79 1 РС 55,16\n",
    "\n",
    "QRC-FF-19-M-22L-BP-W3\n",
    "\n",
    "FF19-2-L2230\n",
    "\n",
    "packed per each item\n",
    "\n",
    "Export - Customs tariff no.: 84812010\n",
    "Country of origin: Germany''')\n",
    "#doc0SR-1-06 604 1200 4 6100074594 13,79 1 РС 84812010 Germany\n",
    "print(\"doc0\",doc0[5: 8], doc0[8: 9], doc0[10: 11], doc0[11: 12], doc0[13: 14], doc0[17:18], doc0[18:19] ,doc0[19:20], doc0[50: 51], doc0[56: 57]) \n",
    "doc0.ents = [Span(doc0, 5, 8, label=\"CONTRACT\"), \n",
    "    Span(doc0, 8, 9, label=\"CONTRACT1\"), \n",
    "    Span(doc0, 10, 11, label=\"POS\"), \n",
    "    Span(doc0, 11, 12, label=\"AMOUNT\"), \n",
    "    Span(doc0, 13, 14, label=\"ARTICLE\"), \n",
    "    Span(doc0, 17, 18, label=\"PRICE\"), \n",
    "    Span(doc0, 18, 19, label=\"UNIT\"), \n",
    "    Span(doc0, 19, 20, label=\"SUM\"), \n",
    "    Span(doc0, 50, 51, label=\"TARIFF\"), \n",
    "    Span(doc0, 56, 57, label=\"COUNTRY\")] \n",
    "docs.append(doc0)\n",
    "\n",
    "\n",
    "doc1 = nlp('''Purchase order number: N SR-1-06 711\n",
    "1300 50 PC 6010003476 (*) 237,81 100 PC 118,91\n",
    "\n",
    "FI-EWD-15L-V-W3-DKO\n",
    "FI-EWD-15L-B-W3-DKO\n",
    "\n",
    "packed per each item\n",
    "\n",
    "Product description: fitting\n",
    "\n",
    "Export - Customs tariff no.: 73079910\n",
    "Country of origin: Germany''')\n",
    "#doc1SR-1-06 711 1300 50 6010003476 237,81 100 PC 73079910 Germany\n",
    "print(\"doc1\",doc1[5: 8], doc1[8: 9], doc1[10: 11], doc1[11: 12], doc1[13: 14], doc1[17:18], doc1[18:19] ,doc1[19:20], doc1[59: 60], doc1[65: 66]) \n",
    "doc1.ents = [Span(doc1, 5, 8, label=\"CONTRACT\"), \n",
    "    Span(doc1, 8, 9, label=\"CONTRACT1\"), \n",
    "    Span(doc1, 10, 11, label=\"POS\"), \n",
    "    Span(doc1, 11, 12, label=\"AMOUNT\"), \n",
    "    Span(doc1, 13, 14, label=\"ARTICLE\"), \n",
    "    Span(doc1, 17, 18, label=\"PRICE\"), \n",
    "    Span(doc1, 18, 19, label=\"UNIT\"), \n",
    "    Span(doc1, 19, 20, label=\"SUM\"), \n",
    "    Span(doc1, 59, 60, label=\"TARIFF\"), \n",
    "    Span(doc1, 65, 66, label=\"COUNTRY\")] \n",
    "docs.append(doc1)\n",
    "\n",
    "\n",
    "#print(doc1)\n"
   ]
  },
  {
   "cell_type": "code",
   "execution_count": 24,
   "metadata": {},
   "outputs": [
    {
     "name": "stdout",
     "output_type": "stream",
     "text": [
      "SR-1-06 604 1200 4 6100074594 13,79 1 55,16 84812010 Germany\n"
     ]
    }
   ],
   "source": [
    "import json \n",
    "import spacy \n",
    "from spacy.matcher import Matcher \n",
    "from spacy.tokens import Span, DocBin \n",
    "docs = [] \n",
    "\n",
    "\n",
    "doc0 = nlp('''Purchase order number: N SR-1-06 604\n",
    "1200 4 РС 6100074594 (*) 13,79 1 РС 55,16\n",
    "\n",
    "QRC-FF-19-M-22L-BP-W3\n",
    "\n",
    "FF19-2-L2230\n",
    "\n",
    "packed per each item\n",
    "\n",
    "Export - Customs tariff no.: 84812010\n",
    "Country of origin: Germany''')\n",
    "#doc0SR-1-06 604 1200 4 6100074594 13,79 1 РС 84812010 Germany\n",
    "print(\"doc0\",doc0[5: 8], doc0[8: 9], doc0[10: 11], doc0[11: 12], doc0[13: 14], doc0[17:18], doc0[18:19] ,doc0[19:20], doc0[50: 51], doc0[56: 57]) \n",
    "doc0.ents = [Span(doc0, 5, 8, label=\"CONTRACT\"), \n",
    "    Span(doc0, 8, 9, label=\"CONTRACT1\"), \n",
    "    Span(doc0, 10, 11, label=\"POS\"), \n",
    "    Span(doc0, 11, 12, label=\"AMOUNT\"), \n",
    "    Span(doc0, 13, 14, label=\"ARTICLE\"), \n",
    "    Span(doc0, 17, 18, label=\"PRICE\"), \n",
    "    Span(doc0, 18, 19, label=\"UNIT\"), \n",
    "    Span(doc0, 19, 20, label=\"SUM\"), \n",
    "    Span(doc0, 50, 51, label=\"TARIFF\"), \n",
    "    Span(doc0, 56, 57, label=\"COUNTRY\")] \n",
    "docs.append[doc0]\n",
    "\n",
    "\n",
    "doc1 = nlp('''Purchase order number: N SR-1-06 711\n",
    "1300 50 PC 6010003476 (*) 237,81 100 PC 118,91\n",
    "\n",
    "FI-EWD-15L-V-W3-DKO\n",
    "FI-EWD-15L-B-W3-DKO\n",
    "\n",
    "packed per each item\n",
    "\n",
    "Product description: fitting\n",
    "\n",
    "Export - Customs tariff no.: 73079910\n",
    "Country of origin: Germany''')\n",
    "#doc1SR-1-06 711 1300 50 6010003476 237,81 100 PC 73079910 Germany\n",
    "print(\"doc1\",doc1[5: 8], doc1[8: 9], doc1[10: 11], doc1[11: 12], doc1[13: 14], doc1[17:18], doc1[18:19] ,doc1[19:20], doc1[59: 60], doc1[65: 66]) \n",
    "doc1.ents = [Span(doc1, 5, 8, label=\"CONTRACT\"), \n",
    "    Span(doc1, 8, 9, label=\"CONTRACT1\"), \n",
    "    Span(doc1, 10, 11, label=\"POS\"), \n",
    "    Span(doc1, 11, 12, label=\"AMOUNT\"), \n",
    "    Span(doc1, 13, 14, label=\"ARTICLE\"), \n",
    "    Span(doc1, 17, 18, label=\"PRICE\"), \n",
    "    Span(doc1, 18, 19, label=\"UNIT\"), \n",
    "    Span(doc1, 19, 20, label=\"SUM\"), \n",
    "    Span(doc1, 59, 60, label=\"TARIFF\"), \n",
    "    Span(doc1, 65, 66, label=\"COUNTRY\")] \n",
    "docs.append[doc1]\n"
   ]
  },
  {
   "cell_type": "code",
   "execution_count": 61,
   "metadata": {},
   "outputs": [
    {
     "name": "stdout",
     "output_type": "stream",
     "text": [
      "{'ABOUTNOPAGE': 10, 'STARTPAGE': 0, 'ENDPAGE': 0}\n",
      "{'21': 10, '22': 100}\n"
     ]
    }
   ],
   "source": [
    "pageinfo = {'ABOUTNOPAGE':0, 'STARTPAGE':0, 'ENDPAGE':0}\n",
    "pageinfo['ABOUTNOPAGE'] = 10\n",
    "\n",
    "print(pageinfo)\n",
    "\n",
    "a = dict()\n",
    "a['21'] = 10\n",
    "a['22'] =100\n",
    "print(a)"
   ]
  },
  {
   "cell_type": "code",
   "execution_count": null,
   "metadata": {},
   "outputs": [],
   "source": [
    "doc1 = nlp('Purchase order number: 6100074594 ( * )')\n",
    "doc1.ents = [Span(doc1, 4, 5, label='Article')]\n",
    "\n",
    "doc2 = nlp('Country of origin: Germany')\n",
    "doc2.ents = [Span(doc1, 4, 5, label='Country')]"
   ]
  },
  {
   "cell_type": "code",
   "execution_count": null,
   "metadata": {},
   "outputs": [],
   "source": [
    "startPos = 483\n",
    "for i, token in enumerate(doc[startPos: startPos + 300]):\n",
    "    print(token)"
   ]
  },
  {
   "cell_type": "code",
   "execution_count": 41,
   "metadata": {},
   "outputs": [
    {
     "data": {
      "text/plain": [
       "'Purchase order number: N SR-1-06 711\\n1300 50 PC 6010003476 (*) 237,81 100 PC 118,91\\n\\nFI-EWD-15L-V-W3-DKO\\nFI-EWD-15L-B-W3-DKO\\n\\npacked per each item\\n\\nProduct description: fitting\\n\\nExport - Customs tariff no.: 73079910\\nCountry of origin: Germany'"
      ]
     },
     "execution_count": 41,
     "metadata": {},
     "output_type": "execute_result"
    }
   ],
   "source": [
    "doc1.text"
   ]
  },
  {
   "cell_type": "code",
   "execution_count": 98,
   "metadata": {},
   "outputs": [
    {
     "name": "stdout",
     "output_type": "stream",
     "text": [
      "SR-1-06 CONTRACT\n",
      "1870 CONTRACT1\n",
      "20800 POS\n",
      "900 AMOUNT\n",
      "6100152347 ARTICLE\n",
      "12,73 PRICE\n",
      "100 UNIT\n",
      "114,57 SUM\n",
      "73181692 TARIFF\n",
      "Germany COUNTRY\n"
     ]
    }
   ],
   "source": [
    "nlp_ = spacy.load(r\"C:\\Users\\AdminAsus\\source\\python\\spacyST\\spacySt-1\\output\\model-best\")\n",
    "docx = nlp_(doc191.text)\n",
    "for ent in docx.ents:\n",
    "    print(ent.text, ent.label_)"
   ]
  }
 ],
 "metadata": {
  "interpreter": {
   "hash": "b3ba2566441a7c06988d0923437866b63cedc61552a5af99d1f4fb67d367b25f"
  },
  "kernelspec": {
   "display_name": "Python 3.9.7 ('base')",
   "language": "python",
   "name": "python3"
  },
  "language_info": {
   "codemirror_mode": {
    "name": "ipython",
    "version": 3
   },
   "file_extension": ".py",
   "mimetype": "text/x-python",
   "name": "python",
   "nbconvert_exporter": "python",
   "pygments_lexer": "ipython3",
   "version": "3.9.7"
  },
  "orig_nbformat": 4
 },
 "nbformat": 4,
 "nbformat_minor": 2
}
