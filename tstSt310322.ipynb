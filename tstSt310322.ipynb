{
 "cells": [
  {
   "cell_type": "code",
   "execution_count": 56,
   "metadata": {},
   "outputs": [],
   "source": [
    "from main import transfer, transfer26, pdfDocToString, shortening, text2spans, text2spans26\n",
    "import json\n",
    "import spacy as spacy\n",
    "from spacy.matcher import Matcher\n",
    "import os\n",
    "from datetime import datetime"
   ]
  },
  {
   "cell_type": "code",
   "execution_count": 4,
   "metadata": {},
   "outputs": [
    {
     "name": "stdout",
     "output_type": "stream",
     "text": [
      "92946890\n"
     ]
    }
   ],
   "source": [
    "def getDocName(f_name = ''):\n",
    "    return f_name.split('\\\\')[-1].split('.')[0]\n",
    "\n",
    "print(getDocName(fName)) "
   ]
  },
  {
   "cell_type": "code",
   "execution_count": 30,
   "metadata": {},
   "outputs": [],
   "source": [
    "directory = r\"C:\\Users\\alex1c\\sources\\spacySt\\StauffInvoices\"\n",
    "fName = r\"C:\\Users\\alex1c\\sources\\spacySt\\StauffInvoices\\92946890.pdf\"\n",
    "fName = r\"C:\\Users\\alex1c\\sources\\spacySt\\StauffInvoices\\92951829.pdf\""
   ]
  },
  {
   "cell_type": "code",
   "execution_count": 11,
   "metadata": {},
   "outputs": [],
   "source": [
    "fName = r\"F:\\Python\\OCR_diploma\\docs_base\\StauffInvoices\\92951828.pdf\"\n",
    "fName = r\"C:\\Users\\alex1c\\sources\\spacySt\\StauffInvoices\\92946890.pdf\"\n",
    "print(transfer26(fName=fName))"
   ]
  },
  {
   "cell_type": "code",
   "execution_count": 11,
   "metadata": {},
   "outputs": [],
   "source": [
    "def transfer_info(fName):\n",
    "    dirName = getDocName(fName)\n",
    "    fullDirName = os.path.join(directory, dirName)\n",
    "    if not os.path.exists(fullDirName):\n",
    "        print(fullDirName)\n",
    "        os.makedirs(fullDirName)   \n",
    "\n",
    "    return  "
   ]
  },
  {
   "cell_type": "code",
   "execution_count": 17,
   "metadata": {},
   "outputs": [
    {
     "name": "stdout",
     "output_type": "stream",
     "text": [
      "2022_04_04_16_15_15_236418\n"
     ]
    }
   ],
   "source": [
    "transfer_info(fName)\n",
    "print(str(datetime.now()).replace('-','_').replace(':','_').replace('.','_').replace(' ','_'))"
   ]
  },
  {
   "cell_type": "code",
   "execution_count": 39,
   "metadata": {},
   "outputs": [],
   "source": [
    "def saveIntermediateResult(f_name, content):\n",
    "    with open(f_name, 'w') as txtFile:\n",
    "        #print(datetime.datetime.now())\n",
    "        txtFile.write(content)    "
   ]
  },
  {
   "cell_type": "code",
   "execution_count": 34,
   "metadata": {},
   "outputs": [],
   "source": [
    "def getTimeSuffix():\n",
    "    return str(datetime.now()).replace('-','_').replace(':','_').replace('.','_').replace(' ','_')"
   ]
  },
  {
   "cell_type": "code",
   "execution_count": 24,
   "metadata": {},
   "outputs": [
    {
     "name": "stdout",
     "output_type": "stream",
     "text": [
      "True\n"
     ]
    },
    {
     "data": {
      "text/plain": [
       "True"
      ]
     },
     "execution_count": 24,
     "metadata": {},
     "output_type": "execute_result"
    }
   ],
   "source": [
    "import re\n",
    "\n",
    "#print(re.match('$text.txt', 'text.txt'))\n",
    "'text.txt' in '86896877_text.txt'\n",
    "if  'text.txt' in '86896877_text.txt':\n",
    "    print(True)\n",
    "else:\n",
    "    print(False)\n",
    "\n",
    "'text.txt' in '86896877_text.txt'"
   ]
  },
  {
   "cell_type": "code",
   "execution_count": 31,
   "metadata": {},
   "outputs": [
    {
     "data": {
      "text/plain": [
       "4"
      ]
     },
     "execution_count": 31,
     "metadata": {},
     "output_type": "execute_result"
    }
   ],
   "source": [
    "import re\n",
    "\n",
    "#print(re.match('*text.txt', 'text.txt'))\n",
    "\n",
    "dirName = getDocName(fName)\n",
    "fullDirName = os.path.join(directory, dirName)\n",
    "fullDirName\n",
    "len([x for x in os.listdir(fullDirName) if 'text.txt' in x])"
   ]
  },
  {
   "cell_type": "code",
   "execution_count": 60,
   "metadata": {},
   "outputs": [],
   "source": [
    "def transfer(fName):\n",
    "    dirName = getDocName(fName)\n",
    "    fullDirName = os.path.join(directory, dirName)\n",
    "    #print(fullDirName)\n",
    "    if not os.path.exists(fullDirName):\n",
    "        #print(fullDirName)\n",
    "        os.makedirs(fullDirName)   \n",
    "    comPartFname = getTimeSuffix()\n",
    "    #print(comPartFname)\n",
    "\n",
    "    matchedFiles = [x for x in os.listdir(fullDirName) if '_shorten.txt' in x] \n",
    "    if len(matchedFiles) !=0:\n",
    "        recPDF = os.path.join(fullDirName, matchedFiles[0])\n",
    "        print(recPDF)\n",
    "        #if os.path.exists(recPDF):\n",
    "        with open(recPDF, 'r') as txtFile:\n",
    "            #print(datetime.datetime.now())\n",
    "            txtS = txtFile.read() \n",
    "            print(\"Found shorten text \", recPDF) \n",
    "    else:   \n",
    "        matchedFiles = [x for x in os.listdir(fullDirName) if '_text.txt' in x]\n",
    "        \n",
    "        if len(matchedFiles) !=0:\n",
    "            recPDF = os.path.join(fullDirName, matchedFiles[0])\n",
    "            print(recPDF)\n",
    "            #if os.path.exists(recPDF):\n",
    "            with open(recPDF, 'r') as txtFile:\n",
    "                #print(datetime.datetime.now())\n",
    "                text = txtFile.read()  \n",
    "                print(\"Found recognized text \", recPDF)\n",
    "        else:   \n",
    "            text = pdfDocToString(f_name=fName)\n",
    "            saveIntermediateResult(os.path.join(fullDirName, comPartFname + '_text.txt'), text)\n",
    "            print(\"Recognize pdf to text\")\n",
    "    \n",
    "        txtS = shortening(text)\n",
    "        saveIntermediateResult(os.path.join(fullDirName, comPartFname + '_shorten.txt'), txtS)\n",
    "        print(\"Shortened  text\")\n",
    "\n",
    "    docs = text2spans26(txtS)\n",
    "    #nlp_ = spacy.load(r\"C:\\Users\\alex1c\\sources\\spacySt\\output_1\\model-best\")\n",
    "    nlp_ = spacy.load(r\"C:\\Users\\alex1c\\sources\\spacySt\\output26\\model-best\")\n",
    "    processing = ''\n",
    "    answer = []\n",
    "    for doc in docs:\n",
    "        processing += doc + '\\n'\n",
    "\n",
    "        docx = nlp_(doc)\n",
    "        #print(docx.ents)\n",
    "        res = []\n",
    "        ner = ''\n",
    "        for ent in docx.ents:\n",
    "            #try:\n",
    "            ner += '#' + ent.label_ + ':' + ent.text+'\\n'\n",
    "            #except:\n",
    "            #    print(\"ERR\", ent.label_, ent.text, type(ent.label_), type(ent.text))\n",
    "            res.append((ent.label_, ent.text))\n",
    "        answer.append(res)\n",
    "        processing += 'NER' + ner\n",
    "\n",
    "    saveIntermediateResult(os.path.join(fullDirName, comPartFname + '_proc.txt'), processing)\n",
    "    jsonStr = json.dumps(answer) \n",
    "    return jsonStr"
   ]
  },
  {
   "cell_type": "code",
   "execution_count": 58,
   "metadata": {},
   "outputs": [],
   "source": [
    "def transfer26_1904(fName):\n",
    "    text = pdfDocToString(f_name=fName)\n",
    "    txtS = shortening(text)\n",
    "    docs = text2spans26(txtS)\n",
    "    nlp_ = spacy.load(r\"C:\\Users\\alex1c\\sources\\spacySt\\output26\\model-best\")\n",
    "    answer = []\n",
    "    for doc in docs:\n",
    "        docx = nlp_(doc)\n",
    "        #print(docx.ents)\n",
    "        res = []\n",
    "        for ent in docx.ents:\n",
    "            res.append((ent.label_, ent.text))\n",
    "        answer.append(res)\n",
    "    jsonStr = json.dumps(answer) \n",
    "    return jsonStr"
   ]
  },
  {
   "cell_type": "code",
   "execution_count": 59,
   "metadata": {},
   "outputs": [
    {
     "name": "stdout",
     "output_type": "stream",
     "text": [
      "[[[\"NORDER\", \"2384496\"], [\"CONTRACT\", \"SR-1-06\"], [\"CONTRACT1\", \"1818\"], [\"AMOUNT\", \"*\"], [\"POS\", \"1600\"], [\"AMOUNT\", \"5\"], [\"ARTICLE\", \"1910000459\"], [\"PRICE\", \"20,98\"], [\"UNIT\", \"1\"], [\"SUMMA\", \"104,90\"], [\"TARIFF\", \"90262020\"], [\"COUNTRY\", \"Italy\"], [\"PR_SURCH\", \"8,90\"], [\"SURCHARGE\", \"9,34\"], [\"TOTAL\", \"114,24\"]], [[\"NORDER\", \"2386802\"], [\"CONTRACT\", \"SR-1-06\"], [\"CONTRACT1\", \"1865\"], [\"POS\", \"1700\"], [\"AMOUNT\", \"16\"], [\"ARTICLE\", \"3404002618\"], [\"PRICE\", \"10,92\"], [\"UNIT\", \"1\"], [\"SUMMA\", \"174,72\"], [\"TARIFF\", \"84812010\"], [\"COUNTRY\", \"Germany\\n\\n\"], [\"PR_SURCH\", \"6,90\"], [\"SURCHARGE\", \"12,06\"], [\"TOTAL\", \"186,78\"]], [[\"NORDER\", \"2393671\"], [\"CONTRACT\", \"SR-1-06\"], [\"CONTRACT1\", \"1997\"], [\"POS\", \"1800\"], [\"AMOUNT\", \"8\"], [\"ARTICLE\", \"1910000835\"], [\"PRICE\", \"8,62\"], [\"UNIT\", \"1\"], [\"SUMMA\", \"68,96\"], [\"TARIFF\", \"84213925\"], [\"COUNTRY\", \"Italy\"], [\"PR_SURCH\", \"11,40\"], [\"SURCHARGE\", \"7,86\"], [\"TOTAL\", \"76,82\"]], [[\"NORDER\", \"2400286\"], [\"CONTRACT\", \"SR-1-06\"], [\"CONTRACT1\", \"45\"], [\"POS\", \"1900\"], [\"AMOUNT\", \"3\"], [\"ARTICLE\", \"1910000593\"], [\"PRICE\", \"35,16\"], [\"UNIT\", \"1\"], [\"SUMMA\", \"105,48\"], [\"TARIFF\", \"90261089\"], [\"COUNTRY\", \"Germany\\n\\n\"], [\"PR_SURCH\", \"11,40\"], [\"SURCHARGE\", \"12,02\"], [\"TOTAL\", \"117,50\"]], [[\"NORDER\", \"2400289\"], [\"CONTRACT\", \"SR-1-06\"], [\"CONTRACT1\", \"46\"], [\"POS\", \"3200\"], [\"AMOUNT\", \"8\"], [\"ARTICLE\", \"1910000835\"], [\"PRICE\", \"8,62\"], [\"UNIT\", \"1\"], [\"SUMMA\", \"68,96\"], [\"TARIFF\", \"84213925\"], [\"COUNTRY\", \"Italy\"], [\"PR_SURCH\", \"11,40\"], [\"SURCHARGE\", \"7,86\"], [\"TOTAL\", \"76,82\"]], [[\"NORDER\", \"2400289\"], [\"CONTRACT\", \"SR-1-06\"], [\"CONTRACT1\", \"46\"], [\"POS\", \"5300\"], [\"AMOUNT\", \"45\"], [\"ARTICLE\", \"6010008033\"], [\"PRICE\", \"253,45\"], [\"UNIT\", \"100\"], [\"SUMMA\", \"114,05\"], [\"TARIFF\", \"73079290\"], [\"COUNTRY\", \"Germany\\n\\n\"], [\"PR_SURCH\", \"6,90\"], [\"SURCHARGE\", \"7,87\"], [\"TOTAL\", \"121,92\"]], [[\"NORDER\", \"2403191\"], [\"CONTRACT\", \"SR-1-06\"], [\"CONTRACT1\", \"51\"], [\"POS\", \"5400\"], [\"AMOUNT\", \"20\"], [\"ARTICLE\", \"6010003210\"], [\"PRICE\", \"757,33\"], [\"UNIT\", \"100\"], [\"SUMMA\", \"151,47\"], [\"TARIFF\", \"73079910\"], [\"COUNTRY\", \"Germany\\n\\n\\n\\n\"], [\"PR_SURCH\", \"6,90\"], [\"SURCHARGE\", \"10,45\"], [\"TOTAL\", \"161,92\"]], [[\"NORDER\", \"2403202\"], [\"CONTRACT\", \"SR-1-06\"], [\"CONTRACT1\", \"60\"], [\"POS\", \"5500\"], [\"AMOUNT\", \"20\"], [\"ARTICLE\", \"6010004114\"], [\"PRICE\", \"193,68\"], [\"UNIT\", \"100\"], [\"SUMMA\", \"38,74\"], [\"TARIFF\", \"73079910\"], [\"COUNTRY\", \"Germany\\n\\n\"], [\"PR_SURCH\", \"6,90\"], [\"SURCHARGE\", \"2,67\"], [\"TOTAL\", \"41,41\"]], [[\"NORDER\", \"2403202\"], [\"CONTRACT\", \"SR-1-06\"], [\"CONTRACT1\", \"60\"], [\"POS\", \"5600\"], [\"AMOUNT\", \"10\"], [\"ARTICLE\", \"1210026050\"], [\"PRICE\", \"8,71\"], [\"UNIT\", \"1\"], [\"SUMMA\", \"87,10\"], [\"TARIFF\", \"84818073\"], [\"COUNTRY\", \"Germany\\n\\n\"], [\"PR_SURCH\", \"11,40\"], [\"SURCHARGE\", \"9,93\"], [\"TOTAL\", \"97,03\"]], [[\"NORDER\", \"2403202\"], [\"CONTRACT\", \"SR-1-06\"], [\"CONTRACT1\", \"60\"], [\"POS\", \"5700\"], [\"AMOUNT\", \"39\"], [\"ARTICLE\", \"6010008033\"], [\"PRICE\", \"253,45\"], [\"UNIT\", \"100\"], [\"SUMMA\", \"98,85\"], [\"TARIFF\", \"73079290\"], [\"COUNTRY\", \"Germany\\n\\n\"], [\"PR_SURCH\", \"6,90\"], [\"SURCHARGE\", \"6,82\"], [\"TOTAL\", \"105,67\"]], [[\"NORDER\", \"2403203\"], [\"CONTRACT\", \"SR-1-06\"], [\"CONTRACT1\", \"61\"], [\"POS\", \"5800\"], [\"AMOUNT\", \"1\"], [\"ARTICLE\", \"6100148875\"], [\"PRICE\", \"157,00\"], [\"UNIT\", \"1\"], [\"SUMMA\", \"157,00\"], [\"TARIFF\", \"84212980\"], [\"COUNTRY\", \"Germany\\n\\n\"], [\"PR_SURCH\", \"8,90\"], [\"SURCHARGE\", \"13,97\"], [\"TOTAL\", \"170,97\"]], [[\"NORDER\", \"2406871\"], [\"CONTRACT\", \"SR-1-06\"], [\"CONTRACT1\", \"90\"], [\"POS\", \"5900\"], [\"AMOUNT\", \"10.000\"], [\"ARTICLE\", \"1130004020\"], [\"PRICE\", \"3,93\"], [\"UNIT\", \"100\"], [\"SUMMA\", \"393,00\"], [\"TARIFF\", \"73181588\"], [\"COUNTRY\", \"Origin unknown\"], [\"PR_SURCH\", \"11,40\"], [\"SURCHARGE\", \"44,80\"], [\"TOTAL\", \"437,80\"]], [[\"NORDER\", \"2406871\"], [\"CONTRACT\", \"SR-1-06\"], [\"CONTRACT1\", \"90\"], [\"POS\", \"6000\"], [\"AMOUNT\", \"10.000\"], [\"ARTICLE\", \"6100152347\"], [\"PRICE\", \"12,73\"], [\"UNIT\", \"100\"], [\"SUMMA\", \"1.273,00\"], [\"TARIFF\", \"73181692\"], [\"COUNTRY\", \"Germany\\n\\n\"], [\"PR_SURCH\", \"11,40\"], [\"SURCHARGE\", \"145,12\"], [\"TOTAL\", \"1.418,12\"]], [[\"NORDER\", \"2406871\"], [\"CONTRACT\", \"SR-1-06\"], [\"CONTRACT1\", \"90\"], [\"POS\", \"6100\"], [\"AMOUNT\", \"15.000\"], [\"ARTICLE\", \"6020002496\"], [\"PRICE\", \"43,75\"], [\"UNIT\", \"100\"], [\"SUMMA\", \"6.562,50\"], [\"TARIFF\", \"73269098\"], [\"COUNTRY\", \"Germany\\n\\n\"], [\"PR_SURCH\", \"6,90\"], [\"SURCHARGE\", \"452,81\"], [\"TOTAL\", \"7.015,31\"]], [[\"NORDER\", \"2406871\"], [\"CONTRACT\", \"SR-1-06\"], [\"CONTRACT1\", \"90\"], [\"POS\", \"6200\"], [\"AMOUNT\", \"10.000\"], [\"ARTICLE\", \"1130002997\"], [\"PRICE\", \"26,38\"], [\"UNIT\", \"100\"], [\"SUMMA\", \"2.638,00\"], [\"TARIFF\", \"39269097\"], [\"COUNTRY\", \"Germany\\n\\n\"], [\"PR_SURCH\", \"11,40\"], [\"SURCHARGE\", \"300,73\"], [\"TOTAL\", \"2.938,73\"]], [[\"NORDER\", \"2406871\"], [\"CONTRACT\", \"SR-1-06\"], [\"CONTRACT1\", \"90\"], [\"POS\", \"6300\"], [\"AMOUNT\", \"10.000\"], [\"ARTICLE\", \"1130000255\"], [\"PRICE\", \"6,24\"], [\"UNIT\", \"100\"], [\"SUMMA\", \"624,00\"], [\"UNIT\", \"1\"], [\"TARIFF\", \"73269098\"], [\"COUNTRY\", \"Germany\\n\\n\"], [\"PR_SURCH\", \"11,40\"], [\"SURCHARGE\", \"71,14\"], [\"TOTAL\", \"695,14\"]], [[\"NORDER\", \"2406871\"], [\"CONTRACT\", \"SR-1-06\"], [\"CONTRACT1\", \"90\"], [\"POS\", \"6400\"], [\"AMOUNT\", \"33\"], [\"ARTICLE\", \"1230000224\"], [\"PRICE\", \"1,46\"], [\"UNIT\", \"1\"], [\"SUMMA\", \"48,18\"], [\"TARIFF\", \"73079319\"], [\"COUNTRY\", \"Germany\\n\\n\"], [\"PR_SURCH\", \"11,40\"], [\"SURCHARGE\", \"5,49\"], [\"TOTAL\", \"53,67\"]], [[\"NORDER\", \"2407330\"], [\"CONTRACT\", \"SR-1-06\"], [\"CONTRACT1\", \"101\"], [\"POS\", \"6500\"], [\"AMOUNT\", \"1\"], [\"ARTICLE\", \"6010000294\"], [\"PRICE\", \"1.168,26\"], [\"UNIT\", \"100\"], [\"SUMMA\", \"11,68\"], [\"TARIFF\", \"84813091\"], [\"COUNTRY\", \"Germany\\n\\n\"], [\"PR_SURCH\", \"6,90\"], [\"SURCHARGE\", \"0,81\"], [\"TOTAL\", \"12,49\"], [\"TOTAL\", \"13.842,34\"], [\"PR_SURCH\", \"0,00\"], [\"SURCHARGE\", \"13.842,34\"], [\"TOTAL\", \"0,00\"], [\"TOTAL\", \"605,66\"]]]\n"
     ]
    }
   ],
   "source": [
    "fName = r\"C:\\Users\\alex1c\\sources\\spacySt\\StauffInvoices\\92946890.pdf\"\n",
    "print(transfer26_1904(fName=fName))"
   ]
  },
  {
   "cell_type": "code",
   "execution_count": 61,
   "metadata": {},
   "outputs": [
    {
     "name": "stdout",
     "output_type": "stream",
     "text": [
      "C:\\Users\\alex1c\\sources\\spacySt\\StauffInvoices\\92946890\\2022_04_19_14_57_50_660986_shorten.txt\n",
      "Found shorten text  C:\\Users\\alex1c\\sources\\spacySt\\StauffInvoices\\92946890\\2022_04_19_14_57_50_660986_shorten.txt\n",
      "[[[\"NORDER\", \"2384496\"], [\"CONTRACT\", \"SR-1-06\"], [\"CONTRACT1\", \"1818\"], [\"AMOUNT\", \"*\"], [\"POS\", \"1600\"], [\"AMOUNT\", \"5\"], [\"ARTICLE\", \"1910000459\"], [\"PRICE\", \"20,98\"], [\"UNIT\", \"1\"], [\"SUMMA\", \"104,90\"], [\"TARIFF\", \"90262020\"], [\"COUNTRY\", \"Italy\"], [\"PR_SURCH\", \"8,90\"], [\"SURCHARGE\", \"9,34\"], [\"TOTAL\", \"114,24\"]], [[\"NORDER\", \"2386802\"], [\"CONTRACT\", \"SR-1-06\"], [\"CONTRACT1\", \"1865\"], [\"POS\", \"1700\"], [\"AMOUNT\", \"16\"], [\"ARTICLE\", \"3404002618\"], [\"PRICE\", \"10,92\"], [\"UNIT\", \"1\"], [\"SUMMA\", \"174,72\"], [\"TARIFF\", \"84812010\"], [\"COUNTRY\", \"Germany\\n\\n\"], [\"PR_SURCH\", \"6,90\"], [\"SURCHARGE\", \"12,06\"], [\"TOTAL\", \"186,78\"]], [[\"NORDER\", \"2393671\"], [\"CONTRACT\", \"SR-1-06\"], [\"CONTRACT1\", \"1997\"], [\"POS\", \"1800\"], [\"AMOUNT\", \"8\"], [\"ARTICLE\", \"1910000835\"], [\"PRICE\", \"8,62\"], [\"UNIT\", \"1\"], [\"SUMMA\", \"68,96\"], [\"TARIFF\", \"84213925\"], [\"COUNTRY\", \"Italy\"], [\"PR_SURCH\", \"11,40\"], [\"SURCHARGE\", \"7,86\"], [\"TOTAL\", \"76,82\"]], [[\"NORDER\", \"2400286\"], [\"CONTRACT\", \"SR-1-06\"], [\"CONTRACT1\", \"45\"], [\"POS\", \"1900\"], [\"AMOUNT\", \"3\"], [\"ARTICLE\", \"1910000593\"], [\"PRICE\", \"35,16\"], [\"UNIT\", \"1\"], [\"SUMMA\", \"105,48\"], [\"TARIFF\", \"90261089\"], [\"COUNTRY\", \"Germany\\n\\n\"], [\"PR_SURCH\", \"11,40\"], [\"SURCHARGE\", \"12,02\"], [\"TOTAL\", \"117,50\"]], [[\"NORDER\", \"2400289\"], [\"CONTRACT\", \"SR-1-06\"], [\"CONTRACT1\", \"46\"], [\"POS\", \"3200\"], [\"AMOUNT\", \"8\"], [\"ARTICLE\", \"1910000835\"], [\"PRICE\", \"8,62\"], [\"UNIT\", \"1\"], [\"SUMMA\", \"68,96\"], [\"TARIFF\", \"84213925\"], [\"COUNTRY\", \"Italy\"], [\"PR_SURCH\", \"11,40\"], [\"SURCHARGE\", \"7,86\"], [\"TOTAL\", \"76,82\"]], [[\"NORDER\", \"2400289\"], [\"CONTRACT\", \"SR-1-06\"], [\"CONTRACT1\", \"46\"], [\"POS\", \"5300\"], [\"AMOUNT\", \"45\"], [\"ARTICLE\", \"6010008033\"], [\"PRICE\", \"253,45\"], [\"UNIT\", \"100\"], [\"SUMMA\", \"114,05\"], [\"TARIFF\", \"73079290\"], [\"COUNTRY\", \"Germany\\n\\n\"], [\"PR_SURCH\", \"6,90\"], [\"SURCHARGE\", \"7,87\"], [\"TOTAL\", \"121,92\"]], [[\"NORDER\", \"2403191\"], [\"CONTRACT\", \"SR-1-06\"], [\"CONTRACT1\", \"51\"], [\"POS\", \"5400\"], [\"AMOUNT\", \"20\"], [\"ARTICLE\", \"6010003210\"], [\"PRICE\", \"757,33\"], [\"UNIT\", \"100\"], [\"SUMMA\", \"151,47\"], [\"TARIFF\", \"73079910\"], [\"COUNTRY\", \"Germany\\n\\n\\n\\n\"], [\"PR_SURCH\", \"6,90\"], [\"SURCHARGE\", \"10,45\"], [\"TOTAL\", \"161,92\"]], [[\"NORDER\", \"2403202\"], [\"CONTRACT\", \"SR-1-06\"], [\"CONTRACT1\", \"60\"], [\"POS\", \"5500\"], [\"AMOUNT\", \"20\"], [\"ARTICLE\", \"6010004114\"], [\"PRICE\", \"193,68\"], [\"UNIT\", \"100\"], [\"SUMMA\", \"38,74\"], [\"TARIFF\", \"73079910\"], [\"COUNTRY\", \"Germany\\n\\n\"], [\"PR_SURCH\", \"6,90\"], [\"SURCHARGE\", \"2,67\"], [\"TOTAL\", \"41,41\"]], [[\"NORDER\", \"2403202\"], [\"CONTRACT\", \"SR-1-06\"], [\"CONTRACT1\", \"60\"], [\"POS\", \"5600\"], [\"AMOUNT\", \"10\"], [\"ARTICLE\", \"1210026050\"], [\"PRICE\", \"8,71\"], [\"UNIT\", \"1\"], [\"SUMMA\", \"87,10\"], [\"TARIFF\", \"84818073\"], [\"COUNTRY\", \"Germany\\n\\n\"], [\"PR_SURCH\", \"11,40\"], [\"SURCHARGE\", \"9,93\"], [\"TOTAL\", \"97,03\"]], [[\"NORDER\", \"2403202\"], [\"CONTRACT\", \"SR-1-06\"], [\"CONTRACT1\", \"60\"], [\"POS\", \"5700\"], [\"AMOUNT\", \"39\"], [\"ARTICLE\", \"6010008033\"], [\"PRICE\", \"253,45\"], [\"UNIT\", \"100\"], [\"SUMMA\", \"98,85\"], [\"TARIFF\", \"73079290\"], [\"COUNTRY\", \"Germany\\n\\n\"], [\"PR_SURCH\", \"6,90\"], [\"SURCHARGE\", \"6,82\"], [\"TOTAL\", \"105,67\"]], [[\"NORDER\", \"2403203\"], [\"CONTRACT\", \"SR-1-06\"], [\"CONTRACT1\", \"61\"], [\"POS\", \"5800\"], [\"AMOUNT\", \"1\"], [\"ARTICLE\", \"6100148875\"], [\"PRICE\", \"157,00\"], [\"UNIT\", \"1\"], [\"SUMMA\", \"157,00\"], [\"TARIFF\", \"84212980\"], [\"COUNTRY\", \"Germany\\n\\n\"], [\"PR_SURCH\", \"8,90\"], [\"SURCHARGE\", \"13,97\"], [\"TOTAL\", \"170,97\"]], [[\"NORDER\", \"2406871\"], [\"CONTRACT\", \"SR-1-06\"], [\"CONTRACT1\", \"90\"], [\"POS\", \"5900\"], [\"AMOUNT\", \"10.000\"], [\"ARTICLE\", \"1130004020\"], [\"PRICE\", \"3,93\"], [\"UNIT\", \"100\"], [\"SUMMA\", \"393,00\"], [\"TARIFF\", \"73181588\"], [\"COUNTRY\", \"Origin unknown\"], [\"PR_SURCH\", \"11,40\"], [\"SURCHARGE\", \"44,80\"], [\"TOTAL\", \"437,80\"]], [[\"NORDER\", \"2406871\"], [\"CONTRACT\", \"SR-1-06\"], [\"CONTRACT1\", \"90\"], [\"POS\", \"6000\"], [\"AMOUNT\", \"10.000\"], [\"ARTICLE\", \"6100152347\"], [\"PRICE\", \"12,73\"], [\"UNIT\", \"100\"], [\"SUMMA\", \"1.273,00\"], [\"TARIFF\", \"73181692\"], [\"COUNTRY\", \"Germany\\n\\n\"], [\"PR_SURCH\", \"11,40\"], [\"SURCHARGE\", \"145,12\"], [\"TOTAL\", \"1.418,12\"]], [[\"NORDER\", \"2406871\"], [\"CONTRACT\", \"SR-1-06\"], [\"CONTRACT1\", \"90\"], [\"POS\", \"6100\"], [\"AMOUNT\", \"15.000\"], [\"ARTICLE\", \"6020002496\"], [\"PRICE\", \"43,75\"], [\"UNIT\", \"100\"], [\"SUMMA\", \"6.562,50\"], [\"TARIFF\", \"73269098\"], [\"COUNTRY\", \"Germany\\n\\n\"], [\"PR_SURCH\", \"6,90\"], [\"SURCHARGE\", \"452,81\"], [\"TOTAL\", \"7.015,31\"]], [[\"NORDER\", \"2406871\"], [\"CONTRACT\", \"SR-1-06\"], [\"CONTRACT1\", \"90\"], [\"POS\", \"6200\"], [\"AMOUNT\", \"10.000\"], [\"ARTICLE\", \"1130002997\"], [\"PRICE\", \"26,38\"], [\"UNIT\", \"100\"], [\"SUMMA\", \"2.638,00\"], [\"TARIFF\", \"39269097\"], [\"COUNTRY\", \"Germany\\n\\n\"], [\"PR_SURCH\", \"11,40\"], [\"SURCHARGE\", \"300,73\"], [\"TOTAL\", \"2.938,73\"]], [[\"NORDER\", \"2406871\"], [\"CONTRACT\", \"SR-1-06\"], [\"CONTRACT1\", \"90\"], [\"POS\", \"6300\"], [\"AMOUNT\", \"10.000\"], [\"ARTICLE\", \"1130000255\"], [\"PRICE\", \"6,24\"], [\"UNIT\", \"100\"], [\"SUMMA\", \"624,00\"], [\"UNIT\", \"1\"], [\"TARIFF\", \"73269098\"], [\"COUNTRY\", \"Germany\\n\\n\"], [\"PR_SURCH\", \"11,40\"], [\"SURCHARGE\", \"71,14\"], [\"TOTAL\", \"695,14\"]], [[\"NORDER\", \"2406871\"], [\"CONTRACT\", \"SR-1-06\"], [\"CONTRACT1\", \"90\"], [\"POS\", \"6400\"], [\"AMOUNT\", \"33\"], [\"ARTICLE\", \"1230000224\"], [\"PRICE\", \"1,46\"], [\"UNIT\", \"1\"], [\"SUMMA\", \"48,18\"], [\"TARIFF\", \"73079319\"], [\"COUNTRY\", \"Germany\\n\\n\"], [\"PR_SURCH\", \"11,40\"], [\"SURCHARGE\", \"5,49\"], [\"TOTAL\", \"53,67\"]], [[\"NORDER\", \"2407330\"], [\"CONTRACT\", \"SR-1-06\"], [\"CONTRACT1\", \"101\"], [\"POS\", \"6500\"], [\"AMOUNT\", \"1\"], [\"ARTICLE\", \"6010000294\"], [\"PRICE\", \"1.168,26\"], [\"UNIT\", \"100\"], [\"SUMMA\", \"11,68\"], [\"TARIFF\", \"84813091\"], [\"COUNTRY\", \"Germany\\n\\n\"], [\"PR_SURCH\", \"6,90\"], [\"SURCHARGE\", \"0,81\"], [\"TOTAL\", \"12,49\"], [\"TOTAL\", \"13.842,34\"], [\"PR_SURCH\", \"0,00\"], [\"SURCHARGE\", \"13.842,34\"], [\"TOTAL\", \"0,00\"], [\"TOTAL\", \"605,66\"]]]\n"
     ]
    }
   ],
   "source": [
    "fName = r\"C:\\Users\\alex1c\\sources\\spacySt\\StauffInvoices\\92946890.pdf\"\n",
    "print(transfer(fName=fName))"
   ]
  },
  {
   "cell_type": "code",
   "execution_count": null,
   "metadata": {},
   "outputs": [],
   "source": [
    "def shortening_loc(text):\n",
    "    nlp = spacy.blank(\"en\")\n",
    "\n",
    "    doc = nlp(text)\n",
    "\n",
    "    matcher = Matcher(nlp.vocab)\n",
    "\n",
    "    pattern3 = [\n",
    "        {'LOWER':'CONTRIBUTING'.lower()},\n",
    "        {'LOWER':'TO'.lower()}, \n",
    "        {'LOWER':'YOUR'.lower()}, \n",
    "        {'LOWER':'SUCCESS'.lower()}\n",
    "        ]\n",
    "    matcher.add('ENDPAGE', [pattern3])\n",
    "\n",
    "    pattern4 = [\n",
    "        {'LOWER':'article'},\n",
    "        {'LOWER':'code'}, \n",
    "        {'LOWER':'price'}, \n",
    "        {'LOWER':'eur'},\n",
    "        {'LOWER':'unit'},\n",
    "        {'LOWER':'amount'},\n",
    "        {'LOWER':'eur'}\n",
    "    ]\n",
    "\n",
    "    pattern4_ = [{'LOWER':'russische'}, {'LOWER':'foed'}]\n",
    "    matcher.add('STARTPAGE', [pattern4, pattern4_])\n",
    "\n",
    "    pattern5  = [\n",
    "        {'LOWER':'doc.no'},\n",
    "        {'LOWER':'.'},\n",
    "        {'LOWER':'/'},\n",
    "        {'LOWER':'date'},\n",
    "        {'LOWER':'page'}\n",
    "    ]\n",
    "    \n",
    "    pattern6  = [\n",
    "        {'LOWER':'doc.по'},\n",
    "        {'LOWER':'.'},\n",
    "        {'LOWER':'/'},\n",
    "        {'LOWER':'date'},\n",
    "        {'LOWER':'page'}\n",
    "    ] \n",
    "    matcher.add('ABOUTNOPAGE', [pattern5, pattern6])\n",
    "\n",
    "    doc = nlp(text)\n",
    "\n",
    "    matches = matcher(doc)\n",
    "    spans = [Span(doc, start, end, label=match_id) for match_id, start, end in matches]\n",
    "\n",
    "    paging = []\n",
    "\n",
    "    pageinfo = {'ABOUTNOPAGE':0, 'STARTPAGE':0, 'ENDPAGE':0}\n",
    "    shortenText = ''\n",
    "    firstPage = True\n",
    "    txt = '''import spacy\n",
    "    from spacy.tokens import Span\n",
    "\n",
    "    nlp = spacy.blank(\"en\")\\n'''\n",
    "    docs  = []\n",
    "    npos = 0\n",
    "    npage = 0\n",
    "    for sp in spans:\n",
    "        if sp.label_  == 'ABOUTNOPAGE':\n",
    "            pageinfo[sp.label_] = sp.end\n",
    "        elif sp.label_  == 'STARTPAGE':\n",
    "            pageinfo[sp.label_] = sp.end\n",
    "        elif sp.label_  == 'ENDPAGE':\n",
    "            pageinfo[sp.label_] = sp.start\n",
    "            paging.append(pageinfo)\n",
    "            \n",
    "            if firstPage ==True:\n",
    "                shortenText = doc[:pageinfo['ENDPAGE']].text\n",
    "                firstPage = False\n",
    "                docs.append(doc[:pageinfo['ENDPAGE']].text)\n",
    "                txt = txt + strSeparator + doc[:pageinfo['ENDPAGE']].text \n",
    "            else:\n",
    "                shortenText = shortenText +  doc[pageinfo['STARTPAGE']:pageinfo['ENDPAGE']].text\n",
    "                docs.append(doc[pageinfo['STARTPAGE']:pageinfo['ENDPAGE']].text)\n",
    "                txt = txt + strSeparator + doc[pageinfo['STARTPAGE']:pageinfo['ENDPAGE']].text \n",
    "            pageinfo = {'ABOUTNOPAGE':0, 'STARTPAGE':0, 'ENDPAGE':0}\n",
    "            npage += 1\n",
    "\n",
    "\n",
    "    return shortenText"
   ]
  }
 ],
 "metadata": {
  "interpreter": {
   "hash": "b89b5cfaba6639976dc87ff2fec6d58faec662063367e2c229c520fe71072417"
  },
  "kernelspec": {
   "display_name": "Python 3.10.2 64-bit",
   "language": "python",
   "name": "python3"
  },
  "language_info": {
   "codemirror_mode": {
    "name": "ipython",
    "version": 3
   },
   "file_extension": ".py",
   "mimetype": "text/x-python",
   "name": "python",
   "nbconvert_exporter": "python",
   "pygments_lexer": "ipython3",
   "version": "3.10.2"
  },
  "orig_nbformat": 4
 },
 "nbformat": 4,
 "nbformat_minor": 2
}
