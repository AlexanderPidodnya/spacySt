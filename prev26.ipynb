{
 "cells": [
  {
   "cell_type": "code",
   "execution_count": 1,
   "metadata": {},
   "outputs": [],
   "source": [
    "import pytesseract\n",
    "import cv2\n",
    "import matplotlib.pyplot as plt\n",
    "from PIL import Image\n",
    "import requests\n",
    "import os\n",
    "from pdf2image import convert_from_path, convert_from_bytes\n",
    "\n",
    "from pdf2image.exceptions import (\n",
    "    PDFInfoNotInstalledError,\n",
    "    PDFPageCountError,\n",
    "    PDFSyntaxError\n",
    ")\n",
    "\n",
    "from main import transfer26, pdfDocToString, shortening, text2spans26\n",
    "\n",
    "# first level of shortening\n",
    "import spacy as spacy\n",
    "import json\n",
    "from spacy.tokens import Span\n",
    "from spacy.matcher import Matcher"
   ]
  },
  {
   "cell_type": "code",
   "execution_count": 2,
   "metadata": {},
   "outputs": [],
   "source": [
    "fName = r\"F:\\Python\\OCR_diploma\\docs_base\\StauffInvoices\\92951827.pdf\" \n",
    "fName = r\"F:\\Python\\OCR_diploma\\docs_base\\StauffInvoices\\92951828.pdf\"\n",
    "fName = r\"F:\\Python\\OCR_diploma\\docs_base\\StauffInvoices\\92946889.pdf\"\n"
   ]
  },
  {
   "cell_type": "code",
   "execution_count": 3,
   "metadata": {},
   "outputs": [
    {
     "data": {
      "text/plain": [
       "'[[[\"NORDER\", \"2360210\"], [\"CONTRACT\", \"SR-1-06\"], [\"CONTRACT1\", \"1577\"], [\"POS\", \"11200\"], [\"AMOUNT\", \"120\"], [\"ARTICLE\", \"6010001432\"], [\"PRICE\", \"187,55\"], [\"UNIT\", \"100\"], [\"SUMMA\", \"225,06\"], [\"TARIFF\", \"73079910\"], [\"COUNTRY\", \"Germany\\\\n\\\\n\"], [\"PR_SURCH\", \"6,90\"], [\"SURCHARGE\", \"15,53\"], [\"TOTAL\", \"240,59\"]], [[\"NORDER\", \"2360211\"], [\"CONTRACT\", \"SR-1-06\"], [\"CONTRACT1\", \"1578\"], [\"POS\", \"11300\"], [\"AMOUNT\", \"6.600\"], [\"ARTICLE\", \"1120021036\"], [\"PRICE\", \"23,81\"], [\"UNIT\", \"100\"], [\"SUMMA\", \"1.571,46\"], [\"TARIFF\", \"73269098\"], [\"COUNTRY\", \"Germany\\\\n\\\\n\"], [\"PR_SURCH\", \"11,40\"], [\"SURCHARGE\", \"179,15\"], [\"TOTAL\", \"1.750,61\"]], [[\"NORDER\", \"2367112\"], [\"CONTRACT\", \"SR-1-06\"], [\"CONTRACT1\", \"1662\"], [\"POS\", \"11400\"], [\"AMOUNT\", \"60\"], [\"ARTICLE\", \"6020000526\"], [\"PRICE\", \"135,77\"], [\"UNIT\", \"100\"], [\"SUMMA\", \"81,46\"], [\"TARIFF\", \"73079910\"], [\"COUNTRY\", \"Germany\\\\n\\\\n\"], [\"PR_SURCH\", \"6,90\"], [\"SURCHARGE\", \"5,62\"], [\"TOTAL\", \"87,08\"]], [[\"NORDER\", \"2367113\"], [\"CONTRACT\", \"SR-1-06\"], [\"CONTRACT1\", \"1663\"], [\"POS\", \"11500\"], [\"AMOUNT\", \"48\"], [\"ARTICLE\", \"6010003210\"], [\"PRICE\", \"688,48\"], [\"UNIT\", \"100\"], [\"SUMMA\", \"330,47\"], [\"TARIFF\", \"73079910\"], [\"COUNTRY\", \"Germany\\\\n\\\\n\"], [\"PR_SURCH\", \"6,90\"], [\"SURCHARGE\", \"22,80\"], [\"TOTAL\", \"353,27\"]], [[\"NORDER\", \"2370449\"], [\"CONTRACT\", \"SR-1-06\"], [\"CONTRACT1\", \"1678\"], [\"POS\", \"11600\"], [\"AMOUNT\", \"140\"], [\"ARTICLE\", \"1110015917\"], [\"PRICE\", \"83,81\"], [\"UNIT\", \"100\"], [\"SUMMA\", \"117,33\"], [\"TARIFF\", \"39269097\"], [\"COUNTRY\", \"Germany\\\\n\\\\n\"], [\"PR_SURCH\", \"11,40\"], [\"SURCHARGE\", \"13,38\"], [\"TOTAL\", \"130,71\"]], [[\"NORDER\", \"2373928\"], [\"CONTRACT\", \"SR-1-06\"], [\"CONTRACT1\", \"1688\"], [\"POS\", \"12100\"], [\"AMOUNT\", \"125\"], [\"ARTICLE\", \"1120021036\"], [\"PRICE\", \"26,19\"], [\"UNIT\", \"100\"], [\"SUMMA\", \"32,74\"], [\"TARIFF\", \"73269098\"], [\"COUNTRY\", \"Germany\\\\n\\\\n\"], [\"PR_SURCH\", \"11,40\"], [\"SURCHARGE\", \"3,73\"], [\"TOTAL\", \"36,47\"]], [[\"NORDER\", \"2377169\"], [\"CONTRACT\", \"SR-1-06\"], [\"CONTRACT1\", \"1716\"], [\"POS\", \"12200\"], [\"AMOUNT\", \"225\"], [\"ARTICLE\", \"1120002537\"], [\"PRICE\", \"28,25\"], [\"UNIT\", \"100\"], [\"SUMMA\", \"63,56\"], [\"TARIFF\", \"73269098\"], [\"COUNTRY\", \"Germany\\\\n\\\\n\"], [\"PR_SURCH\", \"11,40\"], [\"SURCHARGE\", \"7,25\"], [\"TOTAL\", \"70,81\"]], [[\"NORDER\", \"2384500\"], [\"CONTRACT\", \"SR-1-06\"], [\"CONTRACT1\", \"1819\"], [\"AMOUNT\", \"*\"], [\"POS\", \"12300\"], [\"AMOUNT\", \"2\"], [\"ARTICLE\", \"1910000459\"], [\"PRICE\", \"20,98\"], [\"UNIT\", \"1\"], [\"SUMMA\", \"41,96\"], [\"TARIFF\", \"90262020\"], [\"COUNTRY\", \"Italy\"], [\"PR_SURCH\", \"8,90\"], [\"SURCHARGE\", \"3,73\"], [\"TOTAL\", \"45,69\"]], [[\"NORDER\", \"2384637\"], [\"CONTRACT\", \"SR-1-06\"], [\"CONTRACT1\", \"1825\"], [\"POS\", \"12400\"], [\"AMOUNT\", \"16\"], [\"ARTICLE\", \"1910000459\"], [\"PRICE\", \"20,98\"], [\"UNIT\", \"1\"], [\"SUMMA\", \"335,68\"], [\"TARIFF\", \"90262020\"], [\"COUNTRY\", \"Italy\"], [\"PR_SURCH\", \"8,90\"], [\"SURCHARGE\", \"29,88\"], [\"TOTAL\", \"365,56\"]], [[\"NORDER\", \"2384638\"], [\"CONTRACT\", \"SR-1-06\"], [\"CONTRACT1\", \"1826\"], [\"POS\", \"12500\"], [\"AMOUNT\", \"10\"], [\"ARTICLE\", \"6010003210\"], [\"PRICE\", \"757,33\"], [\"UNIT\", \"100\"], [\"SUMMA\", \"75,73\"], [\"TARIFF\", \"73079910\"], [\"COUNTRY\", \"Germany\\\\n\\\\n\\\\n\\\\n\"], [\"PR_SURCH\", \"6,90\"], [\"SURCHARGE\", \"5,23\"], [\"TOTAL\", \"80,96\"]], [[\"NORDER\", \"2388221\"], [\"CONTRACT\", \"SR-1-06\"], [\"CONTRACT1\", \"1900\"], [\"POS\", \"12600\"], [\"AMOUNT\", \"500\"], [\"ARTICLE\", \"6030003815\"], [\"PRICE\", \"18,68\"], [\"UNIT\", \"100\"], [\"SUMMA\", \"93,40\"], [\"TARIFF\", \"73079910\"], [\"COUNTRY\", \"Germany\\\\n\\\\n\"], [\"PR_SURCH\", \"6,90\"], [\"SURCHARGE\", \"6,44\"], [\"TOTAL\", \"99,84\"]], [[\"NORDER\", \"2388225\"], [\"CONTRACT\", \"SR-1-06\"], [\"CONTRACT1\", \"1899\"], [\"POS\", \"12700\"], [\"AMOUNT\", \"5.500\"], [\"ARTICLE\", \"6030003827\"], [\"PRICE\", \"53,56\"], [\"UNIT\", \"100\"], [\"SUMMA\", \"2.945,80\"], [\"TARIFF\", \"73079910\"], [\"COUNTRY\", \"Germany\\\\n\\\\n\"], [\"PR_SURCH\", \"6,90\"], [\"SURCHARGE\", \"203,26\"], [\"TOTAL\", \"3.149,06\"]], [[\"NORDER\", \"2388225\"], [\"CONTRACT\", \"SR-1-06\"], [\"CONTRACT1\", \"1899\"], [\"POS\", \"12800\"], [\"AMOUNT\", \"200\"], [\"ARTICLE\", \"6100165018\"], [\"PRICE\", \"19,84\"], [\"UNIT\", \"1\"], [\"SUMMA\", \"3.968,00\"], [\"TARIFF\", \"73079100\"], [\"COUNTRY\", \"Italy\"], [\"PR_SURCH\", \"15,50\"], [\"SURCHARGE\", \"615,04\"], [\"TOTAL\", \"4.583,04\"]], [[\"NORDER\", \"2390571\"], [\"CONTRACT\", \"SR-1-06\"], [\"CONTRACT1\", \"1912\"], [\"POS\", \"12900\"], [\"AMOUNT\", \"50\"], [\"ARTICLE\", \"1910000432\"], [\"PRICE\", \"4,07\"], [\"UNIT\", \"1\"], [\"SUMMA\", \"203,50\"], [\"TARIFF\", \"84213925\"], [\"COUNTRY\", \"Italy\"], [\"PR_SURCH\", \"11,40\"], [\"SURCHARGE\", \"23,20\"], [\"TOTAL\", \"226,70\"]], [[\"NORDER\", \"2390871\"], [\"CONTRACT\", \"SR-1-06\"], [\"CONTRACT1\", \"1916\"], [\"POS\", \"13000\"], [\"AMOUNT\", \"240\"], [\"ARTICLE\", \"6100196617\"], [\"PRICE\", \"32,75\"], [\"UNIT\", \"100\"], [\"SUMMA\", \"78,60\"], [\"TARIFF\", \"39269097\"], [\"COUNTRY\", \"Germany\\\\n\\\\n\"], [\"PR_SURCH\", \"11,40\"], [\"SURCHARGE\", \"8,96\"], [\"TOTAL\", \"87,56\"]], [[\"NORDER\", \"2390871\"], [\"CONTRACT\", \"SR-1-06\"], [\"CONTRACT1\", \"1916\"], [\"POS\", \"13100\"], [\"AMOUNT\", \"340\"], [\"ARTICLE\", \"6100196633\"], [\"PRICE\", \"52,37\"], [\"UNIT\", \"100\"], [\"SUMMA\", \"178,06\"], [\"TARIFF\", \"39269097\"], [\"COUNTRY\", \"Germany\\\\n\\\\n\"], [\"PR_SURCH\", \"11,40\"], [\"SURCHARGE\", \"20,30\"], [\"TOTAL\", \"198,36\"]], [[\"NORDER\", \"2390871\"], [\"CONTRACT\", \"SR-1-06\"], [\"CONTRACT1\", \"1916\"], [\"POS\", \"13200\"], [\"AMOUNT\", \"54\"], [\"ARTICLE\", \"6100211504\"], [\"PRICE\", \"52,37\"], [\"UNIT\", \"100\"], [\"SUMMA\", \"28,28\"], [\"TARIFF\", \"39269097\"], [\"COUNTRY\", \"Germany\\\\n\\\\n\"], [\"PR_SURCH\", \"11,40\"], [\"SURCHARGE\", \"3,22\"], [\"TOTAL\", \"31,50\"]], [[\"NORDER\", \"2390871\"], [\"CONTRACT\", \"SR-1-06\"], [\"CONTRACT1\", \"1916\"], [\"POS\", \"13300\"], [\"AMOUNT\", \"250\"], [\"ARTICLE\", \"6100211504\"], [\"PRICE\", \"52,37\"], [\"UNIT\", \"100\"], [\"SUMMA\", \"130,93\"], [\"TARIFF\", \"39269097\"], [\"COUNTRY\", \"Germany\\\\n\\\\n\"], [\"PR_SURCH\", \"11,40\"], [\"SURCHARGE\", \"14,93\"], [\"TOTAL\", \"145,86\"]], [[\"NORDER\", \"2393709\"], [\"CONTRACT\", \"SR-1-06\"], [\"CONTRACT1\", \"2009\"], [\"POS\", \"13400\"], [\"AMOUNT\", \"903\"], [\"ARTICLE\", \"1120021038\"], [\"PRICE\", \"26,79\"], [\"UNIT\", \"100\"], [\"SUMMA\", \"241,91\"], [\"TARIFF\", \"73269098\"], [\"COUNTRY\", \"Germany\\\\n\\\\n\"], [\"PR_SURCH\", \"11,40\"], [\"SURCHARGE\", \"27,58\"], [\"TOTAL\", \"269,49\"]], [[\"NORDER\", \"2393709\"], [\"CONTRACT\", \"SR-1-06\"], [\"CONTRACT1\", \"2009\"], [\"POS\", \"13500\"], [\"AMOUNT\", \"65\"], [\"ARTICLE\", \"6100074501\"], [\"PRICE\", \"7,59\"], [\"UNIT\", \"1\"], [\"SUMMA\", \"493,35\"], [\"TARIFF\", \"84812010\"], [\"COUNTRY\", \"Germany\\\\n\\\\n\"], [\"PR_SURCH\", \"6,90\"], [\"SURCHARGE\", \"34,04\"], [\"TOTAL\", \"527,39\"]], [[\"NORDER\", \"2393711\"], [\"CONTRACT\", \"SR-1-06\"], [\"CONTRACT1\", \"2008\"], [\"POS\", \"13600\"], [\"AMOUNT\", \"7.518\"], [\"ARTICLE\", \"1130003951\"], [\"PRICE\", \"1,99\"], [\"UNIT\", \"100\"], [\"SUMMA\", \"149,61\"], [\"TARIFF\", \"73181558\"], [\"COUNTRY\", \"Origin unknown\"], [\"PR_SURCH\", \"11,40\"], [\"SURCHARGE\", \"17,06\"], [\"TOTAL\", \"166,67\"]], [[\"NORDER\", \"2393711\"], [\"CONTRACT\", \"SR-1-06\"], [\"CONTRACT1\", \"2008\"], [\"POS\", \"13700\"], [\"AMOUNT\", \"7.551\"], [\"ARTICLE\", \"1130005249\"], [\"PRICE\", \"57,62\"], [\"UNIT\", \"100\"], [\"SUMMA\", \"4.350,89\"], [\"TARIFF\", \"39269097\"], [\"COUNTRY\", \"Germany\\\\n\\\\n\"], [\"PR_SURCH\", \"11,40\"], [\"SURCHARGE\", \"496,00\"], [\"TOTAL\", \"4.846,89\"]], [[\"NORDER\", \"2393712\"], [\"CONTRACT\", \"SR-1-06\"], [\"CONTRACT1\", \"2010\"], [\"POS\", \"13800\"], [\"AMOUNT\", \"8\"], [\"ARTICLE\", \"1210027419\"], [\"PRICE\", \"4,51\"], [\"UNIT\", \"1\"], [\"SUMMA\", \"36,08\"], [\"TARIFF\", \"84818073\"], [\"COUNTRY\", \"Germany\\\\n\\\\n\"], [\"PR_SURCH\", \"11,40\"], [\"SURCHARGE\", \"4,11\"], [\"TOTAL\", \"40,19\"]], [[\"NORDER\", \"2403187\"], [\"CONTRACT\", \"SR-1-06\"], [\"CONTRACT1\", \"47\"], [\"POS\", \"13900\"], [\"AMOUNT\", \"180\"], [\"ARTICLE\", \"1130003951\"], [\"PRICE\", \"1,99\"], [\"UNIT\", \"100\"], [\"SUMMA\", \"3,58\"], [\"TARIFF\", \"73181558\"], [\"COUNTRY\", \"Origin unknown\"], [\"PR_SURCH\", \"11,40\"], [\"SURCHARGE\", \"0,41\"], [\"TOTAL\", \"3,99\"]], [[\"NORDER\", \"2403187\"], [\"CONTRACT\", \"SR-1-06\"], [\"CONTRACT1\", \"47\"], [\"POS\", \"14000\"], [\"AMOUNT\", \"100\"], [\"ARTICLE\", \"1120021036\"], [\"PRICE\", \"26,19\"], [\"UNIT\", \"100\"], [\"SUMMA\", \"26,19\"], [\"TARIFF\", \"73269098\"], [\"COUNTRY\", \"Germany\\\\n\\\\n\"], [\"PR_SURCH\", \"11,40\"], [\"SURCHARGE\", \"2,99\"], [\"TOTAL\", \"29,18\"]], [[\"NORDER\", \"2406898\"], [\"CONTRACT\", \"SR-1-06\"], [\"CONTRACT1\", \"96\"], [\"POS\", \"14100\"], [\"AMOUNT\", \"100\"], [\"ARTICLE\", \"1120003539\"], [\"PRICE\", \"20,78\"], [\"UNIT\", \"100\"], [\"SUMMA\", \"20,78\"], [\"TARIFF\", \"73181588\"], [\"COUNTRY\", \"Germany\\\\n\\\\n\"], [\"PR_SURCH\", \"11,40\"], [\"SURCHARGE\", \"2,37\"], [\"TOTAL\", \"23,15\"]], [[\"NORDER\", \"2406898\"], [\"CONTRACT\", \"SR-1-06\"], [\"CONTRACT1\", \"96\"], [\"POS\", \"14200\"], [\"AMOUNT\", \"12\"], [\"ARTICLE\", \"6100069105\"], [\"PRICE\", \"7,30\"], [\"UNIT\", \"1\"], [\"SUMMA\", \"87,60\"], [\"TARIFF\", \"84812010\"], [\"COUNTRY\", \"Germany\\\\n\\\\n\"], [\"PR_SURCH\", \"6,90\"], [\"SURCHARGE\", \"6,04\"], [\"TOTAL\", \"93,64\"]], [[\"NORDER\", \"2406898\"], [\"CONTRACT\", \"SR-1-06\"], [\"CONTRACT1\", \"96\"], [\"POS\", \"14300\"], [\"AMOUNT\", \"20\"], [\"ARTICLE\", \"1210026091\"], [\"PRICE\", \"9,35\"], [\"UNIT\", \"1\"], [\"SUMMA\", \"187,00\"], [\"TARIFF\", \"39173100\"], [\"COUNTRY\", \"Germany\\\\n\\\\n\"], [\"PR_SURCH\", \"11,40\"], [\"SURCHARGE\", \"21,32\"], [\"TOTAL\", \"208,32\"]], [[\"NORDER\", \"2407403\"], [\"CONTRACT\", \"SR-1-06\"], [\"CONTRACT1\", \"125\"], [\"POS\", \"14400\"], [\"AMOUNT\", \"2\"], [\"ARTICLE\", \"6030003478\"], [\"PRICE\", \"481,07\"], [\"UNIT\", \"100\"], [\"SUMMA\", \"9,62\"], [\"TARIFF\", \"73079290\"], [\"COUNTRY\", \"Germany\\\\n\\\\n\"], [\"PR_SURCH\", \"6,90\"], [\"SURCHARGE\", \"0,66\"], [\"TOTAL\", \"10,28\"], [\"PR_SURCH\", \"0,00\"], [\"SURCHARGE\", \"17.902,86\"], [\"TOTAL\", \"0,00\"], [\"TOTAL\", \"1.461,59\"]]]'"
      ]
     },
     "execution_count": 3,
     "metadata": {},
     "output_type": "execute_result"
    }
   ],
   "source": [
    "fName = r\"F:\\Python\\OCR_diploma\\docs_base\\StauffInvoices\\92951828.pdf\"\n",
    "fName = r\"F:\\Python\\OCR_diploma\\docs_base\\StauffInvoices\\92946891.pdf\"\n",
    "transfer26(fName=fName)"
   ]
  },
  {
   "cell_type": "code",
   "execution_count": 13,
   "metadata": {},
   "outputs": [],
   "source": [
    "text = pdfDocToString(f_name=fName)\n",
    "txtS = shortening(text)\n",
    "docs = text2spans26(txtS)"
   ]
  },
  {
   "cell_type": "code",
   "execution_count": 15,
   "metadata": {},
   "outputs": [
    {
     "data": {
      "text/plain": [
       "'F:\\\\Python\\\\OCR_diploma\\\\docs_base\\\\StauffInvoices\\\\92951828.pdf'"
      ]
     },
     "execution_count": 15,
     "metadata": {},
     "output_type": "execute_result"
    }
   ],
   "source": [
    "fName"
   ]
  },
  {
   "cell_type": "code",
   "execution_count": 14,
   "metadata": {},
   "outputs": [
    {
     "name": "stdout",
     "output_type": "stream",
     "text": [
      "[[[\"NORDER\", \"2340838\"], [\"CONTRACT\", \"SR-1-06\"], [\"CONTRACT1\", \"1327\"], [\"AMOUNT\", \"*\"], [\"POS\", \"1000\"], [\"AMOUNT\", \"100\"], [\"ARTICLE\", \"6010001836\"], [\"PRICE\", \"54,52\"], [\"UNIT\", \"100\"], [\"SUMMA\", \"54,52\"], [\"TARIFF\", \"73079910\"], [\"COUNTRY\", \"Germany\\n\\n\"], [\"PR_SURCH\", \"6,90\"], [\"SURCHARGE\", \"3,76\"], [\"TOTAL\", \"58,28\"]], [[\"NORDER\", \"2340912\"], [\"CONTRACT\", \"SR-1-06\"], [\"CONTRACT1\", \"1328\"], [\"POS\", \"1100\"], [\"AMOUNT\", \"100\"], [\"ARTICLE\", \"6010001836\"], [\"PRICE\", \"54,52\"], [\"UNIT\", \"100\"], [\"SUMMA\", \"54,52\"], [\"TARIFF\", \"73079910\"], [\"COUNTRY\", \"Germany\\n\\n\"], [\"PR_SURCH\", \"6,90\"], [\"SURCHARGE\", \"3,76\"], [\"TOTAL\", \"58,28\"]], [[\"NORDER\", \"2341067\"], [\"CONTRACT\", \"SR-1-06\"], [\"CONTRACT1\", \"1329\"], [\"POS\", \"1200\"], [\"AMOUNT\", \"100\"], [\"ARTICLE\", \"6010001836\"], [\"PRICE\", \"54,52\"], [\"UNIT\", \"100\"], [\"SUMMA\", \"54,52\"], [\"TARIFF\", \"73079910\"], [\"COUNTRY\", \"Germany\\n\\n\"], [\"PR_SURCH\", \"6,90\"], [\"SURCHARGE\", \"3,76\"], [\"TOTAL\", \"58,28\"]], [[\"NORDER\", \"2341290\"], [\"CONTRACT\", \"SR-1-06\"], [\"CONTRACT1\", \"1330\"], [\"AMOUNT\", \"*\"], [\"POS\", \"1300\"], [\"AMOUNT\", \"100\"], [\"ARTICLE\", \"6010001836\"], [\"PRICE\", \"54,52\"], [\"UNIT\", \"100\"], [\"SUMMA\", \"54,52\"], [\"TARIFF\", \"73079910\"], [\"COUNTRY\", \"Germany\\n\\n\"], [\"PR_SURCH\", \"6,90\"], [\"SURCHARGE\", \"3,76\"], [\"TOTAL\", \"58,28\"]], [[\"NORDER\", \"2341299\"], [\"CONTRACT\", \"SR-1-06\"], [\"CONTRACT1\", \"1331\"], [\"AMOUNT\", \"*\"], [\"POS\", \"1400\"], [\"AMOUNT\", \"100\"], [\"ARTICLE\", \"6010001836\"], [\"PRICE\", \"54,52\"], [\"UNIT\", \"100\"], [\"SUMMA\", \"54,52\"], [\"TARIFF\", \"73079910\"], [\"COUNTRY\", \"Germany\\n\\n\"], [\"PR_SURCH\", \"6,90\"], [\"SURCHARGE\", \"3,76\"], [\"TOTAL\", \"58,28\"]], [[\"NORDER\", \"2341324\"], [\"CONTRACT\", \"SR-1-06\"], [\"CONTRACT1\", \"1332\"], [\"AMOUNT\", \"*\"], [\"POS\", \"1600\"], [\"AMOUNT\", \"100\"], [\"ARTICLE\", \"6010001836\"], [\"PRICE\", \"54,52\"], [\"UNIT\", \"100\"], [\"SUMMA\", \"54,52\"], [\"TARIFF\", \"73079910\"], [\"COUNTRY\", \"Germany\\n\\n\"], [\"PR_SURCH\", \"6,90\"], [\"SURCHARGE\", \"3,76\"], [\"TOTAL\", \"58,28\"]], [[\"NORDER\", \"2356536\"], [\"CONTRACT\", \"SR-1-06\"], [\"CONTRACT1\", \"1516\"], [\"POS\", \"1700\"], [\"AMOUNT\", \"100\"], [\"ARTICLE\", \"6010001836\"], [\"PRICE\", \"54,52\"], [\"UNIT\", \"100\"], [\"SUMMA\", \"54,52\"], [\"TARIFF\", \"73079910\"], [\"COUNTRY\", \"Germany\\n\\n\"], [\"PR_SURCH\", \"6,90\"], [\"SURCHARGE\", \"3,76\"], [\"TOTAL\", \"58,28\"]], [[\"NORDER\", \"2356608\"], [\"CONTRACT\", \"SR-1-06\"], [\"CONTRACT1\", \"1523\"], [\"POS\", \"1800\"], [\"AMOUNT\", \"100\"], [\"ARTICLE\", \"6010001836\"], [\"PRICE\", \"54,52\"], [\"UNIT\", \"100\"], [\"SUMMA\", \"54,52\"], [\"TARIFF\", \"73079910\"], [\"COUNTRY\", \"Germany\\n\\n\"], [\"PR_SURCH\", \"6,90\"], [\"SURCHARGE\", \"3,76\"], [\"TOTAL\", \"58,28\"]], [[\"NORDER\", \"2359885\"], [\"CONTRACT\", \"SR-1-06\"], [\"CONTRACT1\", \"1558\"], [\"POS\", \"1900\"], [\"AMOUNT\", \"100\"], [\"ARTICLE\", \"6010001836\"], [\"PRICE\", \"54,52\"], [\"UNIT\", \"100\"], [\"SUMMA\", \"54,52\"], [\"TARIFF\", \"73079910\"], [\"COUNTRY\", \"Germany\\n\\n\"], [\"PR_SURCH\", \"6,90\"], [\"SURCHARGE\", \"3,76\"], [\"TOTAL\", \"58,28\"]], [[\"NORDER\", \"2367408\"], [\"CONTRACT\", \"SR-1-06\"], [\"CONTRACT1\", \"1666\"], [\"POS\", \"2000\"], [\"AMOUNT\", \"442\"], [\"ARTICLE\", \"6100076765\"], [\"PRICE\", \"4,24\"], [\"UNIT\", \"1\"], [\"SUMMA\", \"1.874,08\"], [\"TARIFF\", \"6100076765\"], [\"TARIFF\", \"84812010\"], [\"COUNTRY\", \"Germany\\n\\n\"], [\"PR_SURCH\", \"6,90\"], [\"SURCHARGE\", \"129,31\"], [\"TOTAL\", \"2.003,39\"]], [[\"NORDER\", \"2370448\"], [\"CONTRACT\", \"SR-1-06\"], [\"CONTRACT1\", \"1677\"], [\"POS\", \"2100\"], [\"AMOUNT\", \"100\"], [\"ARTICLE\", \"6010001836\"], [\"PRICE\", \"59,97\"], [\"UNIT\", \"100\"], [\"SUMMA\", \"59,97\"], [\"TARIFF\", \"73079910\"], [\"COUNTRY\", \"Germany\\n\\n\"], [\"PR_SURCH\", \"6,90\"], [\"SURCHARGE\", \"4,14\"], [\"TOTAL\", \"64,11\"]], [[\"NORDER\", \"2377177\"], [\"CONTRACT\", \"SR-1-06\"], [\"CONTRACT1\", \"1748\"], [\"POS\", \"2200\"], [\"AMOUNT\", \"100\"], [\"ARTICLE\", \"6010001836\"], [\"PRICE\", \"59,97\"], [\"UNIT\", \"100\"], [\"SUMMA\", \"59,97\"], [\"TARIFF\", \"73079910\"], [\"COUNTRY\", \"Germany\\n\\n\"], [\"PR_SURCH\", \"6,90\"], [\"SURCHARGE\", \"4,14\"], [\"TOTAL\", \"64,11\"]], [[\"NORDER\", \"2377509\"], [\"CONTRACT\", \"SR-1-06\"], [\"CONTRACT1\", \"1766\"], [\"AMOUNT\", \"*\"], [\"POS\", \"2300\"], [\"AMOUNT\", \"100\"], [\"ARTICLE\", \"6010001836\"], [\"PRICE\", \"59,97\"], [\"UNIT\", \"100\"], [\"SUMMA\", \"59,97\"], [\"TARIFF\", \"73079910\"], [\"COUNTRY\", \"Germany\\n\\n\\n\\n\"], [\"PR_SURCH\", \"6,90\"], [\"SURCHARGE\", \"4,14\"], [\"TOTAL\", \"64,11\"]], [[\"NORDER\", \"2380830\"], [\"CONTRACT\", \"SR-1-06\"], [\"CONTRACT1\", \"1807\"], [\"AMOUNT\", \"*\"], [\"POS\", \"7100\"], [\"AMOUNT\", \"172\"], [\"ARTICLE\", \"6010002007\"], [\"PRICE\", \"122,77\"], [\"UNIT\", \"100\"], [\"SUMMA\", \"211,16\"], [\"TARIFF\", \"73079290\"], [\"COUNTRY\", \"Germany\\n\\n\"], [\"PR_SURCH\", \"6,90\"], [\"SURCHARGE\", \"14,57\"], [\"TOTAL\", \"225,73\"]], [[\"NORDER\", \"2384496\"], [\"CONTRACT\", \"SR-1-06\"], [\"CONTRACT1\", \"1818\"], [\"AMOUNT\", \"*\"], [\"POS\", \"7200\"], [\"AMOUNT\", \"100\"], [\"ARTICLE\", \"6010001836\"], [\"PRICE\", \"59,97\"], [\"UNIT\", \"100\"], [\"SUMMA\", \"59,97\"], [\"TARIFF\", \"73079910\"], [\"COUNTRY\", \"Germany\\n\\n\"], [\"PR_SURCH\", \"6,90\"], [\"SURCHARGE\", \"4,14\"], [\"TOTAL\", \"64,11\"]], [[\"NORDER\", \"2392020\"], [\"CONTRACT\", \"SR-1-06\"], [\"CONTRACT1\", \"1961\"], [\"AMOUNT\", \"*\"], [\"POS\", \"7300\"], [\"AMOUNT\", \"100\"], [\"ARTICLE\", \"1130010227\"], [\"PRICE\", \"26,38\"], [\"UNIT\", \"100\"], [\"SUMMA\", \"26,38\"], [\"TARIFF\", \"39269097\"], [\"COUNTRY\", \"Germany\\n\\n\"], [\"PR_SURCH\", \"11,40\"], [\"SURCHARGE\", \"3,01\"], [\"TOTAL\", \"29,39\"]], [[\"NORDER\", \"2393671\"], [\"CONTRACT\", \"SR-1-06\"], [\"CONTRACT1\", \"1997\"], [\"POS\", \"7400\"], [\"AMOUNT\", \"100\"], [\"ARTICLE\", \"1130004071\"], [\"PRICE\", \"119,14\"], [\"UNIT\", \"100\"], [\"SUMMA\", \"119,14\"], [\"TARIFF\", \"72166110\"], [\"COUNTRY\", \"Germany\\n\\n\"], [\"PR_SURCH\", \"11,40\"], [\"SURCHARGE\", \"13,58\"], [\"TOTAL\", \"132,72\"]], [[\"NORDER\", \"2393671\"], [\"CONTRACT\", \"SR-1-06\"], [\"CONTRACT1\", \"1997\"], [\"POS\", \"7500\"], [\"AMOUNT\", \"100\"], [\"ARTICLE\", \"6010001836\"], [\"PRICE\", \"59,97\"], [\"UNIT\", \"100\"], [\"SUMMA\", \"59,97\"], [\"TARIFF\", \"73079910\"], [\"COUNTRY\", \"Germany\\n\\n\"], [\"PR_SURCH\", \"6,90\"], [\"SURCHARGE\", \"4,14\"], [\"TOTAL\", \"64,11\"]], [[\"NORDER\", \"2393671\"], [\"CONTRACT\", \"SR-1-06\"], [\"CONTRACT1\", \"1997\"], [\"POS\", \"7600\"], [\"AMOUNT\", \"150\"], [\"ARTICLE\", \"6010001858\"], [\"PRICE\", \"43,75\"], [\"UNIT\", \"100\"], [\"SUMMA\", \"65,63\"], [\"TARIFF\", \"73079910\"], [\"COUNTRY\", \"Germany\\n\\n\"], [\"PR_SURCH\", \"6,90\"], [\"SURCHARGE\", \"4,53\"], [\"TOTAL\", \"70,16\"]], [[\"NORDER\", \"2400289\"], [\"CONTRACT\", \"SR-1-06\"], [\"CONTRACT1\", \"46\"], [\"POS\", \"7700\"], [\"AMOUNT\", \"100\"], [\"ARTICLE\", \"6010001836\"], [\"PRICE\", \"59,97\"], [\"UNIT\", \"100\"], [\"SUMMA\", \"59,97\"], [\"TARIFF\", \"73079910\"], [\"COUNTRY\", \"Germany\\n\\n\"], [\"PR_SURCH\", \"6,90\"], [\"SURCHARGE\", \"4,14\"], [\"TOTAL\", \"64,11\"]], [[\"NORDER\", \"2403191\"], [\"CONTRACT\", \"SR-1-06\"], [\"CONTRACT1\", \"51\"], [\"POS\", \"7800\"], [\"AMOUNT\", \"1.000\"], [\"ARTICLE\", \"6030003815\"], [\"PRICE\", \"18,68\"], [\"UNIT\", \"100\"], [\"SUMMA\", \"186,80\"], [\"TARIFF\", \"73079910\"], [\"COUNTRY\", \"Germany\\n\\n\"], [\"PR_SURCH\", \"6,90\"], [\"SURCHARGE\", \"12,89\"], [\"TOTAL\", \"199,69\"]], [[\"NORDER\", \"2403191\"], [\"CONTRACT\", \"SR-1-06\"], [\"CONTRACT1\", \"51\"], [\"POS\", \"7900\"], [\"AMOUNT\", \"25\"], [\"ARTICLE\", \"6010003205\"], [\"PRICE\", \"285,33\"], [\"UNIT\", \"100\"], [\"SUMMA\", \"71,33\"], [\"TARIFF\", \"73079910\"], [\"COUNTRY\", \"Germany\\n\\n\"], [\"PR_SURCH\", \"6,90\"], [\"SURCHARGE\", \"4,92\"], [\"TOTAL\", \"76,25\"]], [[\"NORDER\", \"2403202\"], [\"CONTRACT\", \"SR-1-06\"], [\"CONTRACT1\", \"60\"], [\"POS\", \"8000\"], [\"AMOUNT\", \"100\"], [\"ARTICLE\", \"6010001836\"], [\"PRICE\", \"59,97\"], [\"UNIT\", \"100\"], [\"SUMMA\", \"59,97\"], [\"TARIFF\", \"73079910\"], [\"COUNTRY\", \"Germany\\n\\n\"], [\"PR_SURCH\", \"6,90\"], [\"SURCHARGE\", \"4,14\"], [\"TOTAL\", \"64,11\"]], [[\"NORDER\", \"2403202\"], [\"CONTRACT\", \"SR-1-06\"], [\"CONTRACT1\", \"60\"], [\"POS\", \"8100\"], [\"AMOUNT\", \"2\"], [\"ARTICLE\", \"6100079873\"], [\"PRICE\", \"9,34\"], [\"UNIT\", \"1\"], [\"SUMMA\", \"18,68\"], [\"TARIFF\", \"84212980\"], [\"COUNTRY\", \"Italy\"], [\"PR_SURCH\", \"8,90\"], [\"SURCHARGE\", \"1,66\"], [\"TOTAL\", \"20,34\"]], [[\"NORDER\", \"2403202\"], [\"CONTRACT\", \"SR-1-06\"], [\"CONTRACT1\", \"60\"], [\"POS\", \"8200\"], [\"AMOUNT\", \"6\"], [\"ARTICLE\", \"6010008033\"], [\"PRICE\", \"253,45\"], [\"UNIT\", \"100\"], [\"SUMMA\", \"15,21\"], [\"TARIFF\", \"73079290\"], [\"COUNTRY\", \"Germany\\n\\n\"], [\"PR_SURCH\", \"6,90\"], [\"SURCHARGE\", \"1,05\"], [\"TOTAL\", \"16,26\"]], [[\"NORDER\", \"2403203\"], [\"CONTRACT\", \"SR-1-06\"], [\"CONTRACT1\", \"61\"], [\"POS\", \"8300\"], [\"AMOUNT\", \"4\"], [\"ARTICLE\", \"6010000276\"], [\"PRICE\", \"763,37\"], [\"UNIT\", \"100\"], [\"SUMMA\", \"30,53\"], [\"TARIFF\", \"84813091\"], [\"COUNTRY\", \"Germany\\n\\n\"], [\"PR_SURCH\", \"6,90\"], [\"SURCHARGE\", \"2,11\"], [\"TOTAL\", \"32,64\"]], [[\"NORDER\", \"2403203\"], [\"CONTRACT\", \"SR-1-06\"], [\"CONTRACT1\", \"61\"], [\"POS\", \"8400\"], [\"AMOUNT\", \"1\"], [\"ARTICLE\", \"6100079873\"], [\"PRICE\", \"9,34\"], [\"UNIT\", \"1\"], [\"SUMMA\", \"9,34\"], [\"TARIFF\", \"84212980\"], [\"COUNTRY\", \"Italy\"], [\"PR_SURCH\", \"8,90\"], [\"SURCHARGE\", \"0,83\"], [\"TOTAL\", \"10,17\"]], [[\"NORDER\", \"2403219\"], [\"CONTRACT\", \"SR-1-06\"], [\"POS\", \"8500\"], [\"AMOUNT\", \"35\"], [\"ARTICLE\", \"6030005112\"], [\"PRICE\", \"21,12\"], [\"UNIT\", \"100\"], [\"SUMMA\", \"7,39\"], [\"TARIFF\", \"73079980\"], [\"COUNTRY\", \"Germany\\n\\n\"], [\"PR_SURCH\", \"6,90\"], [\"SURCHARGE\", \"0,51\"], [\"TOTAL\", \"7,90\"]], [[\"NORDER\", \"2410608\"], [\"CONTRACT\", \"SR-1-06\"], [\"CONTRACT1\", \"159\"], [\"POS\", \"8600\"], [\"AMOUNT\", \"5.000\"], [\"ARTICLE\", \"6030004267\"], [\"PRICE\", \"6,99\"], [\"UNIT\", \"100\"], [\"SUMMA\", \"349,50\"], [\"TARIFF\", \"73269098\"], [\"COUNTRY\", \"Germany\\n\\n\"], [\"PR_SURCH\", \"6,90\"], [\"SURCHARGE\", \"24,12\"], [\"TOTAL\", \"373,62\"]], [[\"NORDER\", \"2410608\"], [\"CONTRACT\", \"SR-1-06\"], [\"CONTRACT1\", \"159\"], [\"POS\", \"8700\"], [\"AMOUNT\", \"2.000\"], [\"ARTICLE\", \"6030004273\"], [\"PRICE\", \"19,24\"], [\"UNIT\", \"100\"], [\"SUMMA\", \"384,80\"], [\"TARIFF\", \"73269098\"], [\"COUNTRY\", \"Germany\\n\\n\"], [\"PR_SURCH\", \"6,90\"], [\"SURCHARGE\", \"26,55\"], [\"TOTAL\", \"411,35\"]], [[\"NORDER\", \"2410608\"], [\"CONTRACT\", \"SR-1-06\"], [\"CONTRACT1\", \"159\"], [\"POS\", \"8800\"], [\"AMOUNT\", \"750\"], [\"ARTICLE\", \"6030004275\"], [\"PRICE\", \"36,21\"], [\"UNIT\", \"100\"], [\"SUMMA\", \"271,58\"], [\"TARIFF\", \"73269098\"], [\"COUNTRY\", \"Germany\\n\\n\"], [\"PR_SURCH\", \"6,90\"], [\"SURCHARGE\", \"18,74\"], [\"TOTAL\", \"290,32\"]], [[\"NORDER\", \"2410608\"], [\"CONTRACT\", \"SR-1-06\"], [\"CONTRACT1\", \"159\"], [\"POS\", \"8900\"], [\"AMOUNT\", \"300\"], [\"ARTICLE\", \"6030004276\"], [\"PRICE\", \"51,87\"], [\"UNIT\", \"100\"], [\"SUMMA\", \"155,61\"], [\"TARIFF\", \"73269098\"], [\"COUNTRY\", \"Germany\\n\\n\"], [\"PR_SURCH\", \"6,90\"], [\"SURCHARGE\", \"10,74\"], [\"TOTAL\", \"166,35\"]], [[\"NORDER\", \"2410608\"], [\"CONTRACT\", \"SR-1-06\"], [\"CONTRACT1\", \"159\"], [\"POS\", \"9000\"], [\"AMOUNT\", \"75\"], [\"ARTICLE\", \"6010001883\"], [\"PRICE\", \"157,47\"], [\"UNIT\", \"100\"], [\"SUMMA\", \"118,10\"], [\"TARIFF\", \"73079910\"], [\"COUNTRY\", \"Germany\\n\\n\"], [\"PR_SURCH\", \"6,90\"], [\"SURCHARGE\", \"8,15\"], [\"TOTAL\", \"126,25\"]], [[\"NORDER\", \"2410608\"], [\"CONTRACT\", \"SR-1-06\"], [\"CONTRACT1\", \"159\"], [\"POS\", \"9100\"], [\"AMOUNT\", \"150\"], [\"ARTICLE\", \"6030003251\"], [\"PRICE\", \"88,25\"], [\"UNIT\", \"100\"], [\"SUMMA\", \"132,38\"], [\"TARIFF\", \"73079910\"], [\"COUNTRY\", \"Germany\\n\\n\"], [\"PR_SURCH\", \"6,90\"], [\"SURCHARGE\", \"9,13\"], [\"TOTAL\", \"141,51\"]], [[\"NORDER\", \"2410608\"], [\"CONTRACT\", \"SR-1-06\"], [\"CONTRACT1\", \"159\"], [\"POS\", \"9200\"], [\"AMOUNT\", \"300\"], [\"ARTICLE\", \"6030003095\"], [\"PRICE\", \"17,55\"], [\"UNIT\", \"100\"], [\"SUMMA\", \"52,65\"], [\"TARIFF\", \"73079910\"], [\"COUNTRY\", \"Germany\\n\\n\"], [\"PR_SURCH\", \"6,90\"], [\"SURCHARGE\", \"3,63\"], [\"TOTAL\", \"56,28\"]], [[\"NORDER\", \"2410608\"], [\"CONTRACT\", \"SR-1-06\"], [\"CONTRACT1\", \"159\"], [\"POS\", \"9300\"], [\"AMOUNT\", \"240\"], [\"ARTICLE\", \"6030003203\"], [\"PRICE\", \"658,33\"], [\"UNIT\", \"100\"], [\"SUMMA\", \"1.579,99\"], [\"TARIFF\", \"73079910\"], [\"COUNTRY\", \"Germany\\n\\n\"], [\"PR_SURCH\", \"6,90\"], [\"SURCHARGE\", \"109,02\"], [\"TOTAL\", \"1.689,01\"]], [[\"NORDER\", \"2410608\"], [\"CONTRACT\", \"SR-1-06\"], [\"CONTRACT1\", \"159\"], [\"POS\", \"9400\"], [\"AMOUNT\", \"250\"], [\"ARTICLE\", \"6020000132\"], [\"PRICE\", \"559,33\"], [\"UNIT\", \"100\"], [\"SUMMA\", \"1.398,33\"], [\"TARIFF\", \"73079290\"], [\"COUNTRY\", \"Germany\\n\\n\"], [\"PR_SURCH\", \"6,90\"], [\"SURCHARGE\", \"96,48\"]], [[\"NORDER\", \"2410608\"], [\"CONTRACT\", \"SR-1-06\"], [\"CONTRACT1\", \"159\"], [\"POS\", \"9500\"], [\"AMOUNT\", \"108\"], [\"ARTICLE\", \"6020003357\"], [\"PRICE\", \"1.170,50\"], [\"UNIT\", \"100\"], [\"SUMMA\", \"1.264,14\"], [\"TARIFF\", \"000000006020000133\"], [\"TARIFF\", \"73079290\"], [\"COUNTRY\", \"Germany\\n\\n\"], [\"PR_SURCH\", \"6,90\"], [\"SURCHARGE\", \"87,23\"], [\"TOTAL\", \"1.351,37\"]], [[\"NORDER\", \"2411004\"], [\"CONTRACT\", \"SR-1-06\"], [\"CONTRACT1\", \"170\"], [\"POS\", \"9600\"], [\"AMOUNT\", \"120\"], [\"ARTICLE\", \"6030003817\"], [\"PRICE\", \"47,89\"], [\"UNIT\", \"100\"], [\"SUMMA\", \"57,47\"], [\"TARIFF\", \"73079910\"], [\"COUNTRY\", \"Germany\\n\\n\"], [\"PR_SURCH\", \"6,90\"], [\"SURCHARGE\", \"3,97\"], [\"TOTAL\", \"61,44\"]], [[\"NORDER\", \"2411004\"], [\"CONTRACT\", \"SR-1-06\"], [\"CONTRACT1\", \"170\"], [\"POS\", \"9700\"], [\"AMOUNT\", \"500\"], [\"ARTICLE\", \"6030004273\"], [\"PRICE\", \"19,24\"], [\"UNIT\", \"100\"], [\"SUMMA\", \"96,20\"], [\"TARIFF\", \"73269098\"], [\"COUNTRY\", \"Germany\\n\\n\"], [\"PR_SURCH\", \"6,90\"], [\"SURCHARGE\", \"6,64\"], [\"TOTAL\", \"102,84\"]], [[\"NORDER\", \"2411004\"], [\"CONTRACT\", \"SR-1-06\"], [\"CONTRACT1\", \"170\"], [\"POS\", \"9800\"], [\"AMOUNT\", \"650\"], [\"ARTICLE\", \"6010003464\"], [\"PRICE\", \"141,63\"], [\"UNIT\", \"100\"], [\"SUMMA\", \"920,60\"], [\"TARIFF\", \"73079290\"], [\"COUNTRY\", \"Germany\\n\\n\"], [\"PR_SURCH\", \"6,90\"], [\"SURCHARGE\", \"63,52\"], [\"TOTAL\", \"984,12\"]], [[\"NORDER\", \"2411004\"], [\"CONTRACT\", \"SR-1-06\"], [\"CONTRACT1\", \"170\"], [\"POS\", \"9900\"], [\"AMOUNT\", \"80\"], [\"ARTICLE\", \"6010003482\"], [\"PRICE\", \"277,97\"], [\"UNIT\", \"100\"], [\"SUMMA\", \"222,38\"], [\"TARIFF\", \"73079290\"], [\"COUNTRY\", \"Germany\\n\\n\"], [\"PR_SURCH\", \"6,90\"], [\"SURCHARGE\", \"15,34\"], [\"TOTAL\", \"237,72\"]], [[\"NORDER\", \"2411004\"], [\"CONTRACT\", \"SR-1-06\"], [\"CONTRACT1\", \"170\"], [\"POS\", \"10000\"], [\"AMOUNT\", \"20\"], [\"ARTICLE\", \"6010003548\"], [\"PRICE\", \"401,12\"], [\"UNIT\", \"100\"], [\"SUMMA\", \"80,22\"], [\"TARIFF\", \"73079290\"], [\"COUNTRY\", \"Germany\\n\\n\"], [\"PR_SURCH\", \"6,90\"], [\"SURCHARGE\", \"5,54\"], [\"TOTAL\", \"85,76\"]], [[\"NORDER\", \"2411004\"], [\"CONTRACT\", \"SR-1-06\"], [\"CONTRACT1\", \"170\"], [\"POS\", \"10100\"], [\"AMOUNT\", \"80\"], [\"ARTICLE\", \"6010003488\"], [\"PRICE\", \"375,28\"], [\"UNIT\", \"100\"], [\"SUMMA\", \"300,22\"], [\"TARIFF\", \"73079290\"], [\"COUNTRY\", \"Germany\\n\\n\"], [\"PR_SURCH\", \"6,90\"], [\"SURCHARGE\", \"20,72\"], [\"TOTAL\", \"320,94\"]], [[\"NORDER\", \"2411004\"], [\"CONTRACT\", \"SR-1-06\"], [\"CONTRACT1\", \"170\"], [\"POS\", \"10200\"], [\"AMOUNT\", \"50\"], [\"ARTICLE\", \"6020000422\"], [\"PRICE\", \"79,02\"], [\"UNIT\", \"100\"], [\"SUMMA\", \"39,51\"], [\"TARIFF\", \"73079910\"], [\"COUNTRY\", \"Germany\\n\\n\"], [\"PR_SURCH\", \"6,90\"], [\"SURCHARGE\", \"2,73\"], [\"TOTAL\", \"42,24\"]], [[\"NORDER\", \"2411004\"], [\"CONTRACT\", \"SR-1-06\"], [\"CONTRACT1\", \"170\"], [\"POS\", \"10300\"], [\"AMOUNT\", \"50\"], [\"ARTICLE\", \"6020000359\"], [\"PRICE\", \"110,13\"], [\"UNIT\", \"100\"], [\"SUMMA\", \"55,07\"], [\"TARIFF\", \"73079910\"], [\"COUNTRY\", \"Germany\\n\\n\"], [\"PR_SURCH\", \"6,90\"], [\"SURCHARGE\", \"3,80\"], [\"TOTAL\", \"58,87\"]], [[\"NORDER\", \"2411004\"], [\"CONTRACT\", \"SR-1-06\"], [\"CONTRACT1\", \"170\"], [\"POS\", \"10400\"], [\"AMOUNT\", \"480\"], [\"ARTICLE\", \"6020000525\"], [\"PRICE\", \"88,08\"], [\"UNIT\", \"100\"], [\"SUMMA\", \"422,78\"], [\"TARIFF\", \"73079910\"], [\"COUNTRY\", \"Germany\\n\\n\"], [\"PR_SURCH\", \"6,90\"], [\"SURCHARGE\", \"29,17\"], [\"TOTAL\", \"451,95\"]], [[\"NORDER\", \"2411004\"], [\"CONTRACT\", \"SR-1-06\"], [\"CONTRACT1\", \"170\"], [\"POS\", \"10500\"], [\"AMOUNT\", \"20\"], [\"ARTICLE\", \"6020000539\"], [\"PRICE\", \"325,86\"], [\"UNIT\", \"100\"], [\"SUMMA\", \"65,17\"], [\"TARIFF\", \"73079910\"], [\"COUNTRY\", \"Germany\\n\\n\"], [\"PR_SURCH\", \"6,90\"], [\"SURCHARGE\", \"4,50\"], [\"TOTAL\", \"69,67\"]], [[\"NORDER\", \"2411004\"], [\"CONTRACT\", \"SR-1-06\"], [\"CONTRACT1\", \"170\"], [\"POS\", \"10600\"], [\"AMOUNT\", \"125\"], [\"ARTICLE\", \"6030003846\"], [\"PRICE\", \"122,40\"], [\"UNIT\", \"100\"], [\"SUMMA\", \"153,00\"], [\"TARIFF\", \"73079290\"], [\"COUNTRY\", \"Germany\\n\\n\"], [\"PR_SURCH\", \"6,90\"], [\"SURCHARGE\", \"10,56\"], [\"TOTAL\", \"163,56\"], [\"SURCHARGE\", \"12.477,91\"], [\"PR_SURCH\", \"0,00\"], [\"SURCHARGE\", \"12.477,91\"], [\"TOTAL\", \"0,00\"], [\"PRICE\", \"739,00\"], [\"PRICE\", \"719,45\"]]]\n"
     ]
    }
   ],
   "source": [
    "#text = pdfDocToString(f_name=fName)\n",
    "#txtS = shortening(text)\n",
    "#docs = text2spans26(txtS)\n",
    "nlp_ = spacy.load(r\"C:\\Users\\AdminAsus\\source\\python\\spacyST\\spacySt-1\\output26\\model-best\")\n",
    "answer = []\n",
    "for doc in docs:\n",
    "    docx = nlp_(doc)\n",
    "    #print(docx.ents)\n",
    "    res = []\n",
    "    for ent in docx.ents:\n",
    "        res.append((ent.label_, ent.text))\n",
    "    answer.append(res)\n",
    "jsonStr = json.dumps(answer) \n",
    "\n",
    "print(jsonStr)\n",
    "#return jsonStr"
   ]
  },
  {
   "cell_type": "code",
   "execution_count": 25,
   "metadata": {},
   "outputs": [],
   "source": [
    "def pdfDocToString(f_name):\n",
    "    size = 2400\n",
    "    pytesseract.pytesseract.tesseract_cmd = r\"C:\\Program Files\\Tesseract-OCR\\tesseract.exe\"\n",
    "    f_pdf = open(f_name, 'rb').read()\n",
    "    images = convert_from_bytes(f_pdf, dpi = 300, size=size)\n",
    "    images = convert_from_path(f_name, dpi = 300)\n",
    "    text = ''\n",
    "    for img in images:\n",
    "        text += pytesseract.image_to_string(img , lang='rus+eng', config='--psm 4' )\n",
    "    return text"
   ]
  },
  {
   "cell_type": "code",
   "execution_count": 5,
   "metadata": {},
   "outputs": [],
   "source": [
    "def shortening(text):\n",
    "    nlp = spacy.blank(\"en\")\n",
    "\n",
    "    doc = nlp(text)\n",
    "\n",
    "    matcher = Matcher(nlp.vocab)\n",
    "\n",
    "    pattern3 = [\n",
    "        {'LOWER':'CONTRIBUTING'.lower()},\n",
    "        {'LOWER':'TO'.lower()}, \n",
    "        {'LOWER':'YOUR'.lower()}, \n",
    "        {'LOWER':'SUCCESS'.lower()}\n",
    "        ]\n",
    "    matcher.add('ENDPAGE', [pattern3])\n",
    "\n",
    "    pattern4 = [\n",
    "        {'LOWER':'article'},\n",
    "        {'LOWER':'code'}, \n",
    "        {'LOWER':'price'}, \n",
    "        {'LOWER':'eur'},\n",
    "        {'LOWER':'unit'},\n",
    "        {'LOWER':'amount'},\n",
    "        {'LOWER':'eur'}\n",
    "    ]\n",
    "\n",
    "    pattern4_ = [{'LOWER':'russische'}, {'LOWER':'foed'}]\n",
    "    matcher.add('STARTPAGE', [pattern4, pattern4_])\n",
    "\n",
    "    pattern5  = [\n",
    "        {'LOWER':'doc.no'},\n",
    "        {'LOWER':'.'},\n",
    "        {'LOWER':'/'},\n",
    "        {'LOWER':'date'},\n",
    "        {'LOWER':'page'}\n",
    "    ]\n",
    "    \n",
    "    pattern6  = [\n",
    "        {'LOWER':'doc.по'},\n",
    "        {'LOWER':'.'},\n",
    "        {'LOWER':'/'},\n",
    "        {'LOWER':'date'},\n",
    "        {'LOWER':'page'}\n",
    "    ] \n",
    "    matcher.add('ABOUTNOPAGE', [pattern5, pattern6])\n",
    "\n",
    "    doc = nlp(text)\n",
    "\n",
    "    matches = matcher(doc)\n",
    "    spans = [Span(doc, start, end, label=match_id) for match_id, start, end in matches]\n",
    "\n",
    "    paging = []\n",
    "\n",
    "    pageinfo = {'ABOUTNOPAGE':0, 'STARTPAGE':0, 'ENDPAGE':0}\n",
    "    shortenText = ''\n",
    "    firstPage = True\n",
    "    txt = '''import spacy\n",
    "    from spacy.tokens import Span\n",
    "\n",
    "    nlp = spacy.blank(\"en\")\\n'''\n",
    "    docs  = []\n",
    "    npos = 0\n",
    "    npage = 0\n",
    "    for sp in spans:\n",
    "        if sp.label_  == 'ABOUTNOPAGE':\n",
    "            pageinfo[sp.label_] = sp.end\n",
    "        elif sp.label_  == 'STARTPAGE':\n",
    "            pageinfo[sp.label_] = sp.end\n",
    "        elif sp.label_  == 'ENDPAGE':\n",
    "            pageinfo[sp.label_] = sp.start\n",
    "            paging.append(pageinfo)\n",
    "            \n",
    "            if firstPage ==True:\n",
    "                shortenText = doc[:pageinfo['ENDPAGE']].text\n",
    "                firstPage = False\n",
    "                docs.append(doc[:pageinfo['ENDPAGE']].text)\n",
    "                txt = txt + strSeparator + doc[:pageinfo['ENDPAGE']].text \n",
    "            else:\n",
    "                shortenText = shortenText +  doc[pageinfo['STARTPAGE']:pageinfo['ENDPAGE']].text\n",
    "                docs.append(doc[pageinfo['STARTPAGE']:pageinfo['ENDPAGE']].text)\n",
    "                print(pageinfo, pageinfo['ENDPAGE'] - pageinfo['STARTPAGE'])\n",
    "                txt = txt + strSeparator + doc[pageinfo['STARTPAGE']:pageinfo['ENDPAGE']].text \n",
    "\n",
    "                \n",
    "                #break\n",
    "            pageinfo = {'ABOUTNOPAGE':0, 'STARTPAGE':0, 'ENDPAGE':0}\n",
    "            npage += 1\n",
    "\n",
    "        #print(pageinfo)\n",
    "    #print(txt)\n",
    "    print(len(paging))\n",
    "    return shortenText\n",
    "\n",
    "#with open(fName.replace('.txt', 's.txt'), encoding=\"utf8\", mode='w') as f:\n",
    "#    f.write(txt)\n"
   ]
  },
  {
   "cell_type": "code",
   "execution_count": 6,
   "metadata": {},
   "outputs": [
    {
     "name": "stdout",
     "output_type": "stream",
     "text": [
      "F:\\Python\\OCR_diploma\\docs_base\\StauffInvoices\n"
     ]
    }
   ],
   "source": [
    "catName = fName.split('\\\\')[-1].split('.')[0]\n",
    "print('\\\\'.join(fName.split('\\\\')[:-1]))\n",
    "if os.path.isdir(catName):\n",
    "    print('Dir is')"
   ]
  },
  {
   "cell_type": "code",
   "execution_count": null,
   "metadata": {},
   "outputs": [],
   "source": [
    "\n",
    "text = pdfDocToString(f_name=fName)\n",
    "txtS = shortening(text)\n",
    "\n",
    "print(txtS)"
   ]
  },
  {
   "cell_type": "code",
   "execution_count": 8,
   "metadata": {},
   "outputs": [],
   "source": [
    "def text2spans(rtest):\n",
    "    rtest = rtest.replace(strSeparator, '')\n",
    "\n",
    "    nlp = spacy.blank(\"en\")\n",
    "    matcher = Matcher(nlp.vocab)\n",
    "\n",
    "    patternPurchase = [{'LOWER': 'purchase'}, \n",
    "        {'LOWER':'order'}, \n",
    "        {'LOWER':'number'}, \n",
    "        {'LOWER': ':'}]\n",
    "    matcher.add('PTRPURCHASE', [patternPurchase])\n",
    "\n",
    "    patternTariff = [{'LOWER': 'customs'}, \n",
    "        {'LOWER':'tariff'}, \n",
    "        {'IS_ALPHA': True},\n",
    "        {'IS_PUNCT': True, 'OP': '*'}, \n",
    "        {'IS_DIGIT': True}]\n",
    "    matcher.add('PTRTARIFF', [patternTariff])\n",
    "\n",
    "    patternCountry = [{'LOWER': 'country'}, \n",
    "        {'LOWER':'of'} , \n",
    "        {'LOWER': 'origin'}, \n",
    "        {'LOWER': ':'}, \n",
    "        {'IS_ALPHA': True}]\n",
    "    matcher.add('PTRCOUNTRY', [patternCountry])\n",
    "\n",
    "    patternPC = [{'LIKE_NUM': True}, {'LIKE_NUM': True},\n",
    "        {'LOWER' : {'in' : ['pc', 'рс']}},\n",
    "        {'LIKE_NUM':True}    ] \n",
    "\n",
    "    matcher.add('PTROFPC', [patternPC])\n",
    "\n",
    "    doc1 = nlp(rtest)\n",
    "\n",
    "    #print(\"Verbs:\", [token.text for token in doc1[45:54]])\n",
    "\n",
    "    matches = matcher(doc1)\n",
    "    spans = [Span(doc1, start, end, label=match_id) for match_id, start, end in matches]\n",
    "\n",
    "    startSpan = 0\n",
    "    endSpan = 0\n",
    "    #posTariff = 0\n",
    "    #txt2 = 'import json \\nimport spacy \\nfrom spacy.matcher import Matcher \\nfrom spacy.tokens import Span, DocBin \\ndocs = [] \\n'\n",
    "    #nPos = 0\n",
    "    docs = []\n",
    "    pos2PC = 0\n",
    "    for sp in spans:\n",
    "        if sp.label_  == 'PTRPURCHASE':\n",
    "            startSpan = sp.start\n",
    "            \n",
    "        #elif sp.label_  == 'PTRTARIFF':             posTariff = sp.end-1\n",
    "            \n",
    "        #elif sp.label_  == 'PTROFPC':             pos2PC = sp.start\n",
    "        \n",
    "        elif sp.label_  == 'PTRCOUNTRY':\n",
    "            endSpan = sp.end\n",
    "            #pos2PC = pos2PC - startSpan  \n",
    "            \n",
    "\n",
    "            docs.append(doc1[startSpan:endSpan].text)\n",
    "            \n",
    "    return docs"
   ]
  },
  {
   "cell_type": "code",
   "execution_count": 27,
   "metadata": {},
   "outputs": [],
   "source": [
    "docs = text2spans(txtS)"
   ]
  },
  {
   "cell_type": "code",
   "execution_count": 12,
   "metadata": {},
   "outputs": [
    {
     "data": {
      "text/plain": [
       "str"
      ]
     },
     "execution_count": 12,
     "metadata": {},
     "output_type": "execute_result"
    }
   ],
   "source": [
    "type(docs[1])"
   ]
  },
  {
   "cell_type": "code",
   "execution_count": 28,
   "metadata": {},
   "outputs": [
    {
     "name": "stdout",
     "output_type": "stream",
     "text": [
      "49\n",
      "[[[\"CONTRACT\", \"SR-1-06\"], [\"CONTRACT1\", \"1327\"], [\"POS\", \"1000\"], [\"AMOUNT\", \"100\"], [\"ARTICLE\", \"6010001836\"], [\"PRICE\", \"54,52\"], [\"UNIT\", \"100\"], [\"SUM\", \"54,52\"], [\"TARIFF\", \"73079910\"], [\"COUNTRY\", \"Germany\"]], [[\"CONTRACT\", \"SR-1-06\"], [\"CONTRACT1\", \"1328\"], [\"POS\", \"1100\"], [\"AMOUNT\", \"100\"], [\"ARTICLE\", \"6010001836\"], [\"PRICE\", \"54,52\"], [\"UNIT\", \"100\"], [\"SUM\", \"54,52\"], [\"TARIFF\", \"73079910\"], [\"COUNTRY\", \"Germany\"]], [[\"CONTRACT\", \"SR-1-06\"], [\"CONTRACT1\", \"1329\"], [\"POS\", \"1200\"], [\"AMOUNT\", \"100\"], [\"ARTICLE\", \"6010001836\"], [\"PRICE\", \"54,52\"], [\"UNIT\", \"100\"], [\"SUM\", \"54,52\"], [\"TARIFF\", \"73079910\"], [\"COUNTRY\", \"Germany\"]], [[\"CONTRACT\", \"SR-1-06\"], [\"CONTRACT1\", \"1330\"], [\"POS\", \"1300\"], [\"AMOUNT\", \"100\"], [\"ARTICLE\", \"6010001836\"], [\"PRICE\", \"54,52\"], [\"UNIT\", \"100\"], [\"SUM\", \"54,52\"], [\"TARIFF\", \"73079910\"], [\"COUNTRY\", \"Germany\"]], [[\"CONTRACT\", \"SR-1-06\"], [\"CONTRACT1\", \"1331\"], [\"POS\", \"1400\"], [\"AMOUNT\", \"100\"], [\"ARTICLE\", \"6010001836\"], [\"PRICE\", \"54,52\"], [\"UNIT\", \"100\"], [\"SUM\", \"54,52\"], [\"TARIFF\", \"73079910\"], [\"COUNTRY\", \"Germany\"]], [[\"CONTRACT\", \"SR-1-06\"], [\"CONTRACT1\", \"1332\"], [\"POS\", \"1600\"], [\"AMOUNT\", \"100\"], [\"ARTICLE\", \"6010001836\"], [\"PRICE\", \"54,52\"], [\"UNIT\", \"100\"], [\"SUM\", \"54,52\"], [\"TARIFF\", \"73079910\"], [\"COUNTRY\", \"Germany\"]], [[\"CONTRACT\", \"SR-1-06\"], [\"CONTRACT1\", \"1516\"], [\"POS\", \"1700\"], [\"AMOUNT\", \"100\"], [\"ARTICLE\", \"6010001836\"], [\"PRICE\", \"54,52\"], [\"UNIT\", \"100\"], [\"SUM\", \"54,52\"], [\"TARIFF\", \"73079910\"], [\"COUNTRY\", \"Germany\"]], [[\"CONTRACT\", \"SR-1-06\"], [\"CONTRACT1\", \"1523\"], [\"POS\", \"1800\"], [\"AMOUNT\", \"100\"], [\"ARTICLE\", \"6010001836\"], [\"PRICE\", \"54,52\"], [\"UNIT\", \"100\"], [\"SUM\", \"54,52\"], [\"TARIFF\", \"73079910\"], [\"COUNTRY\", \"Germany\"]], [[\"CONTRACT\", \"SR-1-06\"], [\"CONTRACT1\", \"1558\"], [\"POS\", \"1900\"], [\"AMOUNT\", \"100\"], [\"ARTICLE\", \"6010001836\"], [\"PRICE\", \"54,52\"], [\"UNIT\", \"100\"], [\"SUM\", \"54,52\"], [\"TARIFF\", \"73079910\"], [\"COUNTRY\", \"Germany\"]], [[\"CONTRACT\", \"SR-1-06\"], [\"CONTRACT1\", \"1666\"], [\"POS\", \"2000\"], [\"AMOUNT\", \"442\"], [\"ARTICLE\", \"6100076765\"], [\"PRICE\", \"4,24\"], [\"UNIT\", \"1\"], [\"SUM\", \"1.874,08\"], [\"TARIFF\", \"84812010\"], [\"COUNTRY\", \"Germany\"]], [[\"CONTRACT\", \"SR-1-06\"], [\"CONTRACT1\", \"1677\"], [\"POS\", \"2100\"], [\"AMOUNT\", \"100\"], [\"ARTICLE\", \"6010001836\"], [\"PRICE\", \"59,97\"], [\"UNIT\", \"100\"], [\"SUM\", \"59,97\"], [\"TARIFF\", \"73079910\"], [\"COUNTRY\", \"Germany\"]], [[\"CONTRACT\", \"SR-1-06\"], [\"CONTRACT1\", \"1748\"], [\"POS\", \"2200\"], [\"AMOUNT\", \"100\"], [\"ARTICLE\", \"6010001836\"], [\"PRICE\", \"59,97\"], [\"UNIT\", \"100\"], [\"SUM\", \"59,97\"], [\"TARIFF\", \"73079910\"], [\"COUNTRY\", \"Germany\"]], [[\"CONTRACT\", \"SR-1-06\"], [\"CONTRACT1\", \"1766\"], [\"POS\", \"2300\"], [\"AMOUNT\", \"100\"], [\"ARTICLE\", \"6010001836\"], [\"PRICE\", \"59,97\"], [\"UNIT\", \"100\"], [\"SUM\", \"59,97\"], [\"TARIFF\", \"73079910\"], [\"COUNTRY\", \"Germany\"]], [[\"CONTRACT\", \"SR-1-06\"], [\"CONTRACT1\", \"1807\"], [\"POS\", \"7100\"], [\"AMOUNT\", \"172\"], [\"ARTICLE\", \"6010002007\"], [\"PRICE\", \"122,77\"], [\"UNIT\", \"100\"], [\"SUM\", \"211,16\"], [\"TARIFF\", \"73079290\"], [\"COUNTRY\", \"Germany\"]], [[\"CONTRACT\", \"SR-1-06\"], [\"CONTRACT1\", \"1818\"], [\"POS\", \"7200\"], [\"AMOUNT\", \"100\"], [\"ARTICLE\", \"6010001836\"], [\"PRICE\", \"59,97\"], [\"UNIT\", \"100\"], [\"SUM\", \"59,97\"], [\"TARIFF\", \"73079910\"], [\"COUNTRY\", \"Germany\"]], [[\"CONTRACT\", \"SR-1-06\"], [\"CONTRACT1\", \"1961\"], [\"POS\", \"7300\"], [\"AMOUNT\", \"100\"], [\"ARTICLE\", \"1130010227\"], [\"PRICE\", \"26,38\"], [\"UNIT\", \"100\"], [\"SUM\", \"26,38\"], [\"TARIFF\", \"39269097\"], [\"COUNTRY\", \"Germany\"]], [[\"CONTRACT\", \"SR-1-06\"], [\"CONTRACT1\", \"1997\"], [\"POS\", \"7400\"], [\"AMOUNT\", \"100\"], [\"ARTICLE\", \"1130004071\"], [\"PRICE\", \"119,14\"], [\"UNIT\", \"100\"], [\"SUM\", \"119,14\"], [\"TARIFF\", \"72166110\"], [\"COUNTRY\", \"Germany\"]], [[\"CONTRACT\", \"SR-1-06\"], [\"CONTRACT1\", \"1997\"], [\"POS\", \"7500\"], [\"AMOUNT\", \"100\"], [\"ARTICLE\", \"6010001836\"], [\"PRICE\", \"59,97\"], [\"UNIT\", \"100\"], [\"SUM\", \"59,97\"], [\"TARIFF\", \"73079910\"], [\"COUNTRY\", \"Germany\"]], [[\"CONTRACT\", \"SR-1-06\"], [\"CONTRACT1\", \"1997\"], [\"POS\", \"7600\"], [\"AMOUNT\", \"150\"], [\"ARTICLE\", \"6010001858\"], [\"PRICE\", \"43,75\"], [\"UNIT\", \"100\"], [\"SUM\", \"65,63\"], [\"TARIFF\", \"73079910\"], [\"COUNTRY\", \"Germany\"]], [[\"CONTRACT\", \"SR-1-06\"], [\"CONTRACT1\", \"46\"], [\"POS\", \"7700\"], [\"AMOUNT\", \"100\"], [\"ARTICLE\", \"6010001836\"], [\"PRICE\", \"59,97\"], [\"UNIT\", \"100\"], [\"SUM\", \"59,97\"], [\"TARIFF\", \"73079910\"], [\"COUNTRY\", \"Germany\"]], [[\"CONTRACT\", \"SR-1-06\"], [\"AMOUNT\", \"51\"], [\"POS\", \"7800\"], [\"AMOUNT\", \"1.000\"], [\"ARTICLE\", \"6030003815\"], [\"PRICE\", \"18,68\"], [\"UNIT\", \"100\"], [\"SUM\", \"186,80\"], [\"TARIFF\", \"73079910\"], [\"COUNTRY\", \"Germany\"]], [[\"CONTRACT\", \"SR-1-06\"], [\"SUM\", \"51\"], [\"POS\", \"7900\"], [\"AMOUNT\", \"25\"], [\"ARTICLE\", \"6010003205\"], [\"PRICE\", \"285,33\"], [\"UNIT\", \"100\"], [\"SUM\", \"71,33\"], [\"TARIFF\", \"73079910\"], [\"COUNTRY\", \"Germany\"]], [[\"CONTRACT\", \"SR-1-06\"], [\"AMOUNT\", \"60\"], [\"POS\", \"8000\"], [\"AMOUNT\", \"100\"], [\"ARTICLE\", \"6010001836\"], [\"PRICE\", \"59,97\"], [\"UNIT\", \"100\"], [\"SUM\", \"59,97\"], [\"TARIFF\", \"73079910\"], [\"COUNTRY\", \"Germany\"]], [[\"CONTRACT\", \"SR-1-06\"], [\"AMOUNT\", \"60\"], [\"POS\", \"8100\"], [\"AMOUNT\", \"2\"], [\"ARTICLE\", \"6100079873\"], [\"PRICE\", \"9,34\"], [\"UNIT\", \"1\"], [\"SUM\", \"18,68\"], [\"TARIFF\", \"84212980\"], [\"COUNTRY\", \"Italy\"]], [[\"CONTRACT\", \"SR-1-06\"], [\"AMOUNT\", \"60\"], [\"POS\", \"8200\"], [\"AMOUNT\", \"6\"], [\"ARTICLE\", \"6010008033\"], [\"PRICE\", \"253,45\"], [\"UNIT\", \"100\"], [\"SUM\", \"15,21\"], [\"TARIFF\", \"73079290\"], [\"COUNTRY\", \"Germany\"]], [[\"CONTRACT\", \"SR-1-06\"], [\"POS\", \"8300\"], [\"AMOUNT\", \"4\"], [\"ARTICLE\", \"6010000276\"], [\"PRICE\", \"763,37\"], [\"UNIT\", \"100\"], [\"SUM\", \"30,53\"], [\"TARIFF\", \"84813091\"], [\"COUNTRY\", \"Germany\"]], [[\"CONTRACT\", \"SR-1-06\"], [\"POS\", \"8400\"], [\"AMOUNT\", \"1\"], [\"ARTICLE\", \"6100079873\"], [\"PRICE\", \"9,34\"], [\"UNIT\", \"1\"], [\"SUM\", \"9,34\"], [\"TARIFF\", \"84212980\"], [\"COUNTRY\", \"Italy\"]], [[\"CONTRACT\", \"SR-1-06\"], [\"AMOUNT\", \"74\"], [\"POS\", \"8500\"], [\"AMOUNT\", \"35\"], [\"ARTICLE\", \"6030005112\"], [\"PRICE\", \"21,12\"], [\"UNIT\", \"100\"], [\"SUM\", \"7,39\"], [\"TARIFF\", \"73079980\"], [\"COUNTRY\", \"Germany\"]], [[\"CONTRACT\", \"SR-1-06\"], [\"CONTRACT1\", \"159\"], [\"POS\", \"8600\"], [\"AMOUNT\", \"5.000\"], [\"ARTICLE\", \"6030004267\"], [\"PRICE\", \"6,99\"], [\"UNIT\", \"100\"], [\"SUM\", \"349,50\"], [\"TARIFF\", \"73269098\"], [\"COUNTRY\", \"Germany\"]], [[\"CONTRACT\", \"SR-1-06\"], [\"CONTRACT1\", \"159\"], [\"POS\", \"8700\"], [\"AMOUNT\", \"2.000\"], [\"ARTICLE\", \"6030004273\"], [\"PRICE\", \"19,24\"], [\"UNIT\", \"100\"], [\"SUM\", \"384,80\"], [\"TARIFF\", \"73269098\"], [\"COUNTRY\", \"Germany\"]], [[\"CONTRACT\", \"SR-1-06\"], [\"CONTRACT1\", \"159\"], [\"POS\", \"8800\"], [\"AMOUNT\", \"750\"], [\"ARTICLE\", \"6030004275\"], [\"PRICE\", \"36,21\"], [\"UNIT\", \"100\"], [\"SUM\", \"271,58\"], [\"TARIFF\", \"73269098\"], [\"COUNTRY\", \"Germany\"]], [[\"CONTRACT\", \"SR-1-06\"], [\"CONTRACT1\", \"159\"], [\"POS\", \"8900\"], [\"AMOUNT\", \"300\"], [\"ARTICLE\", \"6030004276\"], [\"PRICE\", \"51,87\"], [\"UNIT\", \"100\"], [\"SUM\", \"155,61\"], [\"TARIFF\", \"73269098\"], [\"COUNTRY\", \"Germany\"]], [[\"CONTRACT\", \"SR-1-06\"], [\"CONTRACT1\", \"159\"], [\"POS\", \"9000\"], [\"AMOUNT\", \"75\"], [\"ARTICLE\", \"6010001883\"], [\"PRICE\", \"157,47\"], [\"UNIT\", \"100\"], [\"SUM\", \"118,10\"], [\"TARIFF\", \"73079910\"], [\"COUNTRY\", \"Germany\"]], [[\"CONTRACT\", \"SR-1-06\"], [\"CONTRACT1\", \"159\"], [\"POS\", \"9100\"], [\"AMOUNT\", \"150\"], [\"ARTICLE\", \"6030003251\"], [\"PRICE\", \"88,25\"], [\"UNIT\", \"100\"], [\"SUM\", \"132,38\"], [\"TARIFF\", \"73079910\"], [\"COUNTRY\", \"Germany\"]], [[\"CONTRACT\", \"SR-1-06\"], [\"CONTRACT1\", \"159\"], [\"POS\", \"9200\"], [\"AMOUNT\", \"300\"], [\"ARTICLE\", \"6030003095\"], [\"PRICE\", \"17,55\"], [\"UNIT\", \"100\"], [\"SUM\", \"52,65\"], [\"TARIFF\", \"73079910\"], [\"COUNTRY\", \"Germany\"]], [[\"CONTRACT\", \"SR-1-06\"], [\"CONTRACT1\", \"159\"], [\"POS\", \"9300\"], [\"AMOUNT\", \"240\"], [\"ARTICLE\", \"6030003203\"], [\"PRICE\", \"658,33\"], [\"UNIT\", \"100\"], [\"SUM\", \"1.579,99\"], [\"TARIFF\", \"73079910\"], [\"COUNTRY\", \"Germany\"]], [[\"CONTRACT\", \"SR-1-06\"], [\"CONTRACT1\", \"159\"], [\"POS\", \"9400\"], [\"AMOUNT\", \"250\"], [\"ARTICLE\", \"6020000132\"], [\"PRICE\", \"559,33\"], [\"UNIT\", \"100\"], [\"SUM\", \"1.398,33\"], [\"TARIFF\", \"73079290\"], [\"COUNTRY\", \"Germany\"]], [[\"CONTRACT\", \"SR-1-06\"], [\"CONTRACT1\", \"159\"], [\"POS\", \"9500\"], [\"AMOUNT\", \"108\"], [\"ARTICLE\", \"6020003357\"], [\"PRICE\", \"1.170,50\"], [\"UNIT\", \"100\"], [\"SUM\", \"1.264,14\"], [\"TARIFF\", \"000000006020000133\"], [\"TARIFF\", \"73079290\"], [\"COUNTRY\", \"Germany\"]], [[\"CONTRACT\", \"SR-1-06\"], [\"CONTRACT1\", \"170\"], [\"POS\", \"9600\"], [\"AMOUNT\", \"120\"], [\"ARTICLE\", \"6030003817\"], [\"PRICE\", \"47,89\"], [\"UNIT\", \"100\"], [\"SUM\", \"57,47\"], [\"TARIFF\", \"73079910\"], [\"COUNTRY\", \"Germany\"]], [[\"CONTRACT\", \"SR-1-06\"], [\"CONTRACT1\", \"170\"], [\"POS\", \"9700\"], [\"AMOUNT\", \"500\"], [\"ARTICLE\", \"6030004273\"], [\"PRICE\", \"19,24\"], [\"UNIT\", \"100\"], [\"SUM\", \"96,20\"], [\"TARIFF\", \"73269098\"], [\"COUNTRY\", \"Germany\"]], [[\"CONTRACT\", \"SR-1-06\"], [\"CONTRACT1\", \"170\"], [\"POS\", \"9800\"], [\"AMOUNT\", \"650\"], [\"ARTICLE\", \"6010003464\"], [\"PRICE\", \"141,63\"], [\"UNIT\", \"100\"], [\"SUM\", \"920,60\"], [\"TARIFF\", \"73079290\"], [\"COUNTRY\", \"Germany\"]], [[\"CONTRACT\", \"SR-1-06\"], [\"CONTRACT1\", \"170\"], [\"POS\", \"9900\"], [\"AMOUNT\", \"80\"], [\"ARTICLE\", \"6010003482\"], [\"PRICE\", \"277,97\"], [\"UNIT\", \"100\"], [\"SUM\", \"222,38\"], [\"TARIFF\", \"73079290\"], [\"COUNTRY\", \"Germany\"]], [[\"CONTRACT\", \"SR-1-06\"], [\"CONTRACT1\", \"170\"], [\"POS\", \"10000\"], [\"AMOUNT\", \"20\"], [\"ARTICLE\", \"6010003548\"], [\"PRICE\", \"401,12\"], [\"UNIT\", \"100\"], [\"SUM\", \"80,22\"], [\"TARIFF\", \"73079290\"], [\"COUNTRY\", \"Germany\"]], [[\"CONTRACT\", \"SR-1-06\"], [\"CONTRACT1\", \"170\"], [\"POS\", \"10100\"], [\"AMOUNT\", \"80\"], [\"ARTICLE\", \"6010003488\"], [\"PRICE\", \"375,28\"], [\"UNIT\", \"100\"], [\"SUM\", \"300,22\"], [\"TARIFF\", \"73079290\"], [\"COUNTRY\", \"Germany\"]], [[\"CONTRACT\", \"SR-1-06\"], [\"CONTRACT1\", \"170\"], [\"POS\", \"10200\"], [\"AMOUNT\", \"50\"], [\"ARTICLE\", \"6020000422\"], [\"PRICE\", \"79,02\"], [\"UNIT\", \"100\"], [\"SUM\", \"39,51\"], [\"SUM\", \",\"], [\"TARIFF\", \"73079910\"], [\"COUNTRY\", \"Germany\"]], [[\"CONTRACT\", \"SR-1-06\"], [\"CONTRACT1\", \"170\"], [\"POS\", \"10300\"], [\"AMOUNT\", \"50\"], [\"ARTICLE\", \"6020000359\"], [\"PRICE\", \"110,13\"], [\"UNIT\", \"100\"], [\"SUM\", \"55,07\"], [\"SUM\", \",\"], [\"TARIFF\", \"73079910\"], [\"COUNTRY\", \"Germany\"]], [[\"CONTRACT\", \"SR-1-06\"], [\"CONTRACT1\", \"170\"], [\"POS\", \"10400\"], [\"AMOUNT\", \"480\"], [\"ARTICLE\", \"6020000525\"], [\"PRICE\", \"88,08\"], [\"UNIT\", \"100\"], [\"SUM\", \"422,78\"], [\"TARIFF\", \"73079910\"], [\"COUNTRY\", \"Germany\"]], [[\"CONTRACT\", \"SR-1-06\"], [\"CONTRACT1\", \"170\"], [\"POS\", \"10500\"], [\"AMOUNT\", \"20\"], [\"ARTICLE\", \"6020000539\"], [\"PRICE\", \"325,86\"], [\"UNIT\", \"100\"], [\"SUM\", \"65,17\"], [\"TARIFF\", \"73079910\"], [\"COUNTRY\", \"Germany\"]], [[\"CONTRACT\", \"SR-1-06\"], [\"CONTRACT1\", \"170\"], [\"POS\", \"10600\"], [\"AMOUNT\", \"125\"], [\"ARTICLE\", \"6030003846\"], [\"PRICE\", \"122,40\"], [\"UNIT\", \"100\"], [\"SUM\", \"153,00\"], [\"TARIFF\", \"73079290\"], [\"COUNTRY\", \"Germany\"]]]\n"
     ]
    }
   ],
   "source": [
    "nlp_ = spacy.load(r\"C:\\Users\\AdminAsus\\source\\python\\spacyST\\spacySt-1\\output\\model-best\")\n",
    "answer = []\n",
    "for doc in docs:\n",
    "    docx = nlp_(doc)\n",
    "    #print(docx.ents)\n",
    "    res = []\n",
    "    for ent in docx.ents:\n",
    "        res.append((ent.label_, ent.text))\n",
    "    answer.append(res)\n",
    "jsonStr = json.dumps(answer)    \n",
    "print(len(answer))\n",
    "print(jsonStr)\n",
    "    #for ent in docx.ents:\n",
    "    #    print(ent.text, ent.label_)"
   ]
  },
  {
   "cell_type": "code",
   "execution_count": 30,
   "metadata": {},
   "outputs": [],
   "source": [
    "import json\n",
    "def transfer(fName):\n",
    "    text = pdfDocToString(f_name=fName)\n",
    "    txtS = shortening(text)\n",
    "    docs = text2spans(txtS)\n",
    "    nlp_ = spacy.load(r\"C:\\Users\\AdminAsus\\source\\python\\spacyST\\spacySt-1\\output\\model-best\")\n",
    "    answer = []\n",
    "    for doc in docs:\n",
    "        docx = nlp_(doc)\n",
    "        #print(docx.ents)\n",
    "        res = []\n",
    "        for ent in docx.ents:\n",
    "            res.append((ent.label_, ent.text))\n",
    "        answer.append(res)\n",
    "    jsonStr = json.dumps(answer) \n",
    "    return jsonStr"
   ]
  },
  {
   "cell_type": "code",
   "execution_count": 31,
   "metadata": {},
   "outputs": [
    {
     "name": "stdout",
     "output_type": "stream",
     "text": [
      "{'ABOUTNOPAGE': 585, 'STARTPAGE': 620, 'ENDPAGE': 878} 258\n",
      "{'ABOUTNOPAGE': 1106, 'STARTPAGE': 1143, 'ENDPAGE': 1401} 258\n",
      "{'ABOUTNOPAGE': 1629, 'STARTPAGE': 1664, 'ENDPAGE': 1922} 258\n",
      "{'ABOUTNOPAGE': 2150, 'STARTPAGE': 2185, 'ENDPAGE': 2440} 255\n",
      "{'ABOUTNOPAGE': 2668, 'STARTPAGE': 2705, 'ENDPAGE': 2934} 229\n",
      "{'ABOUTNOPAGE': 3162, 'STARTPAGE': 3197, 'ENDPAGE': 3429} 232\n",
      "{'ABOUTNOPAGE': 3657, 'STARTPAGE': 3694, 'ENDPAGE': 3933} 239\n",
      "{'ABOUTNOPAGE': 4161, 'STARTPAGE': 4196, 'ENDPAGE': 4428} 232\n",
      "{'ABOUTNOPAGE': 4656, 'STARTPAGE': 4693, 'ENDPAGE': 4911} 218\n",
      "{'ABOUTNOPAGE': 5139, 'STARTPAGE': 5174, 'ENDPAGE': 5409} 235\n",
      "{'ABOUTNOPAGE': 5637, 'STARTPAGE': 5674, 'ENDPAGE': 5901} 227\n",
      "{'ABOUTNOPAGE': 6129, 'STARTPAGE': 6166, 'ENDPAGE': 6398} 232\n",
      "{'ABOUTNOPAGE': 6626, 'STARTPAGE': 6663, 'ENDPAGE': 6880} 217\n",
      "{'ABOUTNOPAGE': 7108, 'STARTPAGE': 7145, 'ENDPAGE': 7391} 246\n",
      "{'ABOUTNOPAGE': 7619, 'STARTPAGE': 7656, 'ENDPAGE': 7901} 245\n",
      "{'ABOUTNOPAGE': 8129, 'STARTPAGE': 8166, 'ENDPAGE': 8362} 196\n",
      "{'ABOUTNOPAGE': 8590, 'STARTPAGE': 8613, 'ENDPAGE': 8635} 22\n",
      "18\n",
      "[[[\"CONTRACT\", \"SR-1-06\"], [\"CONTRACT1\", \"1327\"], [\"POS\", \"1000\"], [\"AMOUNT\", \"100\"], [\"ARTICLE\", \"6010001836\"], [\"PRICE\", \"54,52\"], [\"UNIT\", \"100\"], [\"SUM\", \"54,52\"], [\"TARIFF\", \"73079910\"], [\"COUNTRY\", \"Germany\"]], [[\"CONTRACT\", \"SR-1-06\"], [\"CONTRACT1\", \"1328\"], [\"POS\", \"1100\"], [\"AMOUNT\", \"100\"], [\"ARTICLE\", \"6010001836\"], [\"PRICE\", \"54,52\"], [\"UNIT\", \"100\"], [\"SUM\", \"54,52\"], [\"TARIFF\", \"73079910\"], [\"COUNTRY\", \"Germany\"]], [[\"CONTRACT\", \"SR-1-06\"], [\"CONTRACT1\", \"1329\"], [\"POS\", \"1200\"], [\"AMOUNT\", \"100\"], [\"ARTICLE\", \"6010001836\"], [\"PRICE\", \"54,52\"], [\"UNIT\", \"100\"], [\"SUM\", \"54,52\"], [\"TARIFF\", \"73079910\"], [\"COUNTRY\", \"Germany\"]], [[\"CONTRACT\", \"SR-1-06\"], [\"CONTRACT1\", \"1330\"], [\"POS\", \"1300\"], [\"AMOUNT\", \"100\"], [\"ARTICLE\", \"6010001836\"], [\"PRICE\", \"54,52\"], [\"UNIT\", \"100\"], [\"SUM\", \"54,52\"], [\"TARIFF\", \"73079910\"], [\"COUNTRY\", \"Germany\"]], [[\"CONTRACT\", \"SR-1-06\"], [\"CONTRACT1\", \"1331\"], [\"POS\", \"1400\"], [\"AMOUNT\", \"100\"], [\"ARTICLE\", \"6010001836\"], [\"PRICE\", \"54,52\"], [\"UNIT\", \"100\"], [\"SUM\", \"54,52\"], [\"TARIFF\", \"73079910\"], [\"COUNTRY\", \"Germany\"]], [[\"CONTRACT\", \"SR-1-06\"], [\"CONTRACT1\", \"1332\"], [\"POS\", \"1600\"], [\"AMOUNT\", \"100\"], [\"ARTICLE\", \"6010001836\"], [\"PRICE\", \"54,52\"], [\"UNIT\", \"100\"], [\"SUM\", \"54,52\"], [\"TARIFF\", \"73079910\"], [\"COUNTRY\", \"Germany\"]], [[\"CONTRACT\", \"SR-1-06\"], [\"CONTRACT1\", \"1516\"], [\"POS\", \"1700\"], [\"AMOUNT\", \"100\"], [\"ARTICLE\", \"6010001836\"], [\"PRICE\", \"54,52\"], [\"UNIT\", \"100\"], [\"SUM\", \"54,52\"], [\"TARIFF\", \"73079910\"], [\"COUNTRY\", \"Germany\"]], [[\"CONTRACT\", \"SR-1-06\"], [\"CONTRACT1\", \"1523\"], [\"POS\", \"1800\"], [\"AMOUNT\", \"100\"], [\"ARTICLE\", \"6010001836\"], [\"PRICE\", \"54,52\"], [\"UNIT\", \"100\"], [\"SUM\", \"54,52\"], [\"TARIFF\", \"73079910\"], [\"COUNTRY\", \"Germany\"]], [[\"CONTRACT\", \"SR-1-06\"], [\"CONTRACT1\", \"1558\"], [\"POS\", \"1900\"], [\"AMOUNT\", \"100\"], [\"ARTICLE\", \"6010001836\"], [\"PRICE\", \"54,52\"], [\"UNIT\", \"100\"], [\"SUM\", \"54,52\"], [\"TARIFF\", \"73079910\"], [\"COUNTRY\", \"Germany\"]], [[\"CONTRACT\", \"SR-1-06\"], [\"CONTRACT1\", \"1666\"], [\"POS\", \"2000\"], [\"AMOUNT\", \"442\"], [\"ARTICLE\", \"6100076765\"], [\"PRICE\", \"4,24\"], [\"UNIT\", \"1\"], [\"SUM\", \"1.874,08\"], [\"TARIFF\", \"84812010\"], [\"COUNTRY\", \"Germany\"]], [[\"CONTRACT\", \"SR-1-06\"], [\"CONTRACT1\", \"1677\"], [\"POS\", \"2100\"], [\"AMOUNT\", \"100\"], [\"ARTICLE\", \"6010001836\"], [\"PRICE\", \"59,97\"], [\"UNIT\", \"100\"], [\"SUM\", \"59,97\"], [\"TARIFF\", \"73079910\"], [\"COUNTRY\", \"Germany\"]], [[\"CONTRACT\", \"SR-1-06\"], [\"CONTRACT1\", \"1748\"], [\"POS\", \"2200\"], [\"AMOUNT\", \"100\"], [\"ARTICLE\", \"6010001836\"], [\"PRICE\", \"59,97\"], [\"UNIT\", \"100\"], [\"SUM\", \"59,97\"], [\"TARIFF\", \"73079910\"], [\"COUNTRY\", \"Germany\"]], [[\"CONTRACT\", \"SR-1-06\"], [\"CONTRACT1\", \"1766\"], [\"POS\", \"2300\"], [\"AMOUNT\", \"100\"], [\"ARTICLE\", \"6010001836\"], [\"PRICE\", \"59,97\"], [\"UNIT\", \"100\"], [\"SUM\", \"59,97\"], [\"TARIFF\", \"73079910\"], [\"COUNTRY\", \"Germany\"]], [[\"CONTRACT\", \"SR-1-06\"], [\"CONTRACT1\", \"1807\"], [\"POS\", \"7100\"], [\"AMOUNT\", \"172\"], [\"ARTICLE\", \"6010002007\"], [\"PRICE\", \"122,77\"], [\"UNIT\", \"100\"], [\"SUM\", \"211,16\"], [\"TARIFF\", \"73079290\"], [\"COUNTRY\", \"Germany\"]], [[\"CONTRACT\", \"SR-1-06\"], [\"CONTRACT1\", \"1818\"], [\"POS\", \"7200\"], [\"AMOUNT\", \"100\"], [\"ARTICLE\", \"6010001836\"], [\"PRICE\", \"59,97\"], [\"UNIT\", \"100\"], [\"SUM\", \"59,97\"], [\"TARIFF\", \"73079910\"], [\"COUNTRY\", \"Germany\"]], [[\"CONTRACT\", \"SR-1-06\"], [\"CONTRACT1\", \"1961\"], [\"POS\", \"7300\"], [\"AMOUNT\", \"100\"], [\"ARTICLE\", \"1130010227\"], [\"PRICE\", \"26,38\"], [\"UNIT\", \"100\"], [\"SUM\", \"26,38\"], [\"TARIFF\", \"39269097\"], [\"COUNTRY\", \"Germany\"]], [[\"CONTRACT\", \"SR-1-06\"], [\"CONTRACT1\", \"1997\"], [\"POS\", \"7400\"], [\"AMOUNT\", \"100\"], [\"ARTICLE\", \"1130004071\"], [\"PRICE\", \"119,14\"], [\"UNIT\", \"100\"], [\"SUM\", \"119,14\"], [\"TARIFF\", \"72166110\"], [\"COUNTRY\", \"Germany\"]], [[\"CONTRACT\", \"SR-1-06\"], [\"CONTRACT1\", \"1997\"], [\"POS\", \"7500\"], [\"AMOUNT\", \"100\"], [\"ARTICLE\", \"6010001836\"], [\"PRICE\", \"59,97\"], [\"UNIT\", \"100\"], [\"SUM\", \"59,97\"], [\"TARIFF\", \"73079910\"], [\"COUNTRY\", \"Germany\"]], [[\"CONTRACT\", \"SR-1-06\"], [\"CONTRACT1\", \"1997\"], [\"POS\", \"7600\"], [\"AMOUNT\", \"150\"], [\"ARTICLE\", \"6010001858\"], [\"PRICE\", \"43,75\"], [\"UNIT\", \"100\"], [\"SUM\", \"65,63\"], [\"TARIFF\", \"73079910\"], [\"COUNTRY\", \"Germany\"]], [[\"CONTRACT\", \"SR-1-06\"], [\"CONTRACT1\", \"46\"], [\"POS\", \"7700\"], [\"AMOUNT\", \"100\"], [\"ARTICLE\", \"6010001836\"], [\"PRICE\", \"59,97\"], [\"UNIT\", \"100\"], [\"SUM\", \"59,97\"], [\"TARIFF\", \"73079910\"], [\"COUNTRY\", \"Germany\"]], [[\"CONTRACT\", \"SR-1-06\"], [\"AMOUNT\", \"51\"], [\"POS\", \"7800\"], [\"AMOUNT\", \"1.000\"], [\"ARTICLE\", \"6030003815\"], [\"PRICE\", \"18,68\"], [\"UNIT\", \"100\"], [\"SUM\", \"186,80\"], [\"TARIFF\", \"73079910\"], [\"COUNTRY\", \"Germany\"]], [[\"CONTRACT\", \"SR-1-06\"], [\"SUM\", \"51\"], [\"POS\", \"7900\"], [\"AMOUNT\", \"25\"], [\"ARTICLE\", \"6010003205\"], [\"PRICE\", \"285,33\"], [\"UNIT\", \"100\"], [\"SUM\", \"71,33\"], [\"TARIFF\", \"73079910\"], [\"COUNTRY\", \"Germany\"]], [[\"CONTRACT\", \"SR-1-06\"], [\"AMOUNT\", \"60\"], [\"POS\", \"8000\"], [\"AMOUNT\", \"100\"], [\"ARTICLE\", \"6010001836\"], [\"PRICE\", \"59,97\"], [\"UNIT\", \"100\"], [\"SUM\", \"59,97\"], [\"TARIFF\", \"73079910\"], [\"COUNTRY\", \"Germany\"]], [[\"CONTRACT\", \"SR-1-06\"], [\"AMOUNT\", \"60\"], [\"POS\", \"8100\"], [\"AMOUNT\", \"2\"], [\"ARTICLE\", \"6100079873\"], [\"PRICE\", \"9,34\"], [\"UNIT\", \"1\"], [\"SUM\", \"18,68\"], [\"TARIFF\", \"84212980\"], [\"COUNTRY\", \"Italy\"]], [[\"CONTRACT\", \"SR-1-06\"], [\"AMOUNT\", \"60\"], [\"POS\", \"8200\"], [\"AMOUNT\", \"6\"], [\"ARTICLE\", \"6010008033\"], [\"PRICE\", \"253,45\"], [\"UNIT\", \"100\"], [\"SUM\", \"15,21\"], [\"TARIFF\", \"73079290\"], [\"COUNTRY\", \"Germany\"]], [[\"CONTRACT\", \"SR-1-06\"], [\"POS\", \"8300\"], [\"AMOUNT\", \"4\"], [\"ARTICLE\", \"6010000276\"], [\"PRICE\", \"763,37\"], [\"UNIT\", \"100\"], [\"SUM\", \"30,53\"], [\"TARIFF\", \"84813091\"], [\"COUNTRY\", \"Germany\"]], [[\"CONTRACT\", \"SR-1-06\"], [\"POS\", \"8400\"], [\"AMOUNT\", \"1\"], [\"ARTICLE\", \"6100079873\"], [\"PRICE\", \"9,34\"], [\"UNIT\", \"1\"], [\"SUM\", \"9,34\"], [\"TARIFF\", \"84212980\"], [\"COUNTRY\", \"Italy\"]], [[\"CONTRACT\", \"SR-1-06\"], [\"AMOUNT\", \"74\"], [\"POS\", \"8500\"], [\"AMOUNT\", \"35\"], [\"ARTICLE\", \"6030005112\"], [\"PRICE\", \"21,12\"], [\"UNIT\", \"100\"], [\"SUM\", \"7,39\"], [\"TARIFF\", \"73079980\"], [\"COUNTRY\", \"Germany\"]], [[\"CONTRACT\", \"SR-1-06\"], [\"CONTRACT1\", \"159\"], [\"POS\", \"8600\"], [\"AMOUNT\", \"5.000\"], [\"ARTICLE\", \"6030004267\"], [\"PRICE\", \"6,99\"], [\"UNIT\", \"100\"], [\"SUM\", \"349,50\"], [\"TARIFF\", \"73269098\"], [\"COUNTRY\", \"Germany\"]], [[\"CONTRACT\", \"SR-1-06\"], [\"CONTRACT1\", \"159\"], [\"POS\", \"8700\"], [\"AMOUNT\", \"2.000\"], [\"ARTICLE\", \"6030004273\"], [\"PRICE\", \"19,24\"], [\"UNIT\", \"100\"], [\"SUM\", \"384,80\"], [\"TARIFF\", \"73269098\"], [\"COUNTRY\", \"Germany\"]], [[\"CONTRACT\", \"SR-1-06\"], [\"CONTRACT1\", \"159\"], [\"POS\", \"8800\"], [\"AMOUNT\", \"750\"], [\"ARTICLE\", \"6030004275\"], [\"PRICE\", \"36,21\"], [\"UNIT\", \"100\"], [\"SUM\", \"271,58\"], [\"TARIFF\", \"73269098\"], [\"COUNTRY\", \"Germany\"]], [[\"CONTRACT\", \"SR-1-06\"], [\"CONTRACT1\", \"159\"], [\"POS\", \"8900\"], [\"AMOUNT\", \"300\"], [\"ARTICLE\", \"6030004276\"], [\"PRICE\", \"51,87\"], [\"UNIT\", \"100\"], [\"SUM\", \"155,61\"], [\"TARIFF\", \"73269098\"], [\"COUNTRY\", \"Germany\"]], [[\"CONTRACT\", \"SR-1-06\"], [\"CONTRACT1\", \"159\"], [\"POS\", \"9000\"], [\"AMOUNT\", \"75\"], [\"ARTICLE\", \"6010001883\"], [\"PRICE\", \"157,47\"], [\"UNIT\", \"100\"], [\"SUM\", \"118,10\"], [\"TARIFF\", \"73079910\"], [\"COUNTRY\", \"Germany\"]], [[\"CONTRACT\", \"SR-1-06\"], [\"CONTRACT1\", \"159\"], [\"POS\", \"9100\"], [\"AMOUNT\", \"150\"], [\"ARTICLE\", \"6030003251\"], [\"PRICE\", \"88,25\"], [\"UNIT\", \"100\"], [\"SUM\", \"132,38\"], [\"TARIFF\", \"73079910\"], [\"COUNTRY\", \"Germany\"]], [[\"CONTRACT\", \"SR-1-06\"], [\"CONTRACT1\", \"159\"], [\"POS\", \"9200\"], [\"AMOUNT\", \"300\"], [\"ARTICLE\", \"6030003095\"], [\"PRICE\", \"17,55\"], [\"UNIT\", \"100\"], [\"SUM\", \"52,65\"], [\"TARIFF\", \"73079910\"], [\"COUNTRY\", \"Germany\"]], [[\"CONTRACT\", \"SR-1-06\"], [\"CONTRACT1\", \"159\"], [\"POS\", \"9300\"], [\"AMOUNT\", \"240\"], [\"ARTICLE\", \"6030003203\"], [\"PRICE\", \"658,33\"], [\"UNIT\", \"100\"], [\"SUM\", \"1.579,99\"], [\"TARIFF\", \"73079910\"], [\"COUNTRY\", \"Germany\"]], [[\"CONTRACT\", \"SR-1-06\"], [\"CONTRACT1\", \"159\"], [\"POS\", \"9400\"], [\"AMOUNT\", \"250\"], [\"ARTICLE\", \"6020000132\"], [\"PRICE\", \"559,33\"], [\"UNIT\", \"100\"], [\"SUM\", \"1.398,33\"], [\"TARIFF\", \"73079290\"], [\"COUNTRY\", \"Germany\"]], [[\"CONTRACT\", \"SR-1-06\"], [\"CONTRACT1\", \"159\"], [\"POS\", \"9500\"], [\"AMOUNT\", \"108\"], [\"ARTICLE\", \"6020003357\"], [\"PRICE\", \"1.170,50\"], [\"UNIT\", \"100\"], [\"SUM\", \"1.264,14\"], [\"TARIFF\", \"000000006020000133\"], [\"TARIFF\", \"73079290\"], [\"COUNTRY\", \"Germany\"]], [[\"CONTRACT\", \"SR-1-06\"], [\"CONTRACT1\", \"170\"], [\"POS\", \"9600\"], [\"AMOUNT\", \"120\"], [\"ARTICLE\", \"6030003817\"], [\"PRICE\", \"47,89\"], [\"UNIT\", \"100\"], [\"SUM\", \"57,47\"], [\"TARIFF\", \"73079910\"], [\"COUNTRY\", \"Germany\"]], [[\"CONTRACT\", \"SR-1-06\"], [\"CONTRACT1\", \"170\"], [\"POS\", \"9700\"], [\"AMOUNT\", \"500\"], [\"ARTICLE\", \"6030004273\"], [\"PRICE\", \"19,24\"], [\"UNIT\", \"100\"], [\"SUM\", \"96,20\"], [\"TARIFF\", \"73269098\"], [\"COUNTRY\", \"Germany\"]], [[\"CONTRACT\", \"SR-1-06\"], [\"CONTRACT1\", \"170\"], [\"POS\", \"9800\"], [\"AMOUNT\", \"650\"], [\"ARTICLE\", \"6010003464\"], [\"PRICE\", \"141,63\"], [\"UNIT\", \"100\"], [\"SUM\", \"920,60\"], [\"TARIFF\", \"73079290\"], [\"COUNTRY\", \"Germany\"]], [[\"CONTRACT\", \"SR-1-06\"], [\"CONTRACT1\", \"170\"], [\"POS\", \"9900\"], [\"AMOUNT\", \"80\"], [\"ARTICLE\", \"6010003482\"], [\"PRICE\", \"277,97\"], [\"UNIT\", \"100\"], [\"SUM\", \"222,38\"], [\"TARIFF\", \"73079290\"], [\"COUNTRY\", \"Germany\"]], [[\"CONTRACT\", \"SR-1-06\"], [\"CONTRACT1\", \"170\"], [\"POS\", \"10000\"], [\"AMOUNT\", \"20\"], [\"ARTICLE\", \"6010003548\"], [\"PRICE\", \"401,12\"], [\"UNIT\", \"100\"], [\"SUM\", \"80,22\"], [\"TARIFF\", \"73079290\"], [\"COUNTRY\", \"Germany\"]], [[\"CONTRACT\", \"SR-1-06\"], [\"CONTRACT1\", \"170\"], [\"POS\", \"10100\"], [\"AMOUNT\", \"80\"], [\"ARTICLE\", \"6010003488\"], [\"PRICE\", \"375,28\"], [\"UNIT\", \"100\"], [\"SUM\", \"300,22\"], [\"TARIFF\", \"73079290\"], [\"COUNTRY\", \"Germany\"]], [[\"CONTRACT\", \"SR-1-06\"], [\"CONTRACT1\", \"170\"], [\"POS\", \"10200\"], [\"AMOUNT\", \"50\"], [\"ARTICLE\", \"6020000422\"], [\"PRICE\", \"79,02\"], [\"UNIT\", \"100\"], [\"SUM\", \"39,51\"], [\"SUM\", \",\"], [\"TARIFF\", \"73079910\"], [\"COUNTRY\", \"Germany\"]], [[\"CONTRACT\", \"SR-1-06\"], [\"CONTRACT1\", \"170\"], [\"POS\", \"10300\"], [\"AMOUNT\", \"50\"], [\"ARTICLE\", \"6020000359\"], [\"PRICE\", \"110,13\"], [\"UNIT\", \"100\"], [\"SUM\", \"55,07\"], [\"SUM\", \",\"], [\"TARIFF\", \"73079910\"], [\"COUNTRY\", \"Germany\"]], [[\"CONTRACT\", \"SR-1-06\"], [\"CONTRACT1\", \"170\"], [\"POS\", \"10400\"], [\"AMOUNT\", \"480\"], [\"ARTICLE\", \"6020000525\"], [\"PRICE\", \"88,08\"], [\"UNIT\", \"100\"], [\"SUM\", \"422,78\"], [\"TARIFF\", \"73079910\"], [\"COUNTRY\", \"Germany\"]], [[\"CONTRACT\", \"SR-1-06\"], [\"CONTRACT1\", \"170\"], [\"POS\", \"10500\"], [\"AMOUNT\", \"20\"], [\"ARTICLE\", \"6020000539\"], [\"PRICE\", \"325,86\"], [\"UNIT\", \"100\"], [\"SUM\", \"65,17\"], [\"TARIFF\", \"73079910\"], [\"COUNTRY\", \"Germany\"]], [[\"CONTRACT\", \"SR-1-06\"], [\"CONTRACT1\", \"170\"], [\"POS\", \"10600\"], [\"AMOUNT\", \"125\"], [\"ARTICLE\", \"6030003846\"], [\"PRICE\", \"122,40\"], [\"UNIT\", \"100\"], [\"SUM\", \"153,00\"], [\"TARIFF\", \"73079290\"], [\"COUNTRY\", \"Germany\"]]]\n"
     ]
    }
   ],
   "source": [
    "print(transfer(fName=fName))"
   ]
  }
 ],
 "metadata": {
  "interpreter": {
   "hash": "b3ba2566441a7c06988d0923437866b63cedc61552a5af99d1f4fb67d367b25f"
  },
  "kernelspec": {
   "display_name": "Python 3.9.7 ('base')",
   "language": "python",
   "name": "python3"
  },
  "language_info": {
   "codemirror_mode": {
    "name": "ipython",
    "version": 3
   },
   "file_extension": ".py",
   "mimetype": "text/x-python",
   "name": "python",
   "nbconvert_exporter": "python",
   "pygments_lexer": "ipython3",
   "version": "3.9.7"
  },
  "orig_nbformat": 4
 },
 "nbformat": 4,
 "nbformat_minor": 2
}
