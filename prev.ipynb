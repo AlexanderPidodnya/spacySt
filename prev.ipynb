{
 "cells": [
  {
   "cell_type": "code",
   "execution_count": 2,
   "metadata": {},
   "outputs": [],
   "source": [
    "import pytesseract\n",
    "import cv2\n",
    "import matplotlib.pyplot as plt\n",
    "from PIL import Image\n",
    "import requests\n",
    "import os\n",
    "from pdf2image import convert_from_path, convert_from_bytes\n",
    "\n",
    "from pdf2image.exceptions import (\n",
    "    PDFInfoNotInstalledError,\n",
    "    PDFPageCountError,\n",
    "    PDFSyntaxError\n",
    ")\n",
    "\n",
    "# first level of shortening\n",
    "import spacy as spacy\n",
    "\n",
    "from spacy.tokens import Span\n",
    "from spacy.matcher import Matcher"
   ]
  },
  {
   "cell_type": "code",
   "execution_count": 3,
   "metadata": {},
   "outputs": [],
   "source": [
    "fName = r\"F:\\Python\\OCR_diploma\\docs_base\\StauffInvoices\\92951827.pdf\" \n",
    "fName = r\"F:\\Python\\OCR_diploma\\docs_base\\StauffInvoices\\92951828.pdf\"\n",
    "strSeparator = '\\n#########################################################\\n'"
   ]
  },
  {
   "cell_type": "code",
   "execution_count": 25,
   "metadata": {},
   "outputs": [],
   "source": [
    "def pdfDocToString(f_name):\n",
    "    size = 2400\n",
    "    pytesseract.pytesseract.tesseract_cmd = r\"C:\\Program Files\\Tesseract-OCR\\tesseract.exe\"\n",
    "    f_pdf = open(f_name, 'rb').read()\n",
    "    images = convert_from_bytes(f_pdf, dpi = 300, size=size)\n",
    "    images = convert_from_path(f_name, dpi = 300)\n",
    "    text = ''\n",
    "    for img in images:\n",
    "        text += pytesseract.image_to_string(img , lang='rus+eng', config='--psm 4' )\n",
    "    return text"
   ]
  },
  {
   "cell_type": "code",
   "execution_count": 5,
   "metadata": {},
   "outputs": [],
   "source": [
    "def shortening(text):\n",
    "    nlp = spacy.blank(\"en\")\n",
    "\n",
    "    doc = nlp(text)\n",
    "\n",
    "    matcher = Matcher(nlp.vocab)\n",
    "\n",
    "    pattern3 = [\n",
    "        {'LOWER':'CONTRIBUTING'.lower()},\n",
    "        {'LOWER':'TO'.lower()}, \n",
    "        {'LOWER':'YOUR'.lower()}, \n",
    "        {'LOWER':'SUCCESS'.lower()}\n",
    "        ]\n",
    "    matcher.add('ENDPAGE', [pattern3])\n",
    "\n",
    "    pattern4 = [\n",
    "        {'LOWER':'article'},\n",
    "        {'LOWER':'code'}, \n",
    "        {'LOWER':'price'}, \n",
    "        {'LOWER':'eur'},\n",
    "        {'LOWER':'unit'},\n",
    "        {'LOWER':'amount'},\n",
    "        {'LOWER':'eur'}\n",
    "    ]\n",
    "\n",
    "    pattern4_ = [{'LOWER':'russische'}, {'LOWER':'foed'}]\n",
    "    matcher.add('STARTPAGE', [pattern4, pattern4_])\n",
    "\n",
    "    pattern5  = [\n",
    "        {'LOWER':'doc.no'},\n",
    "        {'LOWER':'.'},\n",
    "        {'LOWER':'/'},\n",
    "        {'LOWER':'date'},\n",
    "        {'LOWER':'page'}\n",
    "    ]\n",
    "    \n",
    "    pattern6  = [\n",
    "        {'LOWER':'doc.по'},\n",
    "        {'LOWER':'.'},\n",
    "        {'LOWER':'/'},\n",
    "        {'LOWER':'date'},\n",
    "        {'LOWER':'page'}\n",
    "    ] \n",
    "    matcher.add('ABOUTNOPAGE', [pattern5, pattern6])\n",
    "\n",
    "    doc = nlp(text)\n",
    "\n",
    "    matches = matcher(doc)\n",
    "    spans = [Span(doc, start, end, label=match_id) for match_id, start, end in matches]\n",
    "\n",
    "    paging = []\n",
    "\n",
    "    pageinfo = {'ABOUTNOPAGE':0, 'STARTPAGE':0, 'ENDPAGE':0}\n",
    "    shortenText = ''\n",
    "    firstPage = True\n",
    "    txt = '''import spacy\n",
    "    from spacy.tokens import Span\n",
    "\n",
    "    nlp = spacy.blank(\"en\")\\n'''\n",
    "    docs  = []\n",
    "    npos = 0\n",
    "    npage = 0\n",
    "    for sp in spans:\n",
    "        if sp.label_  == 'ABOUTNOPAGE':\n",
    "            pageinfo[sp.label_] = sp.end\n",
    "        elif sp.label_  == 'STARTPAGE':\n",
    "            pageinfo[sp.label_] = sp.end\n",
    "        elif sp.label_  == 'ENDPAGE':\n",
    "            pageinfo[sp.label_] = sp.start\n",
    "            paging.append(pageinfo)\n",
    "            \n",
    "            if firstPage ==True:\n",
    "                shortenText = doc[:pageinfo['ENDPAGE']].text\n",
    "                firstPage = False\n",
    "                docs.append(doc[:pageinfo['ENDPAGE']].text)\n",
    "                txt = txt + strSeparator + doc[:pageinfo['ENDPAGE']].text \n",
    "            else:\n",
    "                shortenText = shortenText +  doc[pageinfo['STARTPAGE']:pageinfo['ENDPAGE']].text\n",
    "                docs.append(doc[pageinfo['STARTPAGE']:pageinfo['ENDPAGE']].text)\n",
    "                print(pageinfo, pageinfo['ENDPAGE'] - pageinfo['STARTPAGE'])\n",
    "                txt = txt + strSeparator + doc[pageinfo['STARTPAGE']:pageinfo['ENDPAGE']].text \n",
    "\n",
    "                \n",
    "                #break\n",
    "            pageinfo = {'ABOUTNOPAGE':0, 'STARTPAGE':0, 'ENDPAGE':0}\n",
    "            npage += 1\n",
    "\n",
    "        #print(pageinfo)\n",
    "    #print(txt)\n",
    "    print(len(paging))\n",
    "    return shortenText\n",
    "\n",
    "#with open(fName.replace('.txt', 's.txt'), encoding=\"utf8\", mode='w') as f:\n",
    "#    f.write(txt)\n"
   ]
  },
  {
   "cell_type": "code",
   "execution_count": 6,
   "metadata": {},
   "outputs": [
    {
     "name": "stdout",
     "output_type": "stream",
     "text": [
      "F:\\Python\\OCR_diploma\\docs_base\\StauffInvoices\n"
     ]
    }
   ],
   "source": [
    "catName = fName.split('\\\\')[-1].split('.')[0]\n",
    "print('\\\\'.join(fName.split('\\\\')[:-1]))\n",
    "if os.path.isdir(catName):\n",
    "    print('Dir is')"
   ]
  },
  {
   "cell_type": "code",
   "execution_count": null,
   "metadata": {},
   "outputs": [],
   "source": [
    "\n",
    "text = pdfDocToString(f_name=fName)\n",
    "txtS = shortening(text)\n",
    "\n",
    "print(txtS)"
   ]
  },
  {
   "cell_type": "code",
   "execution_count": 8,
   "metadata": {},
   "outputs": [],
   "source": [
    "def text2spans(rtest):\n",
    "    rtest = rtest.replace(strSeparator, '')\n",
    "\n",
    "    nlp = spacy.blank(\"en\")\n",
    "    matcher = Matcher(nlp.vocab)\n",
    "\n",
    "    patternPurchase = [{'LOWER': 'purchase'}, \n",
    "        {'LOWER':'order'}, \n",
    "        {'LOWER':'number'}, \n",
    "        {'LOWER': ':'}]\n",
    "    matcher.add('PTRPURCHASE', [patternPurchase])\n",
    "\n",
    "    patternTariff = [{'LOWER': 'customs'}, \n",
    "        {'LOWER':'tariff'}, \n",
    "        {'IS_ALPHA': True},\n",
    "        {'IS_PUNCT': True, 'OP': '*'}, \n",
    "        {'IS_DIGIT': True}]\n",
    "    matcher.add('PTRTARIFF', [patternTariff])\n",
    "\n",
    "    patternCountry = [{'LOWER': 'country'}, \n",
    "        {'LOWER':'of'} , \n",
    "        {'LOWER': 'origin'}, \n",
    "        {'LOWER': ':'}, \n",
    "        {'IS_ALPHA': True}]\n",
    "    matcher.add('PTRCOUNTRY', [patternCountry])\n",
    "\n",
    "    patternPC = [{'LIKE_NUM': True}, {'LIKE_NUM': True},\n",
    "        {'LOWER' : {'in' : ['pc', 'рс']}},\n",
    "        {'LIKE_NUM':True}    ] \n",
    "\n",
    "    matcher.add('PTROFPC', [patternPC])\n",
    "\n",
    "    doc1 = nlp(rtest)\n",
    "\n",
    "    #print(\"Verbs:\", [token.text for token in doc1[45:54]])\n",
    "\n",
    "    matches = matcher(doc1)\n",
    "    spans = [Span(doc1, start, end, label=match_id) for match_id, start, end in matches]\n",
    "\n",
    "    startSpan = 0\n",
    "    endSpan = 0\n",
    "    #posTariff = 0\n",
    "    #txt2 = 'import json \\nimport spacy \\nfrom spacy.matcher import Matcher \\nfrom spacy.tokens import Span, DocBin \\ndocs = [] \\n'\n",
    "    #nPos = 0\n",
    "    docs = []\n",
    "    pos2PC = 0\n",
    "    for sp in spans:\n",
    "        if sp.label_  == 'PTRPURCHASE':\n",
    "            startSpan = sp.start\n",
    "            \n",
    "        #elif sp.label_  == 'PTRTARIFF':             posTariff = sp.end-1\n",
    "            \n",
    "        #elif sp.label_  == 'PTROFPC':             pos2PC = sp.start\n",
    "        \n",
    "        elif sp.label_  == 'PTRCOUNTRY':\n",
    "            endSpan = sp.end\n",
    "            #pos2PC = pos2PC - startSpan  \n",
    "            \n",
    "\n",
    "            docs.append(doc1[startSpan:endSpan].text)\n",
    "            \n",
    "    return docs"
   ]
  },
  {
   "cell_type": "code",
   "execution_count": 27,
   "metadata": {},
   "outputs": [],
   "source": [
    "docs = text2spans(txtS)"
   ]
  },
  {
   "cell_type": "code",
   "execution_count": 12,
   "metadata": {},
   "outputs": [
    {
     "data": {
      "text/plain": [
       "str"
      ]
     },
     "execution_count": 12,
     "metadata": {},
     "output_type": "execute_result"
    }
   ],
   "source": [
    "type(docs[1])"
   ]
  },
  {
   "cell_type": "code",
   "execution_count": null,
   "metadata": {},
   "outputs": [],
   "source": [
    "nlp_ = spacy.load(r\"C:\\Users\\AdminAsus\\source\\python\\spacyST\\spacySt-1\\output\\model-best\")\n",
    "answer = []\n",
    "for doc in docs:\n",
    "    docx = nlp_(doc)\n",
    "    #print(docx.ents)\n",
    "    res = []\n",
    "    for ent in docx.ents:\n",
    "        res.append((ent.label_, ent.text))\n",
    "    answer.append(res)\n",
    "jsonStr = json.dumps(answer)    \n",
    "print(len(answer))\n",
    "print(jsonStr)\n",
    "    #for ent in docx.ents:\n",
    "    #    print(ent.text, ent.label_)"
   ]
  },
  {
   "cell_type": "code",
   "execution_count": 30,
   "metadata": {},
   "outputs": [],
   "source": [
    "import json\n",
    "def transfer(fName):\n",
    "    text = pdfDocToString(f_name=fName)\n",
    "    txtS = shortening(text)\n",
    "    docs = text2spans(txtS)\n",
    "    nlp_ = spacy.load(r\"C:\\Users\\AdminAsus\\source\\python\\spacyST\\spacySt-1\\output\\model-best\")\n",
    "    answer = []\n",
    "    for doc in docs:\n",
    "        docx = nlp_(doc)\n",
    "        #print(docx.ents)\n",
    "        res = []\n",
    "        for ent in docx.ents:\n",
    "            res.append((ent.label_, ent.text))\n",
    "        answer.append(res)\n",
    "    jsonStr = json.dumps(answer) \n",
    "    return jsonStr"
   ]
  },
  {
   "cell_type": "code",
   "execution_count": 31,
   "metadata": {},
   "outputs": [
    {
     "name": "stdout",
     "output_type": "stream",
     "text": [
      "{'ABOUTNOPAGE': 585, 'STARTPAGE': 620, 'ENDPAGE': 878} 258\n",
      "{'ABOUTNOPAGE': 1106, 'STARTPAGE': 1143, 'ENDPAGE': 1401} 258\n",
      "{'ABOUTNOPAGE': 1629, 'STARTPAGE': 1664, 'ENDPAGE': 1922} 258\n",
      "{'ABOUTNOPAGE': 2150, 'STARTPAGE': 2185, 'ENDPAGE': 2440} 255\n",
      "{'ABOUTNOPAGE': 2668, 'STARTPAGE': 2705, 'ENDPAGE': 2934} 229\n",
      "{'ABOUTNOPAGE': 3162, 'STARTPAGE': 3197, 'ENDPAGE': 3429} 232\n",
      "{'ABOUTNOPAGE': 3657, 'STARTPAGE': 3694, 'ENDPAGE': 3933} 239\n",
      "{'ABOUTNOPAGE': 4161, 'STARTPAGE': 4196, 'ENDPAGE': 4428} 232\n",
      "{'ABOUTNOPAGE': 4656, 'STARTPAGE': 4693, 'ENDPAGE': 4911} 218\n",
      "{'ABOUTNOPAGE': 5139, 'STARTPAGE': 5174, 'ENDPAGE': 5409} 235\n",
      "{'ABOUTNOPAGE': 5637, 'STARTPAGE': 5674, 'ENDPAGE': 5901} 227\n",
      "{'ABOUTNOPAGE': 6129, 'STARTPAGE': 6166, 'ENDPAGE': 6398} 232\n",
      "{'ABOUTNOPAGE': 6626, 'STARTPAGE': 6663, 'ENDPAGE': 6880} 217\n",
      "{'ABOUTNOPAGE': 7108, 'STARTPAGE': 7145, 'ENDPAGE': 7391} 246\n",
      "{'ABOUTNOPAGE': 7619, 'STARTPAGE': 7656, 'ENDPAGE': 7901} 245\n",
      "{'ABOUTNOPAGE': 8129, 'STARTPAGE': 8166, 'ENDPAGE': 8362} 196\n",
      "{'ABOUTNOPAGE': 8590, 'STARTPAGE': 8613, 'ENDPAGE': 8635} 22\n",
      "18\n",
      "[[[\"CONTRACT\", \"SR-1-06\"], [\"CONTRACT1\", \"1327\"], [\"POS\", \"1000\"], [\"AMOUNT\", \"100\"], [\"ARTICLE\", \"6010001836\"], [\"PRICE\", \"54,52\"], [\"UNIT\", \"100\"], [\"SUM\", \"54,52\"], [\"TARIFF\", \"73079910\"], [\"COUNTRY\", \"Germany\"]], [[\"CONTRACT\", \"SR-1-06\"], [\"CONTRACT1\", \"1328\"], [\"POS\", \"1100\"], [\"AMOUNT\", \"100\"], [\"ARTICLE\", \"6010001836\"], [\"PRICE\", \"54,52\"], [\"UNIT\", \"100\"], [\"SUM\", \"54,52\"], [\"TARIFF\", \"73079910\"], [\"COUNTRY\", \"Germany\"]], [[\"CONTRACT\", \"SR-1-06\"], [\"CONTRACT1\", \"1329\"], [\"POS\", \"1200\"], [\"AMOUNT\", \"100\"], [\"ARTICLE\", \"6010001836\"], [\"PRICE\", \"54,52\"], [\"UNIT\", \"100\"], [\"SUM\", \"54,52\"], [\"TARIFF\", \"73079910\"], [\"COUNTRY\", \"Germany\"]], [[\"CONTRACT\", \"SR-1-06\"], [\"CONTRACT1\", \"1330\"], [\"POS\", \"1300\"], [\"AMOUNT\", \"100\"], [\"ARTICLE\", \"6010001836\"], [\"PRICE\", \"54,52\"], [\"UNIT\", \"100\"], [\"SUM\", \"54,52\"], [\"TARIFF\", \"73079910\"], [\"COUNTRY\", \"Germany\"]], [[\"CONTRACT\", \"SR-1-06\"], [\"CONTRACT1\", \"1331\"], [\"POS\", \"1400\"], [\"AMOUNT\", \"100\"], [\"ARTICLE\", \"6010001836\"], [\"PRICE\", \"54,52\"], [\"UNIT\", \"100\"], [\"SUM\", \"54,52\"], [\"TARIFF\", \"73079910\"], [\"COUNTRY\", \"Germany\"]], [[\"CONTRACT\", \"SR-1-06\"], [\"CONTRACT1\", \"1332\"], [\"POS\", \"1600\"], [\"AMOUNT\", \"100\"], [\"ARTICLE\", \"6010001836\"], [\"PRICE\", \"54,52\"], [\"UNIT\", \"100\"], [\"SUM\", \"54,52\"], [\"TARIFF\", \"73079910\"], [\"COUNTRY\", \"Germany\"]], [[\"CONTRACT\", \"SR-1-06\"], [\"CONTRACT1\", \"1516\"], [\"POS\", \"1700\"], [\"AMOUNT\", \"100\"], [\"ARTICLE\", \"6010001836\"], [\"PRICE\", \"54,52\"], [\"UNIT\", \"100\"], [\"SUM\", \"54,52\"], [\"TARIFF\", \"73079910\"], [\"COUNTRY\", \"Germany\"]], [[\"CONTRACT\", \"SR-1-06\"], [\"CONTRACT1\", \"1523\"], [\"POS\", \"1800\"], [\"AMOUNT\", \"100\"], [\"ARTICLE\", \"6010001836\"], [\"PRICE\", \"54,52\"], [\"UNIT\", \"100\"], [\"SUM\", \"54,52\"], [\"TARIFF\", \"73079910\"], [\"COUNTRY\", \"Germany\"]], [[\"CONTRACT\", \"SR-1-06\"], [\"CONTRACT1\", \"1558\"], [\"POS\", \"1900\"], [\"AMOUNT\", \"100\"], [\"ARTICLE\", \"6010001836\"], [\"PRICE\", \"54,52\"], [\"UNIT\", \"100\"], [\"SUM\", \"54,52\"], [\"TARIFF\", \"73079910\"], [\"COUNTRY\", \"Germany\"]], [[\"CONTRACT\", \"SR-1-06\"], [\"CONTRACT1\", \"1666\"], [\"POS\", \"2000\"], [\"AMOUNT\", \"442\"], [\"ARTICLE\", \"6100076765\"], [\"PRICE\", \"4,24\"], [\"UNIT\", \"1\"], [\"SUM\", \"1.874,08\"], [\"TARIFF\", \"84812010\"], [\"COUNTRY\", \"Germany\"]], [[\"CONTRACT\", \"SR-1-06\"], [\"CONTRACT1\", \"1677\"], [\"POS\", \"2100\"], [\"AMOUNT\", \"100\"], [\"ARTICLE\", \"6010001836\"], [\"PRICE\", \"59,97\"], [\"UNIT\", \"100\"], [\"SUM\", \"59,97\"], [\"TARIFF\", \"73079910\"], [\"COUNTRY\", \"Germany\"]], [[\"CONTRACT\", \"SR-1-06\"], [\"CONTRACT1\", \"1748\"], [\"POS\", \"2200\"], [\"AMOUNT\", \"100\"], [\"ARTICLE\", \"6010001836\"], [\"PRICE\", \"59,97\"], [\"UNIT\", \"100\"], [\"SUM\", \"59,97\"], [\"TARIFF\", \"73079910\"], [\"COUNTRY\", \"Germany\"]], [[\"CONTRACT\", \"SR-1-06\"], [\"CONTRACT1\", \"1766\"], [\"POS\", \"2300\"], [\"AMOUNT\", \"100\"], [\"ARTICLE\", \"6010001836\"], [\"PRICE\", \"59,97\"], [\"UNIT\", \"100\"], [\"SUM\", \"59,97\"], [\"TARIFF\", \"73079910\"], [\"COUNTRY\", \"Germany\"]], [[\"CONTRACT\", \"SR-1-06\"], [\"CONTRACT1\", \"1807\"], [\"POS\", \"7100\"], [\"AMOUNT\", \"172\"], [\"ARTICLE\", \"6010002007\"], [\"PRICE\", \"122,77\"], [\"UNIT\", \"100\"], [\"SUM\", \"211,16\"], [\"TARIFF\", \"73079290\"], [\"COUNTRY\", \"Germany\"]], [[\"CONTRACT\", \"SR-1-06\"], [\"CONTRACT1\", \"1818\"], [\"POS\", \"7200\"], [\"AMOUNT\", \"100\"], [\"ARTICLE\", \"6010001836\"], [\"PRICE\", \"59,97\"], [\"UNIT\", \"100\"], [\"SUM\", \"59,97\"], [\"TARIFF\", \"73079910\"], [\"COUNTRY\", \"Germany\"]], [[\"CONTRACT\", \"SR-1-06\"], [\"CONTRACT1\", \"1961\"], [\"POS\", \"7300\"], [\"AMOUNT\", \"100\"], [\"ARTICLE\", \"1130010227\"], [\"PRICE\", \"26,38\"], [\"UNIT\", \"100\"], [\"SUM\", \"26,38\"], [\"TARIFF\", \"39269097\"], [\"COUNTRY\", \"Germany\"]], [[\"CONTRACT\", \"SR-1-06\"], [\"CONTRACT1\", \"1997\"], [\"POS\", \"7400\"], [\"AMOUNT\", \"100\"], [\"ARTICLE\", \"1130004071\"], [\"PRICE\", \"119,14\"], [\"UNIT\", \"100\"], [\"SUM\", \"119,14\"], [\"TARIFF\", \"72166110\"], [\"COUNTRY\", \"Germany\"]], [[\"CONTRACT\", \"SR-1-06\"], [\"CONTRACT1\", \"1997\"], [\"POS\", \"7500\"], [\"AMOUNT\", \"100\"], [\"ARTICLE\", \"6010001836\"], [\"PRICE\", \"59,97\"], [\"UNIT\", \"100\"], [\"SUM\", \"59,97\"], [\"TARIFF\", \"73079910\"], [\"COUNTRY\", \"Germany\"]], [[\"CONTRACT\", \"SR-1-06\"], [\"CONTRACT1\", \"1997\"], [\"POS\", \"7600\"], [\"AMOUNT\", \"150\"], [\"ARTICLE\", \"6010001858\"], [\"PRICE\", \"43,75\"], [\"UNIT\", \"100\"], [\"SUM\", \"65,63\"], [\"TARIFF\", \"73079910\"], [\"COUNTRY\", \"Germany\"]], [[\"CONTRACT\", \"SR-1-06\"], [\"CONTRACT1\", \"46\"], [\"POS\", \"7700\"], [\"AMOUNT\", \"100\"], [\"ARTICLE\", \"6010001836\"], [\"PRICE\", \"59,97\"], [\"UNIT\", \"100\"], [\"SUM\", \"59,97\"], [\"TARIFF\", \"73079910\"], [\"COUNTRY\", \"Germany\"]], [[\"CONTRACT\", \"SR-1-06\"], [\"AMOUNT\", \"51\"], [\"POS\", \"7800\"], [\"AMOUNT\", \"1.000\"], [\"ARTICLE\", \"6030003815\"], [\"PRICE\", \"18,68\"], [\"UNIT\", \"100\"], [\"SUM\", \"186,80\"], [\"TARIFF\", \"73079910\"], [\"COUNTRY\", \"Germany\"]], [[\"CONTRACT\", \"SR-1-06\"], [\"SUM\", \"51\"], [\"POS\", \"7900\"], [\"AMOUNT\", \"25\"], [\"ARTICLE\", \"6010003205\"], [\"PRICE\", \"285,33\"], [\"UNIT\", \"100\"], [\"SUM\", \"71,33\"], [\"TARIFF\", \"73079910\"], [\"COUNTRY\", \"Germany\"]], [[\"CONTRACT\", \"SR-1-06\"], [\"AMOUNT\", \"60\"], [\"POS\", \"8000\"], [\"AMOUNT\", \"100\"], [\"ARTICLE\", \"6010001836\"], [\"PRICE\", \"59,97\"], [\"UNIT\", \"100\"], [\"SUM\", \"59,97\"], [\"TARIFF\", \"73079910\"], [\"COUNTRY\", \"Germany\"]], [[\"CONTRACT\", \"SR-1-06\"], [\"AMOUNT\", \"60\"], [\"POS\", \"8100\"], [\"AMOUNT\", \"2\"], [\"ARTICLE\", \"6100079873\"], [\"PRICE\", \"9,34\"], [\"UNIT\", \"1\"], [\"SUM\", \"18,68\"], [\"TARIFF\", \"84212980\"], [\"COUNTRY\", \"Italy\"]], [[\"CONTRACT\", \"SR-1-06\"], [\"AMOUNT\", \"60\"], [\"POS\", \"8200\"], [\"AMOUNT\", \"6\"], [\"ARTICLE\", \"6010008033\"], [\"PRICE\", \"253,45\"], [\"UNIT\", \"100\"], [\"SUM\", \"15,21\"], [\"TARIFF\", \"73079290\"], [\"COUNTRY\", \"Germany\"]], [[\"CONTRACT\", \"SR-1-06\"], [\"POS\", \"8300\"], [\"AMOUNT\", \"4\"], [\"ARTICLE\", \"6010000276\"], [\"PRICE\", \"763,37\"], [\"UNIT\", \"100\"], [\"SUM\", \"30,53\"], [\"TARIFF\", \"84813091\"], [\"COUNTRY\", \"Germany\"]], [[\"CONTRACT\", \"SR-1-06\"], [\"POS\", \"8400\"], [\"AMOUNT\", \"1\"], [\"ARTICLE\", \"6100079873\"], [\"PRICE\", \"9,34\"], [\"UNIT\", \"1\"], [\"SUM\", \"9,34\"], [\"TARIFF\", \"84212980\"], [\"COUNTRY\", \"Italy\"]], [[\"CONTRACT\", \"SR-1-06\"], [\"AMOUNT\", \"74\"], [\"POS\", \"8500\"], [\"AMOUNT\", \"35\"], [\"ARTICLE\", \"6030005112\"], [\"PRICE\", \"21,12\"], [\"UNIT\", \"100\"], [\"SUM\", \"7,39\"], [\"TARIFF\", \"73079980\"], [\"COUNTRY\", \"Germany\"]], [[\"CONTRACT\", \"SR-1-06\"], [\"CONTRACT1\", \"159\"], [\"POS\", \"8600\"], [\"AMOUNT\", \"5.000\"], [\"ARTICLE\", \"6030004267\"], [\"PRICE\", \"6,99\"], [\"UNIT\", \"100\"], [\"SUM\", \"349,50\"], [\"TARIFF\", \"73269098\"], [\"COUNTRY\", \"Germany\"]], [[\"CONTRACT\", \"SR-1-06\"], [\"CONTRACT1\", \"159\"], [\"POS\", \"8700\"], [\"AMOUNT\", \"2.000\"], [\"ARTICLE\", \"6030004273\"], [\"PRICE\", \"19,24\"], [\"UNIT\", \"100\"], [\"SUM\", \"384,80\"], [\"TARIFF\", \"73269098\"], [\"COUNTRY\", \"Germany\"]], [[\"CONTRACT\", \"SR-1-06\"], [\"CONTRACT1\", \"159\"], [\"POS\", \"8800\"], [\"AMOUNT\", \"750\"], [\"ARTICLE\", \"6030004275\"], [\"PRICE\", \"36,21\"], [\"UNIT\", \"100\"], [\"SUM\", \"271,58\"], [\"TARIFF\", \"73269098\"], [\"COUNTRY\", \"Germany\"]], [[\"CONTRACT\", \"SR-1-06\"], [\"CONTRACT1\", \"159\"], [\"POS\", \"8900\"], [\"AMOUNT\", \"300\"], [\"ARTICLE\", \"6030004276\"], [\"PRICE\", \"51,87\"], [\"UNIT\", \"100\"], [\"SUM\", \"155,61\"], [\"TARIFF\", \"73269098\"], [\"COUNTRY\", \"Germany\"]], [[\"CONTRACT\", \"SR-1-06\"], [\"CONTRACT1\", \"159\"], [\"POS\", \"9000\"], [\"AMOUNT\", \"75\"], [\"ARTICLE\", \"6010001883\"], [\"PRICE\", \"157,47\"], [\"UNIT\", \"100\"], [\"SUM\", \"118,10\"], [\"TARIFF\", \"73079910\"], [\"COUNTRY\", \"Germany\"]], [[\"CONTRACT\", \"SR-1-06\"], [\"CONTRACT1\", \"159\"], [\"POS\", \"9100\"], [\"AMOUNT\", \"150\"], [\"ARTICLE\", \"6030003251\"], [\"PRICE\", \"88,25\"], [\"UNIT\", \"100\"], [\"SUM\", \"132,38\"], [\"TARIFF\", \"73079910\"], [\"COUNTRY\", \"Germany\"]], [[\"CONTRACT\", \"SR-1-06\"], [\"CONTRACT1\", \"159\"], [\"POS\", \"9200\"], [\"AMOUNT\", \"300\"], [\"ARTICLE\", \"6030003095\"], [\"PRICE\", \"17,55\"], [\"UNIT\", \"100\"], [\"SUM\", \"52,65\"], [\"TARIFF\", \"73079910\"], [\"COUNTRY\", \"Germany\"]], [[\"CONTRACT\", \"SR-1-06\"], [\"CONTRACT1\", \"159\"], [\"POS\", \"9300\"], [\"AMOUNT\", \"240\"], [\"ARTICLE\", \"6030003203\"], [\"PRICE\", \"658,33\"], [\"UNIT\", \"100\"], [\"SUM\", \"1.579,99\"], [\"TARIFF\", \"73079910\"], [\"COUNTRY\", \"Germany\"]], [[\"CONTRACT\", \"SR-1-06\"], [\"CONTRACT1\", \"159\"], [\"POS\", \"9400\"], [\"AMOUNT\", \"250\"], [\"ARTICLE\", \"6020000132\"], [\"PRICE\", \"559,33\"], [\"UNIT\", \"100\"], [\"SUM\", \"1.398,33\"], [\"TARIFF\", \"73079290\"], [\"COUNTRY\", \"Germany\"]], [[\"CONTRACT\", \"SR-1-06\"], [\"CONTRACT1\", \"159\"], [\"POS\", \"9500\"], [\"AMOUNT\", \"108\"], [\"ARTICLE\", \"6020003357\"], [\"PRICE\", \"1.170,50\"], [\"UNIT\", \"100\"], [\"SUM\", \"1.264,14\"], [\"TARIFF\", \"000000006020000133\"], [\"TARIFF\", \"73079290\"], [\"COUNTRY\", \"Germany\"]], [[\"CONTRACT\", \"SR-1-06\"], [\"CONTRACT1\", \"170\"], [\"POS\", \"9600\"], [\"AMOUNT\", \"120\"], [\"ARTICLE\", \"6030003817\"], [\"PRICE\", \"47,89\"], [\"UNIT\", \"100\"], [\"SUM\", \"57,47\"], [\"TARIFF\", \"73079910\"], [\"COUNTRY\", \"Germany\"]], [[\"CONTRACT\", \"SR-1-06\"], [\"CONTRACT1\", \"170\"], [\"POS\", \"9700\"], [\"AMOUNT\", \"500\"], [\"ARTICLE\", \"6030004273\"], [\"PRICE\", \"19,24\"], [\"UNIT\", \"100\"], [\"SUM\", \"96,20\"], [\"TARIFF\", \"73269098\"], [\"COUNTRY\", \"Germany\"]], [[\"CONTRACT\", \"SR-1-06\"], [\"CONTRACT1\", \"170\"], [\"POS\", \"9800\"], [\"AMOUNT\", \"650\"], [\"ARTICLE\", \"6010003464\"], [\"PRICE\", \"141,63\"], [\"UNIT\", \"100\"], [\"SUM\", \"920,60\"], [\"TARIFF\", \"73079290\"], [\"COUNTRY\", \"Germany\"]], [[\"CONTRACT\", \"SR-1-06\"], [\"CONTRACT1\", \"170\"], [\"POS\", \"9900\"], [\"AMOUNT\", \"80\"], [\"ARTICLE\", \"6010003482\"], [\"PRICE\", \"277,97\"], [\"UNIT\", \"100\"], [\"SUM\", \"222,38\"], [\"TARIFF\", \"73079290\"], [\"COUNTRY\", \"Germany\"]], [[\"CONTRACT\", \"SR-1-06\"], [\"CONTRACT1\", \"170\"], [\"POS\", \"10000\"], [\"AMOUNT\", \"20\"], [\"ARTICLE\", \"6010003548\"], [\"PRICE\", \"401,12\"], [\"UNIT\", \"100\"], [\"SUM\", \"80,22\"], [\"TARIFF\", \"73079290\"], [\"COUNTRY\", \"Germany\"]], [[\"CONTRACT\", \"SR-1-06\"], [\"CONTRACT1\", \"170\"], [\"POS\", \"10100\"], [\"AMOUNT\", \"80\"], [\"ARTICLE\", \"6010003488\"], [\"PRICE\", \"375,28\"], [\"UNIT\", \"100\"], [\"SUM\", \"300,22\"], [\"TARIFF\", \"73079290\"], [\"COUNTRY\", \"Germany\"]], [[\"CONTRACT\", \"SR-1-06\"], [\"CONTRACT1\", \"170\"], [\"POS\", \"10200\"], [\"AMOUNT\", \"50\"], [\"ARTICLE\", \"6020000422\"], [\"PRICE\", \"79,02\"], [\"UNIT\", \"100\"], [\"SUM\", \"39,51\"], [\"SUM\", \",\"], [\"TARIFF\", \"73079910\"], [\"COUNTRY\", \"Germany\"]], [[\"CONTRACT\", \"SR-1-06\"], [\"CONTRACT1\", \"170\"], [\"POS\", \"10300\"], [\"AMOUNT\", \"50\"], [\"ARTICLE\", \"6020000359\"], [\"PRICE\", \"110,13\"], [\"UNIT\", \"100\"], [\"SUM\", \"55,07\"], [\"SUM\", \",\"], [\"TARIFF\", \"73079910\"], [\"COUNTRY\", \"Germany\"]], [[\"CONTRACT\", \"SR-1-06\"], [\"CONTRACT1\", \"170\"], [\"POS\", \"10400\"], [\"AMOUNT\", \"480\"], [\"ARTICLE\", \"6020000525\"], [\"PRICE\", \"88,08\"], [\"UNIT\", \"100\"], [\"SUM\", \"422,78\"], [\"TARIFF\", \"73079910\"], [\"COUNTRY\", \"Germany\"]], [[\"CONTRACT\", \"SR-1-06\"], [\"CONTRACT1\", \"170\"], [\"POS\", \"10500\"], [\"AMOUNT\", \"20\"], [\"ARTICLE\", \"6020000539\"], [\"PRICE\", \"325,86\"], [\"UNIT\", \"100\"], [\"SUM\", \"65,17\"], [\"TARIFF\", \"73079910\"], [\"COUNTRY\", \"Germany\"]], [[\"CONTRACT\", \"SR-1-06\"], [\"CONTRACT1\", \"170\"], [\"POS\", \"10600\"], [\"AMOUNT\", \"125\"], [\"ARTICLE\", \"6030003846\"], [\"PRICE\", \"122,40\"], [\"UNIT\", \"100\"], [\"SUM\", \"153,00\"], [\"TARIFF\", \"73079290\"], [\"COUNTRY\", \"Germany\"]]]\n"
     ]
    }
   ],
   "source": [
    "print(transfer(fName=fName))"
   ]
  }
 ],
 "metadata": {
  "interpreter": {
   "hash": "b3ba2566441a7c06988d0923437866b63cedc61552a5af99d1f4fb67d367b25f"
  },
  "kernelspec": {
   "display_name": "Python 3.9.7 ('base')",
   "language": "python",
   "name": "python3"
  },
  "language_info": {
   "codemirror_mode": {
    "name": "ipython",
    "version": 3
   },
   "file_extension": ".py",
   "mimetype": "text/x-python",
   "name": "python",
   "nbconvert_exporter": "python",
   "pygments_lexer": "ipython3",
   "version": "3.10.2"
  },
  "orig_nbformat": 4
 },
 "nbformat": 4,
 "nbformat_minor": 2
}
